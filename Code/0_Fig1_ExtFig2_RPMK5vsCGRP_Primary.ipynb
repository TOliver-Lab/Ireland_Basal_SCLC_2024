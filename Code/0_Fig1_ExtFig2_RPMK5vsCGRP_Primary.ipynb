{
 "cells": [
  {
   "cell_type": "markdown",
   "id": "3461e41b-0602-454c-8c7a-327ff986f12a",
   "metadata": {},
   "source": [
    "# Analysis of RPM K5-Cre vs CGRP-Cre primary tumors\n",
    "## Ireland et al 2024 BioRxiv\n",
    "### Fig 1"
   ]
  },
  {
   "cell_type": "markdown",
   "id": "5a970846-19ee-4ddb-b4ef-8ae02cef47bb",
   "metadata": {},
   "source": [
    "### 1. Prep environment"
   ]
  },
  {
   "cell_type": "code",
   "execution_count": null,
   "id": "c490dddc-4f3a-431c-afa3-96cb31bf8b5d",
   "metadata": {},
   "outputs": [],
   "source": [
    "#Import other relevant packages\n",
    "import numpy as np\n",
    "import pandas as pd\n",
    "from matplotlib import rcParams\n",
    "import os\n",
    "import scanpy as sc\n",
    "\n",
    "import matplotlib as mpl\n",
    "import matplotlib.pyplot as plt\n",
    "\n",
    "#For nice color schemes\n",
    "import cmocean\n",
    "\n",
    "#For barplots\n",
    "import seaborn as sns"
   ]
  },
  {
   "cell_type": "code",
   "execution_count": null,
   "id": "b0b52865-e8f9-4503-b7d5-90abb2b6af86",
   "metadata": {},
   "outputs": [],
   "source": [
    "#Import scVI\n",
    "import scvi\n",
    "from scvi.model.utils import mde\n",
    "\n",
    "scvi.settings.verbosity = 40"
   ]
  },
  {
   "cell_type": "code",
   "execution_count": null,
   "id": "7a0153ba-4c21-4a02-876f-73d816099537",
   "metadata": {},
   "outputs": [],
   "source": [
    "sc.settings.verbosity = 3             # verbosity: errors (0), warnings (1), info (2), hints (3)\n",
    "sc.logging.print_header()\n",
    "sc.settings.set_figure_params(dpi=80, facecolor='white')"
   ]
  },
  {
   "cell_type": "code",
   "execution_count": null,
   "id": "f228d57f-8340-4b3a-87e4-800615293db1",
   "metadata": {},
   "outputs": [],
   "source": [
    "# Read \n",
    "os.chdir('/work/asi16')"
   ]
  },
  {
   "cell_type": "markdown",
   "id": "90923941-d7b8-497a-bb4e-6d00ae367510",
   "metadata": {},
   "source": [
    "### 2. Load in data and concatenate"
   ]
  },
  {
   "cell_type": "code",
   "execution_count": null,
   "id": "c9caec7b-93cd-4b27-ae4e-de4044e206cd",
   "metadata": {},
   "outputs": [],
   "source": [
    "# Read in new RPMA TBO Allograft sample and re-aligned RPM TBO Allo samples\n",
    "RPM1=sc.read_10x_mtx('RPM_CGRP/RPM_CGRP_15844X2_Custom_073024/outs/filtered_feature_bc_matrix', var_names='gene_symbols', cache=True)\n",
    "RPM2=sc.read_10x_mtx('RPM_CGRP/RPM_CGRP_17520X1_CustomCount_073024/outs/filtered_feature_bc_matrix', var_names='gene_symbols', cache=True)\n",
    "RPM3=sc.read_10x_mtx('RPM_CGRP/RPM_CGRP_17751X1_Custom2_073024/outs/filtered_feature_bc_matrix', var_names='gene_symbols', cache=True)\n",
    "RPM4=sc.read_10x_mtx('RPM_CGRP/RPM_CGRP_17751X2_CustomCount2_073024/outs/filtered_feature_bc_matrix', var_names='gene_symbols', cache=True)\n",
    "RPM5=sc.read_10x_mtx('082324_18571X2_RPMEarly/outs/filtered_feature_bc_matrix', var_names='gene_symbols', cache=True)\n",
    "\n",
    "RPMK5t=sc.read_10x_mtx('07_2024_RPMK5/AI652_RPMK5_CustomCount_072324/outs/per_sample_outs/AI652_RPMK5_Tracheal/count/sample_filtered_feature_bc_matrix', var_names='gene_symbols', cache=True)\n",
    "RPMK5c=sc.read_10x_mtx('07_2024_RPMK5/AI652_RPMK5_CustomCount_072324/outs/per_sample_outs/AI652_RPMK5_Central/count/sample_filtered_feature_bc_matrix', var_names='gene_symbols', cache=True)\n",
    "RPMK5=sc.read_10x_mtx('07_2024_RPMK5/AI651_RPMK5_Total_CustomCount_072424/outs/filtered_feature_bc_matrix', var_names='gene_symbols', cache=True)\n"
   ]
  },
  {
   "cell_type": "code",
   "execution_count": null,
   "id": "973a59b9-db3f-42d9-ad5a-041bd7a54cdb",
   "metadata": {},
   "outputs": [],
   "source": [
    "# Add metadata to allografts\n",
    "RPM1.obs['Genotype'] = 'RPM'\n",
    "RPM1.obs['Cre'] = 'CGRP'\n",
    "RPM1.obs['UnID'] = 'RPM_CGRP'\n",
    "RPM1.obs['GenoCre'] = 'RPM_CGRP'\n",
    "RPM1.obs['UnID'] = 'RPM_CGRP1'\n",
    "RPM1.obs['Batch'] = 'RPM_CGRP1'\n",
    "\n",
    "RPM2.obs['Genotype'] = 'RPM'\n",
    "RPM2.obs['Cre'] = 'CGRP'\n",
    "RPM2.obs['UnID'] = 'RPM_CGRP'\n",
    "RPM2.obs['GenoCre'] = 'RPM_CGRP'\n",
    "RPM2.obs['UnID'] = 'RPM_CGRP2'\n",
    "RPM2.obs['Batch'] = 'RPM_CGRP2'\n",
    "\n",
    "RPM3.obs['Genotype'] = 'RPM'\n",
    "RPM3.obs['Cre'] = 'CGRP'\n",
    "RPM3.obs['UnID'] = 'RPM_CGRP'\n",
    "RPM3.obs['GenoCre'] = 'RPM_CGRP'\n",
    "RPM3.obs['UnID'] = 'RPM_CGRP3'\n",
    "RPM3.obs['Batch'] = 'RPM_CGRP3'\n",
    "\n",
    "RPM4.obs['Genotype'] = 'RPM'\n",
    "RPM4.obs['Cre'] = 'CGRP'\n",
    "RPM4.obs['UnID'] = 'RPM_CGRP'\n",
    "RPM4.obs['GenoCre'] = 'RPM_CGRP'\n",
    "RPM4.obs['UnID'] = 'RPM_CGRP4'\n",
    "RPM4.obs['Batch'] = 'RPM_CGRP4'\n",
    "\n",
    "RPM5.obs['Genotype'] = 'RPM'\n",
    "RPM5.obs['Cre'] = 'CGRP'\n",
    "RPM5.obs['GenoCre'] = 'RPM_CGRP'\n",
    "RPM5.obs['UnID'] = 'RPM_CGRP5'\n",
    "RPM5.obs['Batch'] = 'RPM_CGRP5'\n",
    "\n",
    "\n",
    "RPMK5t.obs['Genotype'] = 'RPM'\n",
    "RPMK5t.obs['Cre'] = 'K5'\n",
    "RPMK5t.obs['GenoCre'] = 'RPM_K5'\n",
    "RPMK5t.obs['UnID'] = 'RPM_K5t'\n",
    "RPMK5t.obs['Batch'] = 'RPM_K5_multi'\n",
    "\n",
    "RPMK5c.obs['Genotype'] = 'RPM'\n",
    "RPMK5c.obs['Cre'] = 'K5'\n",
    "RPMK5c.obs['GenoCre'] = 'RPM_K5'\n",
    "RPMK5c.obs['UnID'] = 'RPM_K5c'\n",
    "RPMK5c.obs['Batch'] = 'RPM_K5_multi'\n",
    "\n",
    "RPMK5.obs['Genotype'] = 'RPM'\n",
    "RPMK5.obs['Cre'] = 'K5'\n",
    "RPMK5.obs['GenoCre'] = 'RPM_K5'\n",
    "RPMK5.obs['UnID'] = 'RPM_K5_total'\n",
    "RPMK5.obs['Batch'] = 'RPM_K5_total'\n"
   ]
  },
  {
   "cell_type": "code",
   "execution_count": null,
   "id": "25ff6bd3-5bbc-4058-bbc8-7fa26389be02",
   "metadata": {},
   "outputs": [],
   "source": [
    "#Concatenate datasets and check groupings \n",
    "adata= RPM1.concatenate([RPM2, RPM3, RPM4, RPM5, RPMK5t, RPMK5c, RPMK5], index_unique=None, join=\"outer\")\n",
    "\n",
    "adata.obs.groupby([\"UnID\"]).apply(len)"
   ]
  },
  {
   "cell_type": "code",
   "execution_count": null,
   "id": "d024dc1b-3269-45bf-9b16-a761a6d5474a",
   "metadata": {},
   "outputs": [],
   "source": [
    "adata.obs.groupby([\"GenoCre\"]).apply(len)\n"
   ]
  },
  {
   "cell_type": "code",
   "execution_count": null,
   "id": "f70a7b64-4c35-493f-b8f0-ad590abbabc3",
   "metadata": {},
   "outputs": [],
   "source": [
    "adata.obs.groupby([\"Batch\"]).apply(len)"
   ]
  },
  {
   "cell_type": "code",
   "execution_count": null,
   "id": "6378a943-a364-4b83-9ac8-179061680c0d",
   "metadata": {},
   "outputs": [],
   "source": [
    "adata"
   ]
  },
  {
   "cell_type": "markdown",
   "id": "9013019f-d51c-460b-89b2-5189f1a9bb7f",
   "metadata": {},
   "source": [
    "### 3. Perform QC "
   ]
  },
  {
   "cell_type": "code",
   "execution_count": null,
   "id": "2039b23f-8c74-4b10-9859-c5693d58c217",
   "metadata": {},
   "outputs": [],
   "source": [
    "#QC filtering\n",
    "adata.var['mito'] = adata.var_names.str.startswith('mt-')  # annotate the group of mitochondrial genes as 'mt'\n",
    "sc.pp.calculate_qc_metrics(adata, qc_vars=['mito'], percent_top=None, log1p=False, inplace=True)"
   ]
  },
  {
   "cell_type": "code",
   "execution_count": null,
   "id": "ba8d7fe1-46eb-4397-b22d-3599481a02f8",
   "metadata": {},
   "outputs": [],
   "source": [
    "#QC filtering RPMA RPM only scanpy flow\n",
    "sc.pp.filter_cells(adata, min_genes=200)\n",
    "\n",
    "adata.var['mito'] = adata.var_names.str.startswith('mt-')  # annotate the group of mitochondrial genes as 'mt'\n",
    "sc.pp.calculate_qc_metrics(adata, qc_vars=['mito'], percent_top=None, log1p=False, inplace=True)"
   ]
  },
  {
   "cell_type": "code",
   "execution_count": null,
   "id": "2acdddb7-0234-4165-997b-6aba1a7f31da",
   "metadata": {},
   "outputs": [],
   "source": [
    "sc.pl.violin(adata, ['n_genes_by_counts', 'total_counts', 'pct_counts_mito'],\n",
    "             jitter=0.4, multi_panel=True)\n",
    "sc.pl.scatter(adata, x='total_counts', y='pct_counts_mito')\n",
    "sc.pl.scatter(adata, x='total_counts', y='n_genes_by_counts')"
   ]
  },
  {
   "cell_type": "code",
   "execution_count": null,
   "id": "5b052508-e4fe-4147-9135-942064632284",
   "metadata": {},
   "outputs": [],
   "source": [
    "#Filter data by slicing anndata object\n",
    "adata = adata[adata.obs.n_genes_by_counts < 10000, :]\n",
    "adata = adata[adata.obs.n_genes_by_counts > 2000, :]\n",
    "adata = adata[adata.obs.total_counts > 1000, :]\n",
    "adata = adata[adata.obs.pct_counts_mito < 15, :]"
   ]
  },
  {
   "cell_type": "code",
   "execution_count": null,
   "id": "55fcce07-0432-497e-8962-7be6636efbae",
   "metadata": {},
   "outputs": [],
   "source": [
    "#Prep for HVG and scvi\n",
    "#log1p the data\n",
    "adata.obs[\"log1p_total_counts\"] = np.log1p(adata.obs[\"total_counts\"])"
   ]
  },
  {
   "cell_type": "code",
   "execution_count": null,
   "id": "c5475c53-77d4-498a-9aec-5c3fa969feec",
   "metadata": {},
   "outputs": [],
   "source": [
    "#Create layers\n",
    "adata.layers[\"counts\"] = adata.X.copy()\n",
    "adata.layers['norm'] = adata.X.copy(); sc.pp.normalize_total(adata, target_sum=1e4, layer=\"norm\")"
   ]
  },
  {
   "cell_type": "markdown",
   "id": "6bf2f6f2-ee9f-4303-a602-70db7d04ac92",
   "metadata": {},
   "source": [
    "### 4. Set up and train model (scvi)"
   ]
  },
  {
   "cell_type": "code",
   "execution_count": null,
   "id": "fc3de487-b35c-4446-ab69-7c33a6c17a9c",
   "metadata": {},
   "outputs": [],
   "source": [
    "# ID HVG via Scanpy\n",
    "\n",
    "sc.pp.highly_variable_genes(\n",
    "    adata,n_top_genes=10000,\n",
    "    subset=False,\n",
    "    layer=\"counts\",\n",
    "    flavor=\"seurat_v3\",\n",
    "    batch_key=\"Batch\"\n",
    ")"
   ]
  },
  {
   "cell_type": "code",
   "execution_count": null,
   "id": "cb710c55-b4c5-4424-89df-4c8837b0d5e8",
   "metadata": {},
   "outputs": [],
   "source": [
    "# Prepare model with appropriate batch key (using all genes first)\n",
    "\n",
    "scvi.model.SCVI.setup_anndata(\n",
    "    adata,\n",
    "    layer=\"counts\",\n",
    "    batch_key='Batch',\n",
    "    continuous_covariate_keys=[\"pct_counts_mito\"]\n",
    ")\n"
   ]
  },
  {
   "cell_type": "code",
   "execution_count": null,
   "id": "4f64ca14-427a-424d-992d-e0d4ac265db2",
   "metadata": {},
   "outputs": [],
   "source": [
    "# Train and run model\n",
    "model = scvi.model.SCVI(adata)"
   ]
  },
  {
   "cell_type": "code",
   "execution_count": null,
   "id": "98d86f20-7cbe-46ec-a9cd-1e10a19228cf",
   "metadata": {},
   "outputs": [],
   "source": [
    "model.train()"
   ]
  },
  {
   "cell_type": "code",
   "execution_count": null,
   "id": "ca8cd224-6abf-4d34-a0be-5d7a0d7ea744",
   "metadata": {},
   "outputs": [],
   "source": [
    "#Fit model to data\n",
    "#Get latent representation of model to apply to UMAP\n",
    "latent = model.get_latent_representation()\n",
    "\n",
    "adata.obsm[\"X_scVI_1.1\"] = latent"
   ]
  },
  {
   "cell_type": "markdown",
   "id": "34a023e8-ab2b-42a0-abcd-d24ef5ad21e1",
   "metadata": {},
   "source": [
    "### 5. Perform leiden clustering"
   ]
  },
  {
   "cell_type": "code",
   "execution_count": null,
   "id": "31b97abd-26c5-425d-8c5a-fda036b8fa6a",
   "metadata": {},
   "outputs": [],
   "source": [
    "#Calculate neighbors using scVI model input\n",
    "sc.pp.neighbors(adata, use_rep=\"X_scVI_1.1\")\n",
    "sc.tl.umap(adata, min_dist=0.5)\n",
    "\n",
    "#Run leiden clustering based on neighbors\n",
    "sc.tl.leiden(adata, key_added=\"leiden_scVI_1.1\", resolution=1)"
   ]
  },
  {
   "cell_type": "code",
   "execution_count": null,
   "id": "fb4b6fcd-c61d-4323-937c-2f5bb5bef1fb",
   "metadata": {},
   "outputs": [],
   "source": [
    "#QC UMAPs\n",
    "sc.pl.umap(\n",
    "    adata,\n",
    "    color=[\"n_genes_by_counts\", \"total_counts\", \"pct_counts_mito\", \"log1p_total_counts\"],\n",
    "    cmap=\"cubehelix_r\",\n",
    "    s=3,\n",
    "    ncols=2,\n",
    ")"
   ]
  },
  {
   "cell_type": "code",
   "execution_count": null,
   "id": "405caf9f-4597-4eaa-85fa-252fb3f6c1a9",
   "metadata": {},
   "outputs": [],
   "source": [
    "# Other UMAPs\n",
    "\n",
    "fig, ax = plt.subplots(figsize=(8, 6))\n",
    "sc.pl.umap(adata, color=\"Genotype\", cmap=\"cmo.matter\", s=30, ax=ax, vmax=\"p99.99\", frameon=False, save=False)\n",
    "fig, ax = plt.subplots(figsize=(8, 6))\n",
    "sc.pl.umap(adata, color=\"leiden_scVI_1.1\", legend_loc=\"on data\", legend_fontsize='large',ax=ax, s=30, frameon=False, save=False)\n",
    "fig, ax = plt.subplots(figsize=(8, 6))\n",
    "sc.pl.umap(adata, color=\"GenoCre\", legend_loc=\"right margin\", ax=ax, s=30, frameon=False, save=False, palette=['purple','orange'])\n",
    "fig, ax = plt.subplots(figsize=(8, 6))\n",
    "sc.pl.umap(adata, color=\"Batch\", legend_loc=\"right margin\", ax=ax, s=30, frameon=False, save=False)\n",
    "\n",
    "\n",
    "#Additional QC bar graphs\n",
    "adata.obs['cluster'] = adata.obs[\"leiden_scVI_1.1\"].copy()\n",
    "\n",
    "#Plot Log1p total counts\n",
    "fig, ax = plt.subplots(figsize=(20,6))\n",
    "sns.boxenplot(data=adata.obs, x=\"cluster\", y=\"log1p_total_counts\", ax=ax)\n",
    "\n",
    "#Plot Pct counts mito\n",
    "fig, ax = plt.subplots(figsize=(20,6))\n",
    "sns.boxenplot(data=adata.obs, x=\"cluster\", y=\"pct_counts_mito\", ax=ax)"
   ]
  },
  {
   "cell_type": "code",
   "execution_count": null,
   "id": "64b85381-190e-42bc-8c5e-b6a22a0f673b",
   "metadata": {},
   "outputs": [],
   "source": [
    "adata.write_h5ad(\"082424_adata_RPM_K5vCGRP.h5ad\")"
   ]
  },
  {
   "cell_type": "code",
   "execution_count": null,
   "id": "6077f3b6-ca27-4e67-ab5b-744863185613",
   "metadata": {},
   "outputs": [],
   "source": [
    "adata=sc.read_h5ad(\"082324_adata_RPM_K5vCGRP.h5ad\")"
   ]
  },
  {
   "cell_type": "markdown",
   "id": "150452a9-112c-462c-bf0f-c8036478a355",
   "metadata": {},
   "source": [
    "### 6. Visualize gene expression, top DEGs, QC metrics and remove non-tumor clusters"
   ]
  },
  {
   "cell_type": "code",
   "execution_count": null,
   "id": "9cea29a1-673d-432c-9203-aa4951da86a2",
   "metadata": {},
   "outputs": [],
   "source": [
    "#Feature plots for key non-tumor and tumor genes\n",
    "\n",
    "more_types=[\"Ptprc\",\"Pecam1\",\"Acta2\", #immune\n",
    "             \"Venus\",\"fLuc\", \"Top2a\",\"Mki67\", #Prolif/Tumor\n",
    "            'Ascl1','Neurod1','Pou2f3'] # SCLC subtype/Tumor markers\n",
    "\n",
    "sc.pl.umap(\n",
    "    adata,\n",
    "    color=more_types,\n",
    "    use_raw=False,\n",
    "    legend_loc= \"on data\",\n",
    "    color_map=\"cmo.dense\",\n",
    "    ncols=4,\n",
    "    frameon=False,\n",
    "    layer=\"norm\",\n",
    "    save=False\n",
    ")"
   ]
  },
  {
   "cell_type": "code",
   "execution_count": null,
   "id": "e3fb3195-a277-4832-a0e1-ce23740b222b",
   "metadata": {},
   "outputs": [],
   "source": [
    "# Find cluster markers for each leiden cluster to aid filtering\n",
    "sc.tl.rank_genes_groups(adata, 'leiden_scVI_1.1', method='wilcoxon', layer='norm', use_raw=False)\n",
    "pd.DataFrame(adata.uns['rank_genes_groups']['names']).head(50)"
   ]
  },
  {
   "cell_type": "code",
   "execution_count": null,
   "id": "8afd8854-6fcd-44d7-8ab2-e87b14d1c39b",
   "metadata": {},
   "outputs": [],
   "source": [
    "#Identify and subset out low qual, plot doublets, and obvious non-tumor clusters (ptprc+)\n",
    "# Immune is 27, 17, 16, 28, 26, 5, 9\n",
    "#Endothelial is 12, 25\n",
    "\n",
    "bad_clust=['27','17','16','28','26','5','9','12','25']\n",
    "\n",
    "#Filter out bad/non-tumor clusters\n",
    "to_keep=(~adata.obs['leiden_scVI_1.1'].isin(bad_clust))\n",
    "\n",
    "#Copy over to new anndata object\n",
    "adata_2 = adata[to_keep].copy()"
   ]
  },
  {
   "cell_type": "markdown",
   "id": "acd62ff5-ea78-46ab-96fc-9c00ff2aa5fe",
   "metadata": {},
   "source": [
    "#### From here, continue iterating through runs of scvi modeling until no clear low quality cell clusters or non-tumor cells are observed.\n",
    "#### Start back up at \"set up and train scvi model\" and run through subsetting out \"bad clusters\". \n",
    "#### Each time clusters are removed, model is run again to recluster."
   ]
  },
  {
   "cell_type": "markdown",
   "id": "45f843f4-f633-48ec-9c70-c281ff1a1f60",
   "metadata": {},
   "source": [
    "## ITERATION 2"
   ]
  },
  {
   "cell_type": "code",
   "execution_count": null,
   "id": "df00add9-0f1b-48e2-9948-5170af8f09a3",
   "metadata": {},
   "outputs": [],
   "source": [
    "# ID HVG via Scanpy\n",
    "\n",
    "sc.pp.highly_variable_genes(\n",
    "    adata_2,n_top_genes=10000,\n",
    "    subset=False,\n",
    "    layer=\"counts\",\n",
    "    flavor=\"seurat_v3\",\n",
    "    batch_key=\"Batch\"\n",
    ")"
   ]
  },
  {
   "cell_type": "code",
   "execution_count": null,
   "id": "c9eb3fc6-e1d5-4211-be8c-089d58b9fa80",
   "metadata": {},
   "outputs": [],
   "source": [
    "# Set up model and train\n",
    "\n",
    "scvi.model.SCVI.setup_anndata(\n",
    "    adata_2,\n",
    "    layer=\"counts\",\n",
    "    batch_key='Batch',\n",
    "    continuous_covariate_keys=[\"pct_counts_mito\"]\n",
    ")\n",
    "model = scvi.model.SCVI(adata_2)\n",
    "model.train()"
   ]
  },
  {
   "cell_type": "code",
   "execution_count": null,
   "id": "26ff2e5c-7b4b-49cf-b6e5-ea2322a7efc0",
   "metadata": {},
   "outputs": [],
   "source": [
    "#Fit model to data\n",
    "#Get latent representation of model to apply to UMAP\n",
    "latent = model.get_latent_representation()\n",
    "\n",
    "adata_2.obsm[\"X_scVI_1.2\"] = latent"
   ]
  },
  {
   "cell_type": "code",
   "execution_count": null,
   "id": "4d60e16a-27fe-4bea-a676-b3bda357169f",
   "metadata": {},
   "outputs": [],
   "source": [
    "#Calculate neighbors using scVI model input\n",
    "sc.pp.neighbors(adata_2, use_rep=\"X_scVI_1.2\")\n",
    "sc.tl.umap(adata_2, min_dist=0.5)\n",
    "\n",
    "#Run leiden clustering based on neighbors\n",
    "sc.tl.leiden(adata_2, key_added=\"leiden_scVI_1.2\", resolution=1)"
   ]
  },
  {
   "cell_type": "code",
   "execution_count": null,
   "id": "40dab9e6-4477-47a3-91c4-1a92ce4b3aca",
   "metadata": {},
   "outputs": [],
   "source": [
    "#QC UMAPs\n",
    "sc.pl.umap(\n",
    "    adata_2,\n",
    "    color=[\"n_genes_by_counts\", \"total_counts\", \"pct_counts_mito\", \"log1p_total_counts\"],\n",
    "    cmap=\"cubehelix_r\",\n",
    "    s=3,\n",
    "    ncols=2,\n",
    ")"
   ]
  },
  {
   "cell_type": "code",
   "execution_count": null,
   "id": "05cd131e-2148-4b89-92f0-297c0081cba7",
   "metadata": {},
   "outputs": [],
   "source": [
    "# Feature plots\n",
    "\n",
    "more_types=[\"Ptprc\",\"Pecam1\",\"Acta2\",\"fLuc\", \"Top2a\",\"Mki67\",\n",
    "            'Ascl1','Neurod1','Pou2f3','EGFP'] # Tumor markers\n",
    "\n",
    "sc.pl.umap(\n",
    "    adata_2,\n",
    "    color=more_types,\n",
    "    use_raw=False,\n",
    "    legend_loc= \"on data\",\n",
    "    color_map=\"cmo.dense\",\n",
    "    ncols=4,\n",
    "    frameon=False,\n",
    "    layer=\"norm\",\n",
    "    save=False\n",
    ")"
   ]
  },
  {
   "cell_type": "code",
   "execution_count": null,
   "id": "e1d80763-2e66-4f47-bdad-cb2e33050c43",
   "metadata": {},
   "outputs": [],
   "source": [
    "adata_2.write_h5ad(\"08.24.24_RPM_K5vCGRP_adata2.h5ad\")"
   ]
  },
  {
   "cell_type": "code",
   "execution_count": null,
   "id": "c97556d7-2db2-4b3e-a5a5-cf712e41342a",
   "metadata": {},
   "outputs": [],
   "source": [
    "adata_2=sc.read_h5ad(\"08.24.24_RPM_K5vCGRP_adata2.h5ad\")"
   ]
  },
  {
   "cell_type": "code",
   "execution_count": null,
   "id": "a502139a-2777-4d7c-83df-d7058ee2a8e9",
   "metadata": {},
   "outputs": [],
   "source": [
    "# Plot additional UMAPs\n",
    "\n",
    "fig, ax = plt.subplots(figsize=(6, 6))\n",
    "sc.pl.umap(adata_2, color=\"Genotype\", cmap=\"cmo.matter\", s=30, ax=ax, vmax=\"p99.99\", frameon=False, save=False)\n",
    "fig, ax = plt.subplots(figsize=(6, 6))\n",
    "sc.pl.umap(adata_2, color=\"leiden_scVI_1.2\", legend_loc=\"on data\", legend_fontsize='large',ax=ax, s=30, frameon=False, save=False)\n",
    "fig, ax = plt.subplots(figsize=(6, 6))\n",
    "sc.pl.umap(adata_2, color=\"GenoCre\", legend_loc=\"right margin\", ax=ax, s=30, frameon=False, save=False, palette=['purple','orange'])\n",
    "fig, ax = plt.subplots(figsize=(6, 6))\n",
    "sc.pl.umap(adata_2, color=\"UnID\", legend_loc=\"right margin\", ax=ax, s=30, frameon=False, save=False)\n",
    "\n",
    "\n",
    "\n",
    "#Additional QC bar graphs\n",
    "adata_2.obs['cluster'] = adata_2.obs[\"leiden_scVI_1.2\"].copy()\n",
    "\n",
    "#Plot Log1p total counts\n",
    "fig, ax = plt.subplots(figsize=(20,6))\n",
    "sns.boxenplot(data=adata_2.obs, x=\"cluster\", y=\"log1p_total_counts\", ax=ax)\n",
    "\n",
    "#Plot Pct counts mito\n",
    "fig, ax = plt.subplots(figsize=(20,6))\n",
    "sns.boxenplot(data=adata_2.obs, x=\"cluster\", y=\"pct_counts_mito\", ax=ax)"
   ]
  },
  {
   "cell_type": "code",
   "execution_count": null,
   "id": "2b0dbe56-1178-45f7-8fd4-83deff316aa6",
   "metadata": {
    "tags": []
   },
   "outputs": [],
   "source": [
    "# Check more extensively for non-tumor cells\n",
    "more_types=[\"Col14a1\", \"Acta2\",\"Myh11\",\"Tagln\",\"Mustn1\", #fibroblast\n",
    "              \"Lpl\",\"Lipa\",\"Pparg\",\"Plin2\",\"Ear1\",\"Fabp1\",\"Spp1\", #lipofibroblast/osteoblastic\n",
    "              \"Ptprc\",\"Mertk\",\"Marco\",\"Mrc1\",\"Ly75\",\"Adgre1\",\"Itgax\",\"Cd68\",\"Csf1r\",\"Mafb\",\"Msr1\",\"Arg1\",\"Adgre4\",\"Clec4a1\", #Macs/Myeloid\n",
    "              \"Cx3cr1\",\"Itgam\",\"Cd14\", #Monocytes\n",
    "              \"S100a9\",\"S100a8\",\"Mmp9\",\"Csf3r\",\"Cxcr2\",\"Ly6g\", #Neuts\n",
    "              \"Batf3\",\"Xcr1\",\"Clec9a\",\"Ccl17\",\"Ccl22\", #DC\n",
    "              \"Cd3d\",\"Cd3e\",\"Cd3g\",\"Cd28\",\"Cd8a\",\"Cd4\",\"Foxp3\", # Tcell\n",
    "              \"Gzma\",\"Ncr1\",\"Gzmb\", #NK\n",
    "              \"Fcmr\",\"Cd19\",\"Fcer2a\",\"Pax5\",\"Cd22\",\"Cd79b\",\"Cd79a\", #B cells\n",
    "              \"Slamf7\", \"Prdm1\", #Plasma\n",
    "              \"Mcam\",\"Pecam1\",\"Icam2\",\"Cd36\",\"Cd93\", #Endothelial\n",
    "    \"Pdpn\",\"Cav1\",\"Cav2\",\"Hopx\",\"Timp3\",\"Sema3f\",\"Serpine1\", #AT1\n",
    "              \"Abca3\",\"Muc1\",\"Sftpa1\",\"Sftpb\",\"Sftpd\",\"Scd1\", #AT2\n",
    "              \"Scgb1a1\",\"Cyp2f2\",\"Scgb3a2\", \"Scgb3a1\",\"Lypd2\",#Club\n",
    "              \"Muc5ac\",\"Muc5b\", # Goblet\n",
    "              \"Tubb4a\",\"Foxa3\",\"Foxj1\",\"Rfx2\",\"Rfx3\",\"Trp73\", #Ciliated\n",
    "              'Krt5', 'Krt17','Krt15','Trp63','Id1','Icam1','Epas1','Aqp3','Sfn','Perp','Fxyd3','Sdc1','Gstm2','F3','Abi3bp','Adh7', # Basal\n",
    "              'Bex2','Ascl1','Meis2','Hes6','Hoxb5','Foxa2','Sox4','Rora','Isl1','Id4', 'Neurod1','Neurod4','Nhlh1','Nhlh2',#NE/neuronal\n",
    "              'Pou2f3','Trpm5','Ascl2','Ehf',\n",
    "              'Lrmp','Gng13','Ltc4s','Alox5ap','Avil','Alox5','Atp2a3','Plk2', #tuft\n",
    "              \"Cftr\",\"Ascl3\", 'Stap1','Atp6v1c2','Pparg','Rasd1','Slc12a2', #ionocyte\n",
    "              \"Gja1\",\"Nkx2-1\",\"Epcam\", # Lung lineage\n",
    "              'Yap1','Wwtr1','Sox2','Cd44','Hes1', # Stem-like\n",
    "             \"Venus\",\"fLuc\", \"Top2a\",\"Mki67\"] # Tumor markers\n",
    "\n",
    "sc.pl.umap(\n",
    "    adata_2,\n",
    "    color=more_types,\n",
    "    use_raw=False,\n",
    "    legend_loc= \"on data\",\n",
    "    color_map=\"cmo.dense\",\n",
    "    ncols=4,\n",
    "    vmax=\"p99.5\",s=50,\n",
    "    frameon=False,\n",
    "    layer=\"norm\",\n",
    "    save=False\n",
    ")"
   ]
  },
  {
   "cell_type": "code",
   "execution_count": null,
   "id": "d9e93897-a020-4cf8-9f3d-a045019882dd",
   "metadata": {},
   "outputs": [],
   "source": [
    "# Find cluster markers for each leiden cluster to aid filtering\n",
    "sc.tl.rank_genes_groups(adata_2, 'leiden_scVI_1.2', method='wilcoxon', layer='norm', use_raw=False)\n",
    "pd.DataFrame(adata_2.uns['rank_genes_groups']['names']).head(50)"
   ]
  },
  {
   "cell_type": "code",
   "execution_count": null,
   "id": "110b6125-f9a4-4504-8c8a-658dbcbaec4c",
   "metadata": {},
   "outputs": [],
   "source": [
    "# Fibroblasts/endothelial C20 C14, C21\n",
    "# Immune is C6, \n",
    "# Regular lung cells s C17, C22\n",
    "\n",
    "bad_clust=['20','14','21','6','17','22']\n",
    "\n",
    "#Filter out bad clusters\n",
    "to_keep=(~adata_2.obs['leiden_scVI_1.2'].isin(bad_clust))\n",
    "\n",
    "#Copy over to new anndata object\n",
    "adata_3 = adata_2[to_keep].copy()"
   ]
  },
  {
   "cell_type": "code",
   "execution_count": null,
   "id": "af1e654a-58fe-4cd8-8e7d-f15d8567342a",
   "metadata": {},
   "outputs": [],
   "source": [
    "adata_3"
   ]
  },
  {
   "cell_type": "markdown",
   "id": "99d05858-da7a-43a1-a064-551c95275dd3",
   "metadata": {},
   "source": [
    "## ITERATION 3"
   ]
  },
  {
   "cell_type": "code",
   "execution_count": null,
   "id": "82c401cb-7851-4ed5-8e8a-462eac12bfa4",
   "metadata": {},
   "outputs": [],
   "source": [
    "# ID HVGs within new subsetted data via Scanpy\n",
    "\n",
    "sc.pp.highly_variable_genes(\n",
    "    adata_3,n_top_genes=10000,\n",
    "    subset=False,\n",
    "    layer=\"counts\",\n",
    "    flavor=\"seurat_v3\",\n",
    "    batch_key='Batch'\n",
    ")\n"
   ]
  },
  {
   "cell_type": "code",
   "execution_count": null,
   "id": "9092bc44-2e33-41ee-a2cc-d5798e927e76",
   "metadata": {},
   "outputs": [],
   "source": [
    "# Set up model\n",
    "\n",
    "scvi.model.SCVI.setup_anndata(\n",
    "    adata_3,\n",
    "    layer=\"counts\",\n",
    "    batch_key='Batch',\n",
    "    continuous_covariate_keys=[\"pct_counts_mito\"]\n",
    ")\n",
    "model = scvi.model.SCVI(adata_3)\n",
    "model.train()"
   ]
  },
  {
   "cell_type": "code",
   "execution_count": null,
   "id": "c29c4edb-b781-4188-a446-71b18961dbd2",
   "metadata": {},
   "outputs": [],
   "source": [
    "#Fit model to data\n",
    "#Get latent representation of model to apply to UMAP\n",
    "latent = model.get_latent_representation()\n",
    "\n",
    "adata_3.obsm[\"X_scVI_1.3\"] = latent"
   ]
  },
  {
   "cell_type": "code",
   "execution_count": null,
   "id": "c02f14c7-8d50-428d-a072-5e765aa4dc06",
   "metadata": {},
   "outputs": [],
   "source": [
    "#Calculate neighbors using scVI model input\n",
    "sc.pp.neighbors(adata_3, use_rep=\"X_scVI_1.3\")\n",
    "sc.tl.umap(adata_3, min_dist=0.5)\n",
    "\n",
    "#Run leiden clustering based on neighbors\n",
    "sc.tl.leiden(adata_3, key_added=\"leiden_scVI_1.3\", resolution=1)"
   ]
  },
  {
   "cell_type": "code",
   "execution_count": null,
   "id": "5d3c192b-72fd-4da8-b00b-6cf90f36a696",
   "metadata": {},
   "outputs": [],
   "source": [
    "fig, ax = plt.subplots(figsize=(6, 6))\n",
    "sc.pl.umap(adata_3, color=\"leiden_scVI_1.3\", legend_loc=\"on data\", legend_fontsize='large',ax=ax, s=50, frameon=False, save=False)\n"
   ]
  },
  {
   "cell_type": "code",
   "execution_count": null,
   "id": "bac59664-41cf-44d5-a328-819712dfa30a",
   "metadata": {},
   "outputs": [],
   "source": [
    "adata_3.obs.groupby([\"GenoCre\"]).apply(len)"
   ]
  },
  {
   "cell_type": "code",
   "execution_count": null,
   "id": "dcc3c19c-0154-452b-aae9-91640a8974b6",
   "metadata": {},
   "outputs": [],
   "source": [
    "fig, ax = plt.subplots(figsize=(6, 6))\n",
    "sc.pl.umap(adata_3, color=\"Batch\", cmap=\"cmo.matter\", s=10, ax=ax, vmax=\"p99.99\", frameon=False, save=False)\n",
    "fig, ax = plt.subplots(figsize=(6, 6))\n",
    "sc.pl.umap(adata_3, color=\"leiden_scVI_1.3\", legend_loc=\"on data\", legend_fontsize='large',ax=ax, s=10, frameon=False, save=False)\n",
    "fig, ax = plt.subplots(figsize=(6, 6))\n",
    "sc.pl.umap(adata_3, color=\"GenoCre\", legend_loc=\"right margin\", ax=ax, s=10, frameon=False, save=False, palette=['purple','orange'])\n",
    "fig, ax = plt.subplots(figsize=(6, 6))\n",
    "sc.pl.umap(adata_3, color=\"UnID\", legend_loc=\"right margin\", ax=ax, s=10, frameon=False, save=False)\n",
    "\n",
    "\n",
    "\n",
    "#Additional QC bar graphs\n",
    "adata_3.obs['cluster'] = adata_3.obs[\"leiden_scVI_1.3\"].copy()\n",
    "\n",
    "#Plot Log1p total counts\n",
    "fig, ax = plt.subplots(figsize=(20,6))\n",
    "sns.boxenplot(data=adata_3.obs, x=\"cluster\", y=\"log1p_total_counts\", ax=ax)\n",
    "\n",
    "#Plot Pct counts mito\n",
    "fig, ax = plt.subplots(figsize=(20,6))\n",
    "sns.boxenplot(data=adata_3.obs, x=\"cluster\", y=\"pct_counts_mito\", ax=ax)"
   ]
  },
  {
   "cell_type": "code",
   "execution_count": null,
   "id": "9d097e07-6ebb-4a60-a174-a85b6889e2a7",
   "metadata": {},
   "outputs": [],
   "source": [
    "more_types=[\"Col14a1\", \"Acta2\",\"Myh11\",\"Tagln\",\"Mustn1\", #fibroblast\n",
    "              \"Lpl\",\"Lipa\",\"Pparg\",\"Plin2\",\"Ear1\",\"Fabp1\",\"Spp1\", #lipofibroblast/osteoblastic\n",
    "              \"Ptprc\",\"Mertk\",\"Marco\",\"Mrc1\",\"Ly75\",\"Adgre1\",\"Itgax\",\"Cd68\",\"Csf1r\",\"Mafb\",\"Msr1\",\"Arg1\",\"Adgre4\",\"Clec4a1\", #Macs/Myeloid\n",
    "              \"Cx3cr1\",\"Itgam\",\"Cd14\", #Monocytes\n",
    "              \"S100a9\",\"S100a8\",\"Mmp9\",\"Csf3r\",\"Cxcr2\",\"Ly6g\", #Neuts\n",
    "              \"Batf3\",\"Xcr1\",\"Clec9a\",\"Ccl17\",\"Ccl22\", #DC\n",
    "              \"Cd3d\",\"Cd3e\",\"Cd3g\",\"Cd28\",\"Cd8a\",\"Cd4\",\"Foxp3\", # Tcell\n",
    "              \"Gzma\",\"Ncr1\",\"Gzmb\", #NK\n",
    "              \"Fcmr\",\"Cd19\",\"Fcer2a\",\"Pax5\",\"Cd22\",\"Cd79b\",\"Cd79a\", #B cells\n",
    "              \"Slamf7\", \"Prdm1\", #Plasma\n",
    "              \"Mcam\",\"Pecam1\",\"Icam2\",\"Cd36\",\"Cd93\", #Endothelial\n",
    "    \"Pdpn\",\"Cav1\",\"Cav2\",\"Hopx\",\"Timp3\",\"Sema3f\",\"Serpine1\", #AT1\n",
    "              \"Abca3\",\"Muc1\",\"Sftpa1\",\"Sftpb\",\"Sftpd\",\"Scd1\", #AT2\n",
    "              \"Scgb1a1\",\"Cyp2f2\",\"Scgb3a2\", \"Scgb3a1\",\"Lypd2\",#Club\n",
    "              \"Muc5ac\",\"Muc5b\", # Goblet\n",
    "              \"Tubb4a\",\"Foxa3\",\"Foxj1\",\"Rfx2\",\"Rfx3\",\"Trp73\", #Ciliated\n",
    "              'Krt5', 'Krt17','Krt15','Trp63','Id1','Icam1','Epas1','Aqp3','Sfn','Perp','Fxyd3','Sdc1','Gstm2','F3','Abi3bp','Adh7', # Basal\n",
    "              'Bex2','Ascl1','Meis2','Hes6','Hoxb5','Foxa2','Sox4','Rora','Isl1','Id4', 'Neurod1','Neurod4','Nhlh1','Nhlh2',#NE/neuronal\n",
    "              'Pou2f3','Trpm5','Ascl2','Ehf',\n",
    "              'Lrmp','Gng13','Ltc4s','Alox5ap','Avil','Alox5','Atp2a3','Plk2', #tuft\n",
    "              \"Cftr\",\"Ascl3\", 'Stap1','Atp6v1c2','Pparg','Rasd1','Slc12a2', #ionocyte\n",
    "              \"Gja1\",\"Nkx2-1\",\"Epcam\", # Lung lineage\n",
    "              'Yap1','Wwtr1','Sox2','Cd44','Hes1', # Stem-like\n",
    "             \"Venus\",\"fLuc\", \"Top2a\",\"Mki67\"] # Tumor markers\n",
    "\n",
    "sc.pl.umap(\n",
    "    adata_3,\n",
    "    color=more_types,\n",
    "    use_raw=False,\n",
    "    legend_loc= \"on data\",\n",
    "    color_map=\"cmo.dense\",\n",
    "    ncols=4,\n",
    "    vmax=\"p99.5\",s=50,\n",
    "    frameon=False,\n",
    "    layer=\"norm\",\n",
    "    save=False\n",
    ")"
   ]
  },
  {
   "cell_type": "code",
   "execution_count": null,
   "id": "73353d8d-b6ac-4158-a78a-27058c3be0e5",
   "metadata": {
    "tags": []
   },
   "outputs": [],
   "source": [
    "adata_3"
   ]
  },
  {
   "cell_type": "code",
   "execution_count": null,
   "id": "8410d546-e797-4148-a819-2708f6c33ed1",
   "metadata": {},
   "outputs": [],
   "source": [
    "# Find cluster markers for each leiden cluster to aid filtering\n",
    "sc.tl.rank_genes_groups(adata_3, 'leiden_scVI_1.3', method='wilcoxon', layer='norm', use_raw=False)\n",
    "pd.DataFrame(adata_3.uns['rank_genes_groups']['names']).head(50)"
   ]
  },
  {
   "cell_type": "code",
   "execution_count": null,
   "id": "66209bd2-0c8a-44d2-92f7-ea136d708171",
   "metadata": {
    "tags": []
   },
   "outputs": [],
   "source": [
    "adata_3.write_h5ad(\"082524_RPM_CGRPvK5.h5ad\")"
   ]
  },
  {
   "cell_type": "code",
   "execution_count": null,
   "id": "f62d4fa2-a262-460f-97a8-79219f9f12a5",
   "metadata": {},
   "outputs": [],
   "source": [
    "adata_3=sc.read_h5ad(\"082424_RPM_CGRPvK5.h5ad\")"
   ]
  },
  {
   "cell_type": "code",
   "execution_count": null,
   "id": "540378ec-85fe-4f22-95d1-cd1a4c3c26ed",
   "metadata": {},
   "outputs": [],
   "source": [
    "#Identify and subset out low qual, plot doublets, and obvious non-tumor clusters (ptprc+)\n",
    "# Immune/fibro 10 20\n",
    "\n",
    "bad_clust=['10','20']\n",
    "\n",
    "#Filter out bad clusters\n",
    "to_keep=(~adata_3.obs['leiden_scVI_1.3'].isin(bad_clust))\n",
    "\n",
    "#Copy over to new anndata object\n",
    "adata_4 = adata_3[to_keep].copy()"
   ]
  },
  {
   "cell_type": "markdown",
   "id": "2bb85731-a22c-445d-9993-c5baec38bc95",
   "metadata": {},
   "source": [
    "## ITERATION 4"
   ]
  },
  {
   "cell_type": "code",
   "execution_count": null,
   "id": "5eff599c-0510-4158-b854-0c70f75a3c21",
   "metadata": {},
   "outputs": [],
   "source": [
    "#HVG via Scanpy\n",
    "#Note here that if you run with a batch_key with few cells, will get b'reciprocal condition number error\n",
    "sc.pp.highly_variable_genes(\n",
    "    adata_4,n_top_genes=10000,\n",
    "    subset=False,\n",
    "    layer=\"counts\",\n",
    "    flavor=\"seurat_v3\",\n",
    "    batch_key=\"Batch\"\n",
    ")"
   ]
  },
  {
   "cell_type": "code",
   "execution_count": null,
   "id": "fc0bd8bc-8cd1-4532-aaa1-c4ab8dc5db22",
   "metadata": {},
   "outputs": [],
   "source": [
    "scvi.model.SCVI.setup_anndata(\n",
    "    adata_4,\n",
    "    layer=\"counts\",\n",
    "    batch_key='Batch',\n",
    "    continuous_covariate_keys=[\"pct_counts_mito\"]\n",
    ")\n",
    "\n",
    "\n",
    "model = scvi.model.SCVI(adata_4)\n",
    "model.train()"
   ]
  },
  {
   "cell_type": "code",
   "execution_count": null,
   "id": "c6d5c018-dbc4-4d49-af81-24bb564c9aec",
   "metadata": {},
   "outputs": [],
   "source": [
    "#Fit model to data\n",
    "#Get latent representation of model to apply to UMAP\n",
    "latent = model.get_latent_representation()\n",
    "\n",
    "adata_4.obsm[\"X_scVI_1.4\"] = latent"
   ]
  },
  {
   "cell_type": "code",
   "execution_count": null,
   "id": "6a3203ec-bbc9-45d3-8581-fe26b8bf0d02",
   "metadata": {},
   "outputs": [],
   "source": [
    "#Calculate neighbors using scVI model input\n",
    "sc.pp.neighbors(adata_4, use_rep=\"X_scVI_1.4\")\n",
    "sc.tl.umap(adata_4, min_dist=0.5)\n",
    "\n",
    "#Run leiden clustering based on neighbors\n",
    "sc.tl.leiden(adata_4, key_added=\"leiden_scVI_1.4\", resolution=1)"
   ]
  },
  {
   "cell_type": "code",
   "execution_count": null,
   "id": "c9d2a2f9-8371-4dc4-aa7b-efab08e0ac63",
   "metadata": {},
   "outputs": [],
   "source": [
    "#QC UMAPs\n",
    "sc.pl.umap(\n",
    "    adata_4,\n",
    "    color=[\"n_genes_by_counts\", \"total_counts\", \"pct_counts_mito\", \"log1p_total_counts\"],\n",
    "    cmap=\"cubehelix_r\",\n",
    "    s=3,\n",
    "    ncols=2,\n",
    ")"
   ]
  },
  {
   "cell_type": "code",
   "execution_count": null,
   "id": "855f2b12-ec2b-4d7b-a8da-102e86d8a599",
   "metadata": {},
   "outputs": [],
   "source": [
    "adata_4.write_h5ad(\"08.24.24_RPM_K5vCGRP_adata4.h5ad\")"
   ]
  },
  {
   "cell_type": "code",
   "execution_count": null,
   "id": "22b35839-3ce7-42de-8a3b-39dcb6f25a5c",
   "metadata": {},
   "outputs": [],
   "source": [
    "more_types=[\"Col14a1\", \"Acta2\",\"Myh11\",\"Tagln\",\"Mustn1\", #fibroblast\n",
    "              \"Lpl\",\"Lipa\",\"Pparg\",\"Plin2\",\"Ear1\",\"Fabp1\",\"Spp1\", #lipofibroblast/osteoblastic\n",
    "              \"Ptprc\",\"Mertk\",\"Marco\",\"Mrc1\",\"Ly75\",\"Adgre1\",\"Itgax\",\"Cd68\",\"Csf1r\",\"Mafb\",\"Msr1\",\"Arg1\",\"Adgre4\",\"Clec4a1\", #Macs/Myeloid\n",
    "              \"Cx3cr1\",\"Itgam\",\"Cd14\", #Monocytes\n",
    "              \"S100a9\",\"S100a8\",\"Mmp9\",\"Csf3r\",\"Cxcr2\",\"Ly6g\", #Neuts\n",
    "              \"Batf3\",\"Xcr1\",\"Clec9a\",\"Ccl17\",\"Ccl22\", #DC\n",
    "              \"Cd3d\",\"Cd3e\",\"Cd3g\",\"Cd28\",\"Cd8a\",\"Cd4\",\"Foxp3\", # Tcell\n",
    "              \"Gzma\",\"Ncr1\",\"Gzmb\", #NK\n",
    "              \"Fcmr\",\"Cd19\",\"Fcer2a\",\"Pax5\",\"Cd22\",\"Cd79b\",\"Cd79a\", #B cells\n",
    "              \"Slamf7\", \"Prdm1\", #Plasma\n",
    "              \"Mcam\",\"Pecam1\",\"Icam2\",\"Cd36\",\"Cd93\", #Endothelial\n",
    "    \"Pdpn\",\"Cav1\",\"Cav2\",\"Hopx\",\"Timp3\",\"Sema3f\",\"Serpine1\", #AT1\n",
    "              \"Abca3\",\"Muc1\",\"Sftpa1\",\"Sftpb\",\"Sftpd\",\"Scd1\", #AT2\n",
    "              \"Scgb1a1\",\"Cyp2f2\",\"Scgb3a2\", \"Scgb3a1\",\"Lypd2\",#Club\n",
    "              \"Muc5ac\",\"Muc5b\", # Goblet\n",
    "              \"Tubb4a\",\"Foxa3\",\"Foxj1\",\"Rfx2\",\"Rfx3\",\"Trp73\", #Ciliated\n",
    "              'Krt5', 'Krt17','Krt15','Trp63','Id1','Icam1','Epas1','Aqp3','Sfn','Perp','Fxyd3','Sdc1','Gstm2','F3','Abi3bp','Adh7', # Basal\n",
    "              'Bex2','Ascl1','Meis2','Hes6','Hoxb5','Foxa2','Sox4','Rora','Isl1','Id4', 'Neurod1','Neurod4','Nhlh1','Nhlh2',#NE/neuronal\n",
    "              'Pou2f3','Trpm5','Ascl2','Ehf',\n",
    "              'Lrmp','Gng13','Ltc4s','Alox5ap','Avil','Alox5','Atp2a3','Plk2', #tuft\n",
    "              \"Cftr\",\"Ascl3\", 'Stap1','Atp6v1c2','Pparg','Rasd1','Slc12a2', #ionocyte\n",
    "              \"Gja1\",\"Nkx2-1\",\"Epcam\", # Lung lineage\n",
    "              'Yap1','Wwtr1','Sox2','Cd44','Hes1', # Stem-like\n",
    "             \"Venus\",\"fLuc\", \"Top2a\",\"Mki67\"] # Tumor markers\n",
    "\n",
    "sc.pl.umap(\n",
    "    adata_4,\n",
    "    color=more_types,\n",
    "    use_raw=False,\n",
    "    legend_loc= \"on data\",\n",
    "    color_map=\"cmo.dense\",\n",
    "    ncols=4,\n",
    "    vmax=\"p99.5\",s=50,\n",
    "    frameon=False,\n",
    "    layer=\"norm\",\n",
    "    save=False\n",
    ")"
   ]
  },
  {
   "cell_type": "code",
   "execution_count": null,
   "id": "5b3ad251-1045-4750-871e-90211103c8d5",
   "metadata": {},
   "outputs": [],
   "source": [
    "# Find cluster markers for each leiden cluster to aid filtering\n",
    "sc.tl.rank_genes_groups(adata_4, 'leiden_scVI_1.4', method='wilcoxon', layer='norm', use_raw=False)\n",
    "pd.DataFrame(adata_4.uns['rank_genes_groups']['names']).head(50)"
   ]
  },
  {
   "cell_type": "code",
   "execution_count": null,
   "id": "6447be48-3dde-485f-8496-6ddad9635bc6",
   "metadata": {},
   "outputs": [],
   "source": [
    "fig, ax = plt.subplots(figsize=(6, 6))\n",
    "sc.pl.umap(adata_4, color=\"Batch\", cmap=\"cmo.matter\", s=10, ax=ax, vmax=\"p99.99\", frameon=False, save=False)\n",
    "fig, ax = plt.subplots(figsize=(6, 6))\n",
    "sc.pl.umap(adata_4, color=\"leiden_scVI_1.4\", legend_loc=\"on data\", legend_fontsize='large',ax=ax, s=10, frameon=False, save=False)\n",
    "fig, ax = plt.subplots(figsize=(6, 6))\n",
    "sc.pl.umap(adata_4, color=\"GenoCre\", legend_loc=\"right margin\", ax=ax, s=10, frameon=False, save=False, palette=['purple','orange'])\n",
    "fig, ax = plt.subplots(figsize=(6, 6))\n",
    "sc.pl.umap(adata_4, color=\"UnID\", legend_loc=\"right margin\", ax=ax, s=10, frameon=False, save=False)\n",
    "\n",
    "\n",
    "\n",
    "#Additional QC bar graphs\n",
    "adata_4.obs['cluster'] = adata_4.obs[\"leiden_scVI_1.4\"].copy()\n",
    "\n",
    "#Plot Log1p total counts\n",
    "fig, ax = plt.subplots(figsize=(20,6))\n",
    "sns.boxenplot(data=adata_4.obs, x=\"cluster\", y=\"log1p_total_counts\", ax=ax)\n",
    "\n",
    "#Plot Pct counts mito\n",
    "fig, ax = plt.subplots(figsize=(20,6))\n",
    "sns.boxenplot(data=adata_4.obs, x=\"cluster\", y=\"pct_counts_mito\", ax=ax)"
   ]
  },
  {
   "cell_type": "code",
   "execution_count": null,
   "id": "81abfd57-3a2e-4bc7-ae92-a3668dbd0996",
   "metadata": {},
   "outputs": [],
   "source": [
    "fig, ax = plt.subplots(figsize=(6, 6))\n",
    "sc.pl.umap(adata_4, color=\"leiden_scVI_1.4\", legend_loc=\"on data\", legend_fontsize='large',ax=ax, s=10, frameon=False, save=False)\n"
   ]
  },
  {
   "cell_type": "code",
   "execution_count": null,
   "id": "3b88f279-56b5-4c63-a6f6-59226b46a9c9",
   "metadata": {},
   "outputs": [],
   "source": [
    "#Identify and subset out low qual, plot doublets, and obvious non-tumor clusters (ptprc+)\n",
    "# Immune is 14 (T-cell)\n",
    "\n",
    "bad_clust=['14']\n",
    "\n",
    "#Filter out bad clusters\n",
    "to_keep=(~adata_4.obs['leiden_scVI_1.4'].isin(bad_clust))\n",
    "\n",
    "#Copy over to new anndata object\n",
    "adata_5 = adata_4[to_keep].copy()"
   ]
  },
  {
   "cell_type": "markdown",
   "id": "b6c505bb-4bbc-4771-9ed6-089f5a9e5e90",
   "metadata": {},
   "source": [
    "## ITERATION 5"
   ]
  },
  {
   "cell_type": "code",
   "execution_count": null,
   "id": "c6b36c80-3ecc-44d0-9901-486ff8b61bf6",
   "metadata": {},
   "outputs": [],
   "source": [
    "# ID HVG via Scanpy\n",
    "sc.pp.highly_variable_genes(\n",
    "    adata_5,n_top_genes=10000,\n",
    "    subset=False,\n",
    "    layer=\"counts\",\n",
    "    flavor=\"seurat_v3\",\n",
    "    batch_key=\"Batch\"\n",
    ")"
   ]
  },
  {
   "cell_type": "code",
   "execution_count": null,
   "id": "feaef264-e6f8-486e-8dc5-35fa79825e56",
   "metadata": {},
   "outputs": [],
   "source": [
    "scvi.model.SCVI.setup_anndata(\n",
    "    adata_5,\n",
    "    layer=\"counts\",\n",
    "    batch_key='Batch',\n",
    "    continuous_covariate_keys=[\"pct_counts_mito\"]\n",
    ")\n",
    "model = scvi.model.SCVI(adata_5)\n",
    "model.train()"
   ]
  },
  {
   "cell_type": "code",
   "execution_count": null,
   "id": "160a4ff8-9731-45e3-b1f4-305094690fc1",
   "metadata": {},
   "outputs": [],
   "source": [
    "#Fit model to data\n",
    "#Get latent representation of model to apply to UMAP\n",
    "latent = model.get_latent_representation()\n",
    "\n",
    "adata_5.obsm[\"X_scVI_1.5\"] = latent"
   ]
  },
  {
   "cell_type": "code",
   "execution_count": null,
   "id": "187bf65c-91db-40eb-b3d8-57c7f2b99f7d",
   "metadata": {},
   "outputs": [],
   "source": [
    "#Fit model to data\n",
    "#Get latent representation of model to apply to UMAP\n",
    "latent = model.get_latent_representation()\n",
    "\n",
    "adata_5.obsm[\"X_scVI_1.5\"] = latent\n",
    "#Calculate neighbors using scVI model input\n",
    "sc.pp.neighbors(adata_5, use_rep=\"X_scVI_1.5\")\n",
    "sc.tl.umap(adata_5, min_dist=0.75)\n",
    "\n",
    "#Run leiden clustering based on neighbors\n",
    "sc.tl.leiden(adata_5, key_added=\"leiden_scVI_1.5\", resolution=0.5)"
   ]
  },
  {
   "cell_type": "code",
   "execution_count": null,
   "id": "59c55020-8933-4fbb-8f60-24f37ccea9ed",
   "metadata": {},
   "outputs": [],
   "source": [
    "fig, ax = plt.subplots(figsize=(6, 6))\n",
    "sc.pl.umap(adata_5, color=\"leiden_scVI_1.5\", legend_loc=\"on data\", legend_fontsize='large',ax=ax, s=10, frameon=False, save=False)\n",
    "fig, ax = plt.subplots(figsize=(6, 6))\n",
    "sc.pl.umap(adata_5, color=\"UnID\", legend_loc=\"right margin\", ax=ax, s=10, frameon=False, save=False)\n",
    "fig, ax = plt.subplots(figsize=(6, 6))\n",
    "sc.pl.umap(adata_5, color=\"UnID\", legend_loc=\"right margin\", ax=ax, s=10, frameon=False, save=False)\n",
    "\n",
    "\n",
    "\n",
    "#Additional QC bar graphs\n",
    "adata_5.obs['cluster'] = adata_5.obs[\"leiden_scVI_1.5\"].copy()\n",
    "\n",
    "#Plot Log1p total counts\n",
    "fig, ax = plt.subplots(figsize=(20,6))\n",
    "sns.boxenplot(data=adata_5.obs, x=\"cluster\", y=\"log1p_total_counts\", ax=ax)\n",
    "\n",
    "#Plot Pct counts mito\n",
    "fig, ax = plt.subplots(figsize=(20,6))\n",
    "sns.boxenplot(data=adata_5.obs, x=\"cluster\", y=\"pct_counts_mito\", ax=ax)"
   ]
  },
  {
   "cell_type": "code",
   "execution_count": null,
   "id": "a1772d53-404b-4844-a497-8aafc45fee2a",
   "metadata": {},
   "outputs": [],
   "source": [
    "fig, ax = plt.subplots(figsize=(6, 6))\n",
    "sc.pl.umap(adata_5, color=\"GenoCre\", legend_loc=\"right margin\", ax=ax, s=10, frameon=False, save=False, palette=[])\n",
    "\n"
   ]
  },
  {
   "cell_type": "code",
   "execution_count": null,
   "id": "f346b8f1-541d-4397-87e2-15d3961829c4",
   "metadata": {
    "tags": []
   },
   "outputs": [],
   "source": [
    "more_types=[\"Col14a1\", \"Acta2\",\"Myh11\",\"Tagln\",\"Mustn1\", #fibroblast\n",
    "              \"Lpl\",\"Lipa\",\"Pparg\",\"Plin2\",\"Ear1\",\"Fabp1\",\"Spp1\", #lipofibroblast/osteoblastic\n",
    "              \"Ptprc\",\"Mertk\",\"Marco\",\"Mrc1\",\"Ly75\",\"Adgre1\",\"Itgax\",\"Cd68\",\"Csf1r\",\"Mafb\",\"Msr1\",\"Arg1\",\"Adgre4\",\"Clec4a1\", #Macs/Myeloid\n",
    "              \"Cx3cr1\",\"Itgam\",\"Cd14\", #Monocytes\n",
    "              \"S100a9\",\"S100a8\",\"Mmp9\",\"Csf3r\",\"Cxcr2\",\"Ly6g\", #Neuts\n",
    "              \"Batf3\",\"Xcr1\",\"Clec9a\",\"Ccl17\",\"Ccl22\", #DC\n",
    "              \"Cd3d\",\"Cd3e\",\"Cd3g\",\"Cd28\",\"Cd8a\",\"Cd4\",\"Foxp3\", # Tcell\n",
    "              \"Gzma\",\"Ncr1\",\"Gzmb\", #NK\n",
    "              \"Fcmr\",\"Cd19\",\"Fcer2a\",\"Pax5\",\"Cd22\",\"Cd79b\",\"Cd79a\", #B cells\n",
    "              \"Slamf7\", \"Prdm1\", #Plasma\n",
    "              \"Mcam\",\"Pecam1\",\"Icam2\",\"Cd36\",\"Cd93\", #Endothelial\n",
    "    \"Pdpn\",\"Cav1\",\"Cav2\",\"Hopx\",\"Timp3\",\"Sema3f\",\"Serpine1\", #AT1\n",
    "              \"Abca3\",\"Muc1\",\"Sftpa1\",\"Sftpb\",\"Sftpd\",\"Scd1\", #AT2\n",
    "              \"Scgb1a1\",\"Cyp2f2\",\"Scgb3a2\", \"Scgb3a1\",\"Lypd2\",#Club\n",
    "              \"Muc5ac\",\"Muc5b\", # Goblet\n",
    "              \"Tubb4a\",\"Foxa3\",\"Foxj1\",\"Rfx2\",\"Rfx3\",\"Trp73\", #Ciliated\n",
    "              'Krt5', 'Krt17','Krt15','Trp63','Id1','Icam1','Epas1','Aqp3','Sfn','Perp','Fxyd3','Sdc1','Gstm2','F3','Abi3bp','Adh7', # Basal\n",
    "              'Bex2','Ascl1','Meis2','Hes6','Hoxb5','Foxa2','Sox4','Rora','Isl1','Id4', 'Neurod1','Neurod4','Nhlh1','Nhlh2',#NE/neuronal\n",
    "              'Pou2f3','Trpm5','Ascl2','Ehf',\n",
    "              'Lrmp','Gng13','Ltc4s','Alox5ap','Avil','Alox5','Atp2a3','Plk2', #tuft\n",
    "              \"Cftr\",\"Ascl3\", 'Stap1','Atp6v1c2','Pparg','Rasd1','Slc12a2', #ionocyte\n",
    "              \"Gja1\",\"Nkx2-1\",\"Epcam\", # Lung lineage\n",
    "              'Yap1','Wwtr1','Sox2','Cd44','Hes1', # Stem-like\n",
    "             \"Venus\",\"fLuc\", \"Top2a\",\"Mki67\"] # Tumor markers\n",
    "\n",
    "sc.pl.umap(\n",
    "    adata_5,\n",
    "    color=more_types,\n",
    "    use_raw=False,\n",
    "    legend_loc= \"on data\",\n",
    "    color_map=\"cmo.dense\",\n",
    "    ncols=4,\n",
    "    vmax=\"p99.5\",s=50,\n",
    "    frameon=False,\n",
    "    layer=\"norm\",\n",
    "    save=False\n",
    ")"
   ]
  },
  {
   "cell_type": "code",
   "execution_count": null,
   "id": "d3771891-695a-4a0d-97ae-e0b459d7d2be",
   "metadata": {},
   "outputs": [],
   "source": [
    "more_types=[\"Ascl1\",\"Neurod1\",\"Pou2f3\",\"Yap1\"] # Tumor markers\n",
    "\n",
    "sc.pl.umap(\n",
    "    adata_5,\n",
    "    color=more_types,\n",
    "    use_raw=False,\n",
    "    legend_loc= \"on data\",\n",
    "    color_map=\"cmo.dense\",\n",
    "    ncols=4,\n",
    "    vmax=\"p99.5\",s=50,\n",
    "    frameon=False,\n",
    "    layer=\"norm\",\n",
    "    save=False\n",
    ")"
   ]
  },
  {
   "cell_type": "code",
   "execution_count": null,
   "id": "41b8cf24-f2be-4394-8ee4-ac61bfc36fbe",
   "metadata": {},
   "outputs": [],
   "source": [
    "#QC UMAPs\n",
    "sc.pl.umap(\n",
    "    adata_5,\n",
    "    color=[\"n_genes_by_counts\", \"total_counts\", \"pct_counts_mito\", \"log1p_total_counts\"],\n",
    "    cmap=\"cubehelix_r\",\n",
    "    s=3,\n",
    "    ncols=2,\n",
    ")"
   ]
  },
  {
   "cell_type": "code",
   "execution_count": null,
   "id": "cd80773d-2273-4163-924a-8dd7f9882435",
   "metadata": {},
   "outputs": [],
   "source": [
    "# Find cluster markers for each leiden cluster to aid filtering\n",
    "sc.tl.rank_genes_groups(adata_5, 'leiden_scVI_1.5', method='wilcoxon', layer='norm', use_raw=False)\n",
    "pd.DataFrame(adata_5.uns['rank_genes_groups']['names']).head(50)"
   ]
  },
  {
   "cell_type": "code",
   "execution_count": null,
   "id": "0bdd16d3-d2be-47bf-8af5-08d2865e8301",
   "metadata": {},
   "outputs": [],
   "source": [
    "adata_5.write_h5ad(\"08.24.24_RPM_K5vCGRP_adata5.h5ad\")"
   ]
  },
  {
   "cell_type": "code",
   "execution_count": null,
   "id": "c66b9942-cd3d-4f3e-a7f4-38fee2411a09",
   "metadata": {},
   "outputs": [],
   "source": [
    "adata_5=sc.read_h5ad(\"08.24.24_RPM_K5vCGRP_adata5.h5ad\")"
   ]
  },
  {
   "cell_type": "code",
   "execution_count": null,
   "id": "8b3b9ffa-4a50-4e87-a1ef-97c643d9af76",
   "metadata": {},
   "outputs": [],
   "source": [
    "# C8 is low quality (higher mito and n_genes_by_counts), remove and re-cluster\n",
    "\n",
    "bad_clust=['8']\n",
    "\n",
    "#Filter out bad clusters\n",
    "to_keep=(~adata_5.obs['leiden_scVI_1.5'].isin(bad_clust))\n",
    "\n",
    "#Copy over to new anndata object\n",
    "adata_6 = adata_5[to_keep].copy()\n",
    "\n"
   ]
  },
  {
   "cell_type": "markdown",
   "id": "d56b510d-adad-464a-b3ed-b3db4e78d201",
   "metadata": {},
   "source": [
    "## ITERATION 6 (Final iteration, high quality tumor cells only)"
   ]
  },
  {
   "cell_type": "code",
   "execution_count": null,
   "id": "3b921fb4-3d43-4b66-ac6c-d9fb2c00ae28",
   "metadata": {},
   "outputs": [],
   "source": [
    "# ID HVG via Scanpy\n",
    "\n",
    "sc.pp.highly_variable_genes(\n",
    "    adata_6,n_top_genes=10000,\n",
    "    subset=False,\n",
    "    layer=\"counts\",\n",
    "    flavor=\"seurat_v3\",\n",
    "    batch_key=\"Batch\"\n",
    ")"
   ]
  },
  {
   "cell_type": "code",
   "execution_count": null,
   "id": "18d5f05e-c1f7-48d6-a96e-2c1461402012",
   "metadata": {},
   "outputs": [],
   "source": [
    "# Create model\n",
    "\n",
    "scvi.model.SCVI.setup_anndata(\n",
    "    adata_6,\n",
    "    layer=\"counts\",\n",
    "    batch_key='Batch',\n",
    "    continuous_covariate_keys=[\"pct_counts_mito\"]\n",
    ")\n",
    "\n",
    "model = scvi.model.SCVI(adata_6)\n",
    "model.train()"
   ]
  },
  {
   "cell_type": "code",
   "execution_count": null,
   "id": "1e5d0441-8515-42b0-b7f6-77cc3425b416",
   "metadata": {},
   "outputs": [],
   "source": [
    "#Fit model to data\n",
    "#Get latent representation of model to apply to UMAP\n",
    "\n",
    "latent = model.get_latent_representation()\n",
    "\n",
    "adata_6.obsm[\"X_scVI_1.6\"] = latent\n"
   ]
  },
  {
   "cell_type": "code",
   "execution_count": null,
   "id": "160fa05f-a1b2-424d-b3e6-351950c3c1a1",
   "metadata": {},
   "outputs": [],
   "source": [
    "# Calculate neighbors using scVI model input\n",
    "sc.pp.neighbors(adata_6, use_rep=\"X_scVI_1.6\")\n",
    "sc.tl.umap(adata_6, min_dist=0.75)\n",
    "\n",
    "# Run leiden clustering based on neighbors\n",
    "sc.tl.leiden(adata_6, key_added=\"leiden_scVI_1.6\", resolution=0.25)"
   ]
  },
  {
   "cell_type": "code",
   "execution_count": null,
   "id": "639f96a6-1a7e-41b3-818a-8f6d8512492e",
   "metadata": {
    "tags": []
   },
   "outputs": [],
   "source": [
    "#QC UMAPs\n",
    "sc.pl.umap(\n",
    "    adata_6,\n",
    "    color=[\"n_genes_by_counts\", \"total_counts\", \"pct_counts_mito\", \"log1p_total_counts\"],\n",
    "    cmap=\"cubehelix_r\",\n",
    "    s=3,\n",
    "    ncols=2,\n",
    ")\n",
    "\n",
    "more_types=[\"Col14a1\", \"Acta2\",\"Myh11\",\"Tagln\",\"Mustn1\", #fibroblast\n",
    "              \"Lpl\",\"Lipa\",\"Pparg\",\"Plin2\",\"Ear1\",\"Fabp1\",\"Spp1\", #lipofibroblast/osteoblastic\n",
    "              \"Ptprc\",\"Mertk\",\"Marco\",\"Mrc1\",\"Ly75\",\"Adgre1\",\"Itgax\",\"Cd68\",\"Csf1r\",\"Mafb\",\"Msr1\",\"Arg1\",\"Adgre4\",\"Clec4a1\", #Macs/Myeloid\n",
    "              \"Cx3cr1\",\"Itgam\",\"Cd14\", #Monocytes\n",
    "              \"S100a9\",\"S100a8\",\"Mmp9\",\"Csf3r\",\"Cxcr2\",\"Ly6g\", #Neuts\n",
    "              \"Batf3\",\"Xcr1\",\"Clec9a\",\"Ccl17\",\"Ccl22\", #DC\n",
    "              \"Cd3d\",\"Cd3e\",\"Cd3g\",\"Cd28\",\"Cd8a\",\"Cd4\",\"Foxp3\", # Tcell\n",
    "              \"Gzma\",\"Ncr1\",\"Gzmb\", #NK\n",
    "              \"Fcmr\",\"Cd19\",\"Fcer2a\",\"Pax5\",\"Cd22\",\"Cd79b\",\"Cd79a\", #B cells\n",
    "              \"Slamf7\", \"Prdm1\", #Plasma\n",
    "              \"Mcam\",\"Pecam1\",\"Icam2\",\"Cd36\",\"Cd93\", #Endothelial\n",
    "    \"Pdpn\",\"Cav1\",\"Cav2\",\"Hopx\",\"Timp3\",\"Sema3f\",\"Serpine1\", #AT1\n",
    "              \"Abca3\",\"Muc1\",\"Sftpa1\",\"Sftpb\",\"Sftpd\",\"Scd1\", #AT2\n",
    "              \"Scgb1a1\",\"Cyp2f2\",\"Scgb3a2\", \"Scgb3a1\",\"Lypd2\",#Club\n",
    "              \"Muc5ac\",\"Muc5b\", # Goblet\n",
    "              \"Tubb4a\",\"Foxa3\",\"Foxj1\",\"Rfx2\",\"Rfx3\",\"Trp73\", #Ciliated\n",
    "              'Krt5', 'Krt17','Krt15','Trp63','Id1','Icam1','Epas1','Aqp3','Sfn','Perp','Fxyd3','Sdc1','Gstm2','F3','Abi3bp','Adh7', # Basal\n",
    "              'Bex2','Ascl1','Meis2','Hes6','Hoxb5','Foxa2','Sox4','Rora','Isl1','Id4', 'Neurod1','Neurod4','Nhlh1','Nhlh2',#NE/neuronal\n",
    "              'Pou2f3','Trpm5','Ascl2','Ehf',\n",
    "              'Lrmp','Gng13','Ltc4s','Alox5ap','Avil','Alox5','Atp2a3','Plk2', #tuft\n",
    "              \"Cftr\",\"Ascl3\", 'Stap1','Atp6v1c2','Pparg','Rasd1','Slc12a2', #ionocyte\n",
    "              \"Gja1\",\"Nkx2-1\",\"Epcam\", # Lung lineage\n",
    "              'Yap1','Wwtr1','Sox2','Cd44','Hes1', # Stem-like\n",
    "             \"Venus\",\"fLuc\", \"Top2a\",\"Mki67\"] # Tumor markers\n",
    "\n",
    "sc.pl.umap(\n",
    "    adata_6,\n",
    "    color=more_types,\n",
    "    use_raw=False,\n",
    "    legend_loc= \"on data\",\n",
    "    color_map=\"cmo.dense\",\n",
    "    ncols=4,\n",
    "    vmax=\"p99.5\",s=50,\n",
    "    frameon=False,\n",
    "    layer=\"norm\",\n",
    "    save=False)"
   ]
  },
  {
   "cell_type": "code",
   "execution_count": null,
   "id": "dac6cfe2-a5d3-4d4e-8766-42d3e6fe576e",
   "metadata": {},
   "outputs": [],
   "source": [
    "adata_6.obs_names_make_unique()"
   ]
  },
  {
   "cell_type": "markdown",
   "id": "36f620df-89b6-485a-b611-2284466dc5b0",
   "metadata": {},
   "source": [
    "### Save/write to import to R and further analyze in Seurat, etc."
   ]
  },
  {
   "cell_type": "code",
   "execution_count": null,
   "id": "c3c318f2-1671-4a87-81e1-0390cbb9d0da",
   "metadata": {},
   "outputs": [],
   "source": [
    "adata_6.write_h5ad(\"09.04.24_RPM_K5vCGRP_adata6.h5ad\")"
   ]
  },
  {
   "cell_type": "code",
   "execution_count": null,
   "id": "3ba4bc35-bedd-4aa6-88e6-ba09cbea9fcd",
   "metadata": {},
   "outputs": [],
   "source": [
    "adata_6=sc.read_h5ad(\"09.04.24_RPM_K5vCGRP_adata6.h5ad\")"
   ]
  },
  {
   "cell_type": "code",
   "execution_count": null,
   "id": "a00c0fab-a880-4001-9b81-cc9ca55d44f6",
   "metadata": {},
   "outputs": [],
   "source": [
    "fig, ax = plt.subplots(figsize=(8, 7))\n",
    "sc.pl.umap(adata_6, color=\"GenoCre\", legend_loc=\"right margin\", ax=ax, s=30, frameon=False, save=False, palette=[])\n",
    "\n",
    "fig, ax = plt.subplots(figsize=(6, 6))\n",
    "sc.pl.umap(adata_6, color=\"leiden_scVI_1.6\", legend_loc=\"on data\", legend_fontsize='large',ax=ax, s=10, frameon=False, save=False)\n"
   ]
  },
  {
   "cell_type": "code",
   "execution_count": null,
   "id": "6a2f96fa-e259-4d01-8288-bc16d55e6e2e",
   "metadata": {},
   "outputs": [],
   "source": [
    "more_types=[\"Ascl1\",\"Neurod1\",\"Pou2f3\"] # Tumor markers\n",
    "\n",
    "sc.pl.umap(\n",
    "    adata_6,\n",
    "    color=more_types,\n",
    "    use_raw=False,\n",
    "    legend_loc= \"on data\",\n",
    "    color_map=\"cmo.dense\",\n",
    "    ncols=4,\n",
    "    vmax=\"p99.5\",s=60,\n",
    "    frameon=False,\n",
    "    layer=\"norm\",\n",
    "    save=False)"
   ]
  },
  {
   "cell_type": "code",
   "execution_count": null,
   "id": "0dc93050-40dc-4b02-abad-3092af4ca4a7",
   "metadata": {},
   "outputs": [],
   "source": [
    "#Generate signatures from these two tumors after normalizing and log transforming count data \n",
    "sc.pp.normalize_total(adata_6)\n",
    "sc.pp.log1p(adata_6)\n",
    "sc.tl.rank_genes_groups(adata_6, 'leiden_scVI_1.6', method='t-test')\n"
   ]
  },
  {
   "cell_type": "code",
   "execution_count": null,
   "id": "392549ed-fd52-47ca-87da-e0304128eb43",
   "metadata": {},
   "outputs": [],
   "source": [
    "# Extract top 500 marker genes for leiden clusters from data \n",
    "sc.tl.rank_genes_groups(adata_6,'leiden_scVI_1.6', method='wilcoxon', n_genes=500)\n",
    "\n",
    "result = adata_6.uns['rank_genes_groups']\n",
    "groups = result['names'].dtype.names\n",
    "markergenes=pd.DataFrame(\n",
    "    {group + '_' + key[:1]: result[key][group]\n",
    "    for group in groups for key in ['names', 'pvals']})\n"
   ]
  },
  {
   "cell_type": "code",
   "execution_count": null,
   "id": "48bc3335-dd4f-4f4c-b02d-86d7dc6aa9ff",
   "metadata": {},
   "outputs": [],
   "source": [
    "markergenes.to_csv('/hpc/home/asi16/RPM_K5vCGRP_Leiden_scRNAseq_100724.csv' )"
   ]
  },
  {
   "cell_type": "code",
   "execution_count": null,
   "id": "ed641e94-8517-4d6b-8377-1b98163182d1",
   "metadata": {},
   "outputs": [],
   "source": [
    "#Generate signatures from these two tumors\n",
    "sc.pp.normalize_total(adata_6)\n",
    "sc.pp.log1p(adata_6)\n",
    "sc.tl.rank_genes_groups(adata_6, 'leiden_scVI_1.6', method='t-test')\n",
    "\n",
    "\n",
    "# Extract top 500 marker genes for leiden clusters from data \n",
    "sc.tl.rank_genes_groups(adata_6,'leiden_scVI_1.6', method='wilcoxon', n_genes=500)\n",
    "\n",
    "result = adata_6.uns['rank_genes_groups']\n",
    "groups = result['names'].dtype.names\n",
    "markergenes=pd.DataFrame(\n",
    "    {group + '_' + key[:1]: result[key][group]\n",
    "    for group in groups for key in ['names', 'pvals']})\n",
    "     \n",
    "markergenes.to_csv('/hpc/home/asi16/RPM_K5vCGRP_Leiden_scRNAseq_100724.csv' )"
   ]
  }
 ],
 "metadata": {
  "kernelspec": {
   "display_name": "Python 3",
   "language": "python",
   "name": "python3"
  },
  "language_info": {
   "codemirror_mode": {
    "name": "ipython",
    "version": 3
   },
   "file_extension": ".py",
   "mimetype": "text/x-python",
   "name": "python",
   "nbconvert_exporter": "python",
   "pygments_lexer": "ipython3",
   "version": "3.8.8"
  }
 },
 "nbformat": 4,
 "nbformat_minor": 5
}
