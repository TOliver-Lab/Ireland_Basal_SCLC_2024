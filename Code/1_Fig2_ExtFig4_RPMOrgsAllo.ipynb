{
 "cells": [
  {
   "cell_type": "markdown",
   "id": "0bf35ffb-01eb-4f91-9b01-1c6c420ff35d",
   "metadata": {},
   "source": [
    "# RPM Basal Organoid and Allograft Analysis"
   ]
  },
  {
   "cell_type": "markdown",
   "id": "99cb1d56-d6f0-40ba-9b89-720dd0913717",
   "metadata": {},
   "source": [
    "## Ireland et al 2024 BioRxiv"
   ]
  },
  {
   "cell_type": "markdown",
   "id": "42f28c03-ce36-4857-99d0-8b9a05faa356",
   "metadata": {},
   "source": [
    "### Extended Data Fig 4"
   ]
  },
  {
   "cell_type": "code",
   "execution_count": null,
   "id": "1e95e3e2-bf04-4d5c-8ceb-fb4cd32308f6",
   "metadata": {},
   "outputs": [],
   "source": [
    "#Import other relevant packages\n",
    "import numpy as np\n",
    "import pandas as pd\n",
    "from matplotlib import rcParams\n",
    "import os\n",
    "import scanpy as sc\n",
    "\n",
    "import matplotlib as mpl\n",
    "import matplotlib.pyplot as plt\n",
    "\n",
    "#For nice color schemes\n",
    "import cmocean\n",
    "\n",
    "#For barplots\n",
    "import seaborn as sns\n",
    "\n",
    "#Import scVI\n",
    "import scvi\n",
    "from scvi.model.utils import mde\n",
    "\n",
    "scvi.settings.verbosity = 40\n",
    "\n",
    "#Import scVI\n",
    "import scvi\n",
    "from scvi.model.utils import mde\n",
    "\n",
    "scvi.settings.verbosity = 40"
   ]
  },
  {
   "cell_type": "code",
   "execution_count": null,
   "id": "28a448e0-133f-49a9-8c4d-e59a8d6c695a",
   "metadata": {},
   "outputs": [],
   "source": [
    "sc.settings.verbosity = 3             # verbosity: errors (0), warnings (1), info (2), hints (3)\n",
    "sc.logging.print_header()\n",
    "sc.settings.set_figure_params(dpi=80, facecolor='white')"
   ]
  },
  {
   "cell_type": "code",
   "execution_count": null,
   "id": "e2474e8d-4a4c-4124-9e14-757c6aa1f351",
   "metadata": {},
   "outputs": [],
   "source": [
    "# Read \n",
    "os.chdir('/work/asi16')"
   ]
  },
  {
   "cell_type": "code",
   "execution_count": null,
   "id": "8300bfda-54c9-4f8c-849c-fca3bd643469",
   "metadata": {},
   "outputs": [],
   "source": []
  },
  {
   "cell_type": "markdown",
   "id": "4fd0b743-4ba9-41f0-bd1e-373fcc111864",
   "metadata": {},
   "source": [
    "## 1. Read in all in vitro RPM orgnanoid data"
   ]
  },
  {
   "cell_type": "code",
   "execution_count": null,
   "id": "a3d8885b-49a0-4fa6-a496-45be8f493c47",
   "metadata": {},
   "outputs": [],
   "source": [
    "# Read in RPM TBOs in vitro + Cre 10X matrices aligned to CellTag/GFP.CDS genome + Luciferase/Venus\n",
    "rpm_org_cre=sc.read_10x_mtx('042024_custom_count_RPMTBO_CMV_Pool1/outs/per_sample_outs/RPM/count/sample_filtered_feature_bc_matrix/', var_names='gene_symbols', cache=True)\n"
   ]
  },
  {
   "cell_type": "code",
   "execution_count": null,
   "id": "0dab14e4-b6ab-4ac4-a906-3fd95e668047",
   "metadata": {},
   "outputs": [],
   "source": [
    "# Add appropriate metadata to samples\n",
    "rpm_org_cre.obs['Genotype'] = 'RPM'\n",
    "rpm_org_cre.obs['Model'] = 'Organoid'\n",
    "rpm_org_cre.obs['Cre'] = 'Cre'\n",
    "rpm_org_cre.obs['UnID'] = 'RPM_Org_Cre'\n",
    "rpm_org_cre.obs['Batch'] = 'Org_Cre'\n"
   ]
  },
  {
   "cell_type": "code",
   "execution_count": null,
   "id": "2af91b91-cb67-4106-9942-aadb1dc35d01",
   "metadata": {},
   "outputs": [],
   "source": [
    "rpm_org_cre"
   ]
  },
  {
   "cell_type": "code",
   "execution_count": null,
   "id": "c54d2911-848e-4ade-ae50-1a585080e4f3",
   "metadata": {},
   "outputs": [],
   "source": [
    "orgs_nocre=sc.read_10x_mtx('TBO_Pool_NoCre_NotCellPlexed/042024_custom_count_TBOpoolNoCellPlex/outs/filtered_feature_bc_matrix/', var_names='gene_symbols', cache=True)\n"
   ]
  },
  {
   "cell_type": "code",
   "execution_count": null,
   "id": "d900f0be-c265-4c19-9a55-7280ad98fff0",
   "metadata": {},
   "outputs": [],
   "source": [
    "#Subsample bc >20k cells, keep 3k\n",
    "orgs_nocre_subset=sc.pp.subsample(orgs_nocre, n_obs=3000, copy=True)"
   ]
  },
  {
   "cell_type": "code",
   "execution_count": null,
   "id": "febfb47d-71b0-4fa8-ba94-6b6a3e7d1635",
   "metadata": {},
   "outputs": [],
   "source": [
    "# Add metadata ID's\n",
    "orgs_nocre_subset.obs['Genotype'] = 'WT'\n",
    "orgs_nocre_subset.obs['Model'] = 'Organoid'\n",
    "orgs_nocre_subset.obs['Cre'] = 'No_Cre'\n",
    "orgs_nocre_subset.obs['UnID'] = 'WT_Org_NoCre'\n",
    "orgs_nocre_subset.obs['Batch'] = 'Org_No_Cre'"
   ]
  },
  {
   "cell_type": "markdown",
   "id": "59eba45e-dfa0-4c71-8ff3-b6fe7d349185",
   "metadata": {},
   "source": [
    "## 2. Concatenate WT and transformed organoid datasets"
   ]
  },
  {
   "cell_type": "code",
   "execution_count": null,
   "id": "5ce38fe5-2d5c-4cfd-8696-6f05f0baaa5e",
   "metadata": {},
   "outputs": [],
   "source": [
    "# Add the No Cre RPM to Plus Cre organoid samples and check it\n",
    "#Concatenate datasets\n",
    "orgs_all= rpm_org_cre.concatenate([orgs_nocre_subset], index_unique=None, join=\"outer\")"
   ]
  },
  {
   "cell_type": "markdown",
   "id": "4b3ab555-a5e6-4966-9111-8a83c343e55b",
   "metadata": {},
   "source": [
    "## 3. Perform QC"
   ]
  },
  {
   "cell_type": "code",
   "execution_count": null,
   "id": "3dbf977a-bb12-408f-8d69-a1dff5a0030a",
   "metadata": {},
   "outputs": [],
   "source": [
    "#QC filtering\n",
    "orgs_all.var['mito'] = orgs_all.var_names.str.startswith('mt-')  # annotate the group of mitochondrial genes as 'mt'\n",
    "sc.pp.calculate_qc_metrics(orgs_all, qc_vars=['mito'], percent_top=None, log1p=False, inplace=True)\n",
    "#QC filtering RPMA RPM only scanpy flow\n",
    "sc.pp.filter_cells(orgs_all, min_genes=200)\n",
    "#sc.pp.filter_genes(orgs_all, min_cells=3)\n",
    "\n",
    "orgs_all.var['mito'] = orgs_all.var_names.str.startswith('mt-')  # annotate the group of mitochondrial genes as 'mt'\n",
    "sc.pp.calculate_qc_metrics(orgs_all, qc_vars=['mito'], percent_top=None, log1p=False, inplace=True)"
   ]
  },
  {
   "cell_type": "code",
   "execution_count": null,
   "id": "ce5057a6-97b1-41f7-bd21-9163d981463b",
   "metadata": {},
   "outputs": [],
   "source": [
    "sc.pl.violin(orgs_all, ['n_genes_by_counts', 'total_counts', 'pct_counts_mito'],\n",
    "             jitter=0.4, multi_panel=True)\n",
    "sc.pl.scatter(orgs_all, x='total_counts', y='pct_counts_mito')\n",
    "sc.pl.scatter(orgs_all, x='total_counts', y='n_genes_by_counts')"
   ]
  },
  {
   "cell_type": "code",
   "execution_count": null,
   "id": "63b8f48c-e460-4f10-991f-91caf4a614bb",
   "metadata": {},
   "outputs": [],
   "source": [
    "#Filter data by slicing anndata object\n",
    "orgs_all = orgs_all[orgs_all.obs.n_genes_by_counts < 7000, :]\n",
    "orgs_all = orgs_all[orgs_all.obs.n_genes_by_counts > 500, :]\n",
    "orgs_all = orgs_all[orgs_all.obs.total_counts > 2000, :]\n",
    "orgs_all = orgs_all[orgs_all.obs.pct_counts_mito < 15, :]"
   ]
  },
  {
   "cell_type": "code",
   "execution_count": null,
   "id": "9694bcd8-2d2d-4c55-af5d-668c389d5897",
   "metadata": {},
   "outputs": [],
   "source": [
    "orgs_all.obs.groupby([\"UnID\"]).apply(len)"
   ]
  },
  {
   "cell_type": "code",
   "execution_count": null,
   "id": "d4c46e9d-2f69-4d64-bd26-8aa776e724e8",
   "metadata": {},
   "outputs": [],
   "source": [
    "#Prep for HVG and scvi\n",
    "#log1p the data\n",
    "orgs_all.obs[\"log1p_total_counts\"] = np.log1p(orgs_all.obs[\"total_counts\"])\n",
    "#Create layers\n",
    "orgs_all.layers[\"counts\"] = orgs_all.X.copy()\n",
    "orgs_all.layers['norm'] = orgs_all.X.copy(); sc.pp.normalize_total(orgs_all, target_sum=1e4, layer=\"norm\")"
   ]
  },
  {
   "cell_type": "code",
   "execution_count": null,
   "id": "87be9cad-29d8-46c9-ac41-ae9cd75530a5",
   "metadata": {
    "tags": []
   },
   "outputs": [],
   "source": [
    "# ID HVG via Scanpy (can cluster on them or cluster on all genes)\n",
    "# Note here that if you run with a batch_key with few cells, will get b'reciprocal condition number error\n",
    "sc.pp.highly_variable_genes(\n",
    "    orgs_all,n_top_genes=10000,\n",
    "    subset=False,\n",
    "    layer=\"counts\",\n",
    "    flavor=\"seurat_v3\",\n",
    "    batch_key=\"Batch\"\n",
    ")\n"
   ]
  },
  {
   "cell_type": "markdown",
   "id": "9af12ea0-c5b1-42c2-874c-4a1893369a64",
   "metadata": {},
   "source": [
    "## 4. Set up and train model (scvi)"
   ]
  },
  {
   "cell_type": "code",
   "execution_count": null,
   "id": "3daec2d3-956b-48f2-a927-fed46108b26f",
   "metadata": {},
   "outputs": [],
   "source": [
    "scvi.model.SCVI.setup_anndata(\n",
    "    orgs_all,\n",
    "    layer=\"counts\",\n",
    "    batch_key=\"Batch\",\n",
    "    continuous_covariate_keys=[\"pct_counts_mito\"]\n",
    ")\n"
   ]
  },
  {
   "cell_type": "code",
   "execution_count": null,
   "id": "32207361-96bb-41af-a570-52c786c44386",
   "metadata": {},
   "outputs": [],
   "source": [
    "model = scvi.model.SCVI(orgs_all)\n",
    "model.train()"
   ]
  },
  {
   "cell_type": "code",
   "execution_count": null,
   "id": "a819e390-d399-46c8-993c-171f0b743553",
   "metadata": {},
   "outputs": [],
   "source": [
    "#Fit model to data\n",
    "#Get latent representation of model to apply to UMAP\n",
    "latent = model.get_latent_representation()\n",
    "orgs_all.obsm[\"X_scVI_1.1\"] = latent"
   ]
  },
  {
   "cell_type": "markdown",
   "id": "edc5cded-da9f-4164-af0a-ec97b2383a65",
   "metadata": {},
   "source": [
    "## 5. Perform leiden clustering"
   ]
  },
  {
   "cell_type": "code",
   "execution_count": null,
   "id": "8c314f9e-27c3-4bf9-ac8d-cee19ad8c953",
   "metadata": {},
   "outputs": [],
   "source": [
    "#Calculate neighbors using scVI model input\n",
    "sc.pp.neighbors(orgs_all, use_rep=\"X_scVI_1.1\")\n",
    "sc.tl.umap(orgs_all, min_dist=0.5)\n",
    "\n",
    "#Run leiden clustering based on neighbors\n",
    "sc.tl.leiden(orgs_all, key_added=\"leiden_scVI_1.1\", resolution=0.5)"
   ]
  },
  {
   "cell_type": "markdown",
   "id": "0e99002f-d7d8-4a70-97b2-8905f9c9a68d",
   "metadata": {},
   "source": [
    "## 6. Visualize clustering"
   ]
  },
  {
   "cell_type": "code",
   "execution_count": null,
   "id": "7c36ac48-018f-46d3-9ddc-ecb0fd65afb7",
   "metadata": {},
   "outputs": [],
   "source": [
    "fig, ax = plt.subplots(figsize=(8, 6))\n",
    "sc.pl.umap(orgs_all, color=\"Cre\", cmap=\"cmo.matter\", s=30, ax=ax, vmax=\"p99.99\", frameon=False, save=False)\n",
    "fig, ax = plt.subplots(figsize=(8, 6))\n",
    "sc.pl.umap(orgs_all, color=\"leiden_scVI_1.1\", legend_loc=\"on data\", legend_fontsize='large',ax=ax, s=30, frameon=False, save=False)\n",
    "fig, ax = plt.subplots(figsize=(8, 6))\n",
    "sc.pl.umap(orgs_all, color=\"UnID\", legend_loc=\"right margin\", ax=ax, s=30, frameon=False, save=False)\n",
    "\n",
    "#Additional QC bar graphs\n",
    "orgs_all.obs['cluster'] = orgs_all.obs[\"leiden_scVI_1.1\"].copy()\n",
    "\n",
    "#Plot Log1p total counts\n",
    "fig, ax = plt.subplots(figsize=(20,6))\n",
    "sns.boxenplot(data=orgs_all.obs, x=\"cluster\", y=\"log1p_total_counts\", ax=ax)\n",
    "\n",
    "#Plot Pct counts mito\n",
    "fig, ax = plt.subplots(figsize=(20,6))\n",
    "sns.boxenplot(data=orgs_all.obs, x=\"cluster\", y=\"pct_counts_mito\", ax=ax)\n"
   ]
  },
  {
   "cell_type": "code",
   "execution_count": null,
   "id": "766b230b-039b-4e0d-89f3-543d219faf20",
   "metadata": {},
   "outputs": [],
   "source": [
    "# Exclude 7 as doublets\n",
    "bad_clust=['7']\n",
    "\n",
    "#Filter out bad clusters\n",
    "to_keep=(~orgs_all.obs['leiden_scVI_1.1'].isin(bad_clust))\n",
    "\n",
    "#Copy over to new anndata object\n",
    "orgs_all2 = orgs_all[to_keep].copy()"
   ]
  },
  {
   "cell_type": "markdown",
   "id": "8acc5fb4-fe8d-4693-9f90-a723b0be33d5",
   "metadata": {},
   "source": [
    "### From here, continue iterating through runs of scvi modeling until no clear low quality cell clusters or non-tumor cells are observed.\n",
    "### Start back up at \"set up and train scvi model\" and run through subsetting out \"bad clusters\".\n",
    "### Each time clusters are removed, model is run again to recluster."
   ]
  },
  {
   "cell_type": "markdown",
   "id": "c3f2b38f-fe9e-49b9-90c8-1f34439a8fb6",
   "metadata": {},
   "source": [
    "## ITERATION 2 (Final iteration)"
   ]
  },
  {
   "cell_type": "code",
   "execution_count": null,
   "id": "103c9de7-01d0-4a4e-a8d9-e1606b6d7476",
   "metadata": {},
   "outputs": [],
   "source": [
    "#HVG via Scanpy\n",
    "#Note here that if you run with a batch_key with few cells, will get b'reciprocal condition number error\n",
    "sc.pp.highly_variable_genes(\n",
    "    orgs_all2,n_top_genes=10000,\n",
    "    subset=False,\n",
    "    layer=\"counts\",\n",
    "    flavor=\"seurat_v3\",\n",
    "    batch_key=\"Batch\"\n",
    ")"
   ]
  },
  {
   "cell_type": "code",
   "execution_count": null,
   "id": "8b055347-bbc6-4a04-b8df-465466c7d049",
   "metadata": {},
   "outputs": [],
   "source": [
    "scvi.model.SCVI.setup_anndata(\n",
    "    orgs_all2,\n",
    "    layer=\"counts\",\n",
    "    batch_key='Batch',\n",
    "    continuous_covariate_keys=[\"pct_counts_mito\"]\n",
    ")\n",
    "model = scvi.model.SCVI(orgs_all2)\n",
    "model.train()"
   ]
  },
  {
   "cell_type": "code",
   "execution_count": null,
   "id": "e5e72610-3596-457b-ab7a-95206f6b5c86",
   "metadata": {},
   "outputs": [],
   "source": [
    "latent = model.get_latent_representation()\n",
    "orgs_all2.obsm[\"X_scVI_1.2\"] = latent"
   ]
  },
  {
   "cell_type": "code",
   "execution_count": null,
   "id": "dc3ccf93-b890-4496-b3a2-7440cd3b3251",
   "metadata": {},
   "outputs": [],
   "source": [
    "#Calculate neighbors using scVI model input\n",
    "sc.pp.neighbors(orgs_all2, use_rep=\"X_scVI_1.2\")\n",
    "sc.tl.umap(orgs_all2, min_dist=0.5)\n",
    "\n",
    "#Run leiden clustering based on neighbors\n",
    "sc.tl.leiden(orgs_all2, key_added=\"leiden_scVI_1.2\", resolution=0.5)\n",
    "\n"
   ]
  },
  {
   "cell_type": "code",
   "execution_count": null,
   "id": "8cf3596d-085d-4735-b286-ac7ecb2f88b3",
   "metadata": {},
   "outputs": [],
   "source": [
    "# Visualize. Extended Data Fig 4a\n",
    "\n",
    "fig, ax = plt.subplots(figsize=(6, 6))\n",
    "sc.pl.umap(orgs_all2, color=\"leiden_scVI_1.2\", legend_loc=\"right margin\", legend_fontsize='xx-large',ax=ax, s=60, frameon=False, save=False)\n",
    "fig, ax = plt.subplots(figsize=(6, 6))\n",
    "sc.pl.umap(orgs_all2, color=\"Cre\", legend_loc=\"right margin\", ax=ax, s=60, frameon=False, save=False, palette=['purple','orange'])\n",
    "fig, ax = plt.subplots(figsize=(6, 6))\n",
    "sc.pl.umap(orgs_all2, color=\"UnID\", legend_loc=\"right margin\", ax=ax, s=30, frameon=False, save=False)"
   ]
  },
  {
   "cell_type": "code",
   "execution_count": null,
   "id": "1fd46ee7-93b4-4a1f-85d4-d9e7e0856809",
   "metadata": {},
   "outputs": [],
   "source": [
    "orgs_all2.obs.groupby([\"UnID\"]).apply(len)"
   ]
  },
  {
   "cell_type": "code",
   "execution_count": null,
   "id": "c040be44-b6cf-4ded-b111-29bf314f99ad",
   "metadata": {},
   "outputs": [],
   "source": [
    "#Additional QC bar graphs\n",
    "orgs_all2.obs['cluster'] = orgs_all2.obs[\"leiden_scVI_1.2\"].copy()\n",
    "\n",
    "#Plot Log1p total counts\n",
    "fig, ax = plt.subplots(figsize=(20,6))\n",
    "sns.boxenplot(data=orgs_all2.obs, x=\"cluster\", y=\"log1p_total_counts\", ax=ax)\n",
    "\n",
    "#Plot Pct counts mito\n",
    "fig, ax = plt.subplots(figsize=(20,6))\n",
    "sns.boxenplot(data=orgs_all2.obs, x=\"cluster\", y=\"pct_counts_mito\", ax=ax)"
   ]
  },
  {
   "cell_type": "code",
   "execution_count": null,
   "id": "453e7ec5-42e6-44fe-ae1e-938b6baf051e",
   "metadata": {},
   "outputs": [],
   "source": [
    "# Dot plot key cell type markers (Extended Data Fig. 4b)\n",
    "\n",
    "more_types=[ \"Pdpn\",\"Cav1\",\"Cav2\",\"Hopx\",\"Timp3\",\"Sema3f\",\"Serpine1\", #AT1\n",
    "              \"Abca3\",\"Muc1\",\"Sftpa1\",\"Sftpb\",\"Sftpd\",\"Scd1\", #AT2\n",
    "              \"Scgb1a1\",\"Cyp2f2\",\"Scgb3a2\", \"Scgb3a1\",\"Lypd2\",#Club\n",
    "              \"Muc5ac\",\"Muc5b\", \"Spdef\",# Goblet\n",
    "              \"Tubb4a\",\"Foxa3\",\"Foxj1\",\"Rfx2\",\"Rfx3\",\"Trp73\", #Ciliated\n",
    "              'Krt5', 'Krt17','Krt15','Krt8','Trp63','Sox2','Id1','Epas1','Aqp3',\n",
    "            'Sfn','Perp','Fxyd3','Sdc1','Gstm2','F3','Adh7', # Basal\n",
    "              'Ascl1','Bex1','Insm1','Chga','Chgb','Myt1','Sez6','Foxa2','Sox11','Syp',#NE/neuronal\n",
    "            \"Neurod1\",\"Nhlh1\",\"Nhlh2\",\n",
    "              'Pou2f3','Trpm5','Ascl2',\n",
    "              'Lrmp','Gng13','Ltc4s','Alox5ap','Avil','Alox5','Atp2a3', #tuft\n",
    "              \"Cftr\",'Foxi1', \"Ascl3\", 'Stap1','Atp6v1c2','Pparg','Rasd1', #ionocyte\n",
    "              'Yap1','Wwtr1','Sox2','Cd44','Hes1', # Stem-like\n",
    "             \"Top2a\",\"Mki67\", \"Ube2c\",\"Aspm\",\n",
    "            'Myc',\"fLuc\"] # Tumor markers\n",
    "\n",
    "sc.set_figure_params(scanpy=True, fontsize=20) \n",
    "sc.pl.dotplot(\n",
    "    orgs_all2,figsize=[28,3],\n",
    "    var_names=more_types,\n",
    "    groupby='leiden_scVI_1.2',\n",
    "    use_raw=False,\n",
    "    layer=\"norm\",show=False,\n",
    "    color_map=\"cmo.dense\", var_group_rotation=35,\n",
    "    save=False, dendrogram=True) #var_group_labels=[\"AT1\",\"AT2\",'Club','Goblet','Ciliated','Basal','Neuroendocrine','Tuft','Ionocyte','Lung lineage','Stem-like','Tumor markers','CellTag'], \n",
    "    #var_group_positions=[(0,6),(7,12),(13,17),(18,19),(20,25),(26,41),(42,50),(51,62),(63,69),(70,72),(73,77),(78,81),(82,83)]"
   ]
  },
  {
   "cell_type": "code",
   "execution_count": null,
   "id": "a00584db-3dc4-43c2-913e-026217dff072",
   "metadata": {},
   "outputs": [],
   "source": [
    "orgs_all2.write_h5ad(\"061824_RPMTBO_OrgsOnly_Fig3c.h5ad\")"
   ]
  },
  {
   "cell_type": "code",
   "execution_count": null,
   "id": "e69263fb-6120-4d3e-9df9-70e4660502b9",
   "metadata": {},
   "outputs": [],
   "source": [
    "orgs_all2 = sc.read_h5ad(\"061824_RPMTBO_OrgsOnly_Fig3c.h5ad\")"
   ]
  },
  {
   "cell_type": "code",
   "execution_count": null,
   "id": "eb7d45d7-c362-4144-a204-4b4fe58e1bc2",
   "metadata": {},
   "outputs": [],
   "source": [
    "#Generate signatures from Extended Data Fig. 4a data\n",
    "sc.pp.normalize_total(orgs_all2)\n",
    "sc.pp.log1p(orgs_all2)\n",
    "sc.tl.rank_genes_groups(orgs_all2, 'leiden_scVI_1.2', method='t-test')\n"
   ]
  },
  {
   "cell_type": "code",
   "execution_count": null,
   "id": "a75e58e2-dd50-477b-84e5-ac6c05c8c7ee",
   "metadata": {},
   "outputs": [],
   "source": [
    "# Extract top 500 marker genes for leiden clusters from data \n",
    "sc.tl.rank_genes_groups(orgs_all2,'leiden_scVI_1.2', method='wilcoxon', n_genes=500)\n",
    "\n",
    "result = orgs_all2.uns['rank_genes_groups']\n",
    "groups = result['names'].dtype.names\n",
    "markergenes=pd.DataFrame(\n",
    "    {group + '_' + key[:1]: result[key][group]\n",
    "    for group in groups for key in ['names', 'pvals']})\n"
   ]
  },
  {
   "cell_type": "code",
   "execution_count": null,
   "id": "326c654c-f974-497f-b129-b378ab68695b",
   "metadata": {},
   "outputs": [],
   "source": [
    "markergenes.to_csv('/hpc/home/asi16/RPM_WTvsCre_Leiden_scRNAseq_100724.csv' )"
   ]
  },
  {
   "cell_type": "markdown",
   "id": "29c2a4da-ce1a-4620-84d9-b0702886fd91",
   "metadata": {},
   "source": [
    "# New analysis to include organoids and allograft tumor: RPM"
   ]
  },
  {
   "cell_type": "markdown",
   "id": "f3db7eca-5e1f-415e-9196-9286ae8a4886",
   "metadata": {},
   "source": [
    "## Fig 2 and Extended Data Fig 4"
   ]
  },
  {
   "cell_type": "markdown",
   "id": "039a9c58-87fe-41c5-8cfe-fe691104236e",
   "metadata": {},
   "source": [
    "## 1. Read in RPM basal-organoid-derived allograft data"
   ]
  },
  {
   "cell_type": "code",
   "execution_count": null,
   "id": "0fcbbfd4-73b8-417e-83df-5f1028b337c2",
   "metadata": {},
   "outputs": [],
   "source": [
    "######### Now cluster in with RPM TBO Allograft tumor! ############"
   ]
  },
  {
   "cell_type": "code",
   "execution_count": null,
   "id": "46f70b0f-d56c-412d-a9fa-b2a5defe4676",
   "metadata": {},
   "outputs": [],
   "source": [
    "# 040824 Read in re-aligned RPM TBO Allo samples\n",
    "RPM_allo=sc.read_10x_mtx('MedGenome_FASTQ_123123/RPM_TBO_Allo/042024_RPM_TBO_Allo_CustomCount/outs/filtered_feature_bc_matrix', var_names='gene_symbols', cache=True)\n",
    "RPM_allo2=sc.read_10x_mtx('02_2024_TBO_Analyses/Old_Xeno/042024_custom_RPMTBO_FXeno_Old/outs/filtered_feature_bc_matrix', var_names='gene_symbols', cache=True)\n"
   ]
  },
  {
   "cell_type": "code",
   "execution_count": null,
   "id": "8c861dd4-fbe2-4993-8595-c9c0c7711dd5",
   "metadata": {},
   "outputs": [],
   "source": [
    "RPM_allo.obs['Genotype'] = 'RPM'\n",
    "RPM_allo.obs['Model'] = 'Allograft'\n",
    "RPM_allo.obs['Cre'] = 'Cre'\n",
    "RPM_allo.obs['UnID'] = 'RPM_Allo'\n",
    "RPM_allo.obs['Batch'] = 'RPM_Allo_New'\n",
    "\n",
    "RPM_allo2.obs['Genotype'] = 'RPM'\n",
    "RPM_allo2.obs['Model'] = 'Allograft'\n",
    "RPM_allo2.obs['Cre'] = 'Cre'\n",
    "RPM_allo2.obs['UnID'] = 'RPM_Allo'\n",
    "RPM_allo2.obs['Batch'] = 'RPM_Allo_Old'\n"
   ]
  },
  {
   "cell_type": "markdown",
   "id": "b7eb1206-e4a0-45a3-b40a-6cc4222e4bac",
   "metadata": {},
   "source": [
    "## 2. Concatenate allograft data with organoid data"
   ]
  },
  {
   "cell_type": "code",
   "execution_count": null,
   "id": "8b62c1a0-f582-4ebf-8e11-86ad76fc436e",
   "metadata": {},
   "outputs": [],
   "source": [
    "# Add to organoid samples and check it\n",
    "#Concatenate datasets\n",
    "adata= orgs_all2.concatenate([RPM_allo, RPM_allo2], index_unique=None, join=\"outer\")"
   ]
  },
  {
   "cell_type": "code",
   "execution_count": null,
   "id": "01204f0f-be5e-482c-beed-64cc9cdd4226",
   "metadata": {},
   "outputs": [],
   "source": [
    "adata.obs.groupby([\"Batch\"]).apply(len)"
   ]
  },
  {
   "cell_type": "code",
   "execution_count": null,
   "id": "308a282a-942a-41a5-9616-2dc47a38fb14",
   "metadata": {},
   "outputs": [],
   "source": [
    "adata.obs.groupby([\"UnID\"]).apply(len)"
   ]
  },
  {
   "cell_type": "markdown",
   "id": "48f1e6a8-20c0-4c15-820c-62407cd9e8b3",
   "metadata": {},
   "source": [
    "## 3. Perform QC"
   ]
  },
  {
   "cell_type": "code",
   "execution_count": null,
   "id": "de650570-40c0-4482-b7ea-d98f6512c0ab",
   "metadata": {},
   "outputs": [],
   "source": [
    "#QC filtering\n",
    "adata.var['mito'] = adata.var_names.str.startswith('mt-')  # annotate the group of mitochondrial genes as 'mt'\n",
    "sc.pp.calculate_qc_metrics(adata, qc_vars=['mito'], percent_top=None, log1p=False, inplace=True)"
   ]
  },
  {
   "cell_type": "code",
   "execution_count": null,
   "id": "d8a09fe7-322e-4b2e-b287-9cb5294a908e",
   "metadata": {},
   "outputs": [],
   "source": [
    "#QC filtering RPMA RPM only scanpy flow\n",
    "sc.pp.filter_cells(adata, min_genes=200)\n",
    "\n",
    "adata.var['mito'] = adata.var_names.str.startswith('mt-')  # annotate the group of mitochondrial genes as 'mt'\n",
    "sc.pp.calculate_qc_metrics(adata, qc_vars=['mito'], percent_top=None, log1p=False, inplace=True)"
   ]
  },
  {
   "cell_type": "code",
   "execution_count": null,
   "id": "a5eb1ee8-4967-4d4d-ba28-31bb06619a66",
   "metadata": {},
   "outputs": [],
   "source": [
    "sc.pl.violin(adata, ['n_genes_by_counts', 'total_counts', 'pct_counts_mito'],\n",
    "             jitter=0.4, multi_panel=True)\n",
    "sc.pl.scatter(adata, x='total_counts', y='pct_counts_mito')\n",
    "sc.pl.scatter(adata, x='total_counts', y='n_genes_by_counts')"
   ]
  },
  {
   "cell_type": "code",
   "execution_count": null,
   "id": "ec627124-06b5-42ac-b65a-6007321f1199",
   "metadata": {},
   "outputs": [],
   "source": [
    "#Filter data by slicing anndata object\n",
    "adata = adata[adata.obs.n_genes_by_counts < 9000, :]\n",
    "adata = adata[adata.obs.n_genes_by_counts > 500, :]\n",
    "adata = adata[adata.obs.total_counts > 2000, :]\n",
    "adata = adata[adata.obs.pct_counts_mito < 15, :]\n"
   ]
  },
  {
   "cell_type": "code",
   "execution_count": null,
   "id": "915f3beb-508c-40bb-9578-3930ab3d22e5",
   "metadata": {},
   "outputs": [],
   "source": [
    "#Prep for HVG and scvi\n",
    "#log1p the data\n",
    "adata.obs[\"log1p_total_counts\"] = np.log1p(adata.obs[\"total_counts\"])"
   ]
  },
  {
   "cell_type": "code",
   "execution_count": null,
   "id": "0f2868a0-96f1-4895-9c07-0f42cdc12b57",
   "metadata": {},
   "outputs": [],
   "source": [
    "#Create layers\n",
    "adata.layers[\"counts\"] = adata.X.copy()\n",
    "adata.layers['norm'] = adata.X.copy(); sc.pp.normalize_total(adata, target_sum=1e4, layer=\"norm\")"
   ]
  },
  {
   "cell_type": "code",
   "execution_count": null,
   "id": "7d93031b-7b3f-42e9-95ae-ad013af5a585",
   "metadata": {},
   "outputs": [],
   "source": [
    "#HVG via Scanpy\n",
    "#Note here that if you run with a batch_key with few cells, will get b'reciprocal condition number error\n",
    "sc.pp.highly_variable_genes(\n",
    "    adata,n_top_genes=10000,\n",
    "    subset=False,\n",
    "    layer=\"counts\",\n",
    "    flavor=\"seurat_v3\",\n",
    "    batch_key=\"Batch\"\n",
    ")"
   ]
  },
  {
   "cell_type": "markdown",
   "id": "54bafa37-f258-44dc-b8eb-eb2040e7ab89",
   "metadata": {},
   "source": [
    "## 4. Set up and train model (scvi)"
   ]
  },
  {
   "cell_type": "code",
   "execution_count": null,
   "id": "88627069-e311-473a-a918-65894b63b67d",
   "metadata": {},
   "outputs": [],
   "source": [
    "scvi.model.SCVI.setup_anndata(\n",
    "    adata,\n",
    "    layer=\"counts\",\n",
    "    batch_key='Batch',\n",
    "    continuous_covariate_keys=[\"pct_counts_mito\"]\n",
    ")\n"
   ]
  },
  {
   "cell_type": "code",
   "execution_count": null,
   "id": "7b593c93-1651-4b45-9f0e-71e6349c4ac9",
   "metadata": {},
   "outputs": [],
   "source": [
    "model = scvi.model.SCVI(adata)"
   ]
  },
  {
   "cell_type": "code",
   "execution_count": null,
   "id": "f45157df-d9b8-49e2-8e8d-8a037225e9bf",
   "metadata": {},
   "outputs": [],
   "source": [
    "model.train()"
   ]
  },
  {
   "cell_type": "markdown",
   "id": "5c7544a9-7796-477a-8f4e-77d1333504f7",
   "metadata": {},
   "source": [
    "## 5. Perform leiden clustering"
   ]
  },
  {
   "cell_type": "code",
   "execution_count": null,
   "id": "0ee15266-e7ad-429e-a6bb-7933ae675ee0",
   "metadata": {},
   "outputs": [],
   "source": [
    "#Fit model to data\n",
    "#Get latent representation of model to apply to UMAP\n",
    "latent = model.get_latent_representation()\n",
    "\n",
    "adata.obsm[\"X_scVI_1.1\"] = latent\n",
    "\n",
    "#Calculate neighbors using scVI model input\n",
    "sc.pp.neighbors(adata, use_rep=\"X_scVI_1.1\")\n",
    "sc.tl.umap(adata, min_dist=0.5)\n",
    "\n",
    "#Run leiden clustering based on neighbors\n",
    "sc.tl.leiden(adata, key_added=\"leiden_scVI_1.1\", resolution=1.0)"
   ]
  },
  {
   "cell_type": "markdown",
   "id": "489fa03c-6953-4941-85da-e42f8194dfa8",
   "metadata": {},
   "source": [
    "## 6. Visualize data"
   ]
  },
  {
   "cell_type": "code",
   "execution_count": null,
   "id": "096904a9-cdef-4661-881f-38ad2f1445fe",
   "metadata": {},
   "outputs": [],
   "source": [
    "#QC UMAPs\n",
    "sc.pl.umap(\n",
    "    adata,\n",
    "    color=[\"n_genes_by_counts\", \"total_counts\", \"pct_counts_mito\", \"log1p_total_counts\"],\n",
    "    cmap=\"cubehelix_r\",\n",
    "    s=3,\n",
    "    ncols=2,\n",
    ")"
   ]
  },
  {
   "cell_type": "code",
   "execution_count": null,
   "id": "fe36c830-554e-41ce-8d62-1699be8197b3",
   "metadata": {},
   "outputs": [],
   "source": [
    "fig, ax = plt.subplots(figsize=(6, 6))\n",
    "sc.pl.umap(adata, color=\"Genotype\", cmap=\"cmo.matter\", s=10, ax=ax, vmax=\"p99.99\", frameon=False, save=False)\n",
    "fig, ax = plt.subplots(figsize=(6, 6))\n",
    "sc.pl.umap(adata, color=\"leiden_scVI_1.1\", legend_loc=\"on data\", legend_fontsize='xx-large',ax=ax, s=10, frameon=False, save=False)\n",
    "fig, ax = plt.subplots(figsize=(6, 6))\n",
    "sc.pl.umap(adata, color=\"UnID\", legend_loc=\"right margin\", ax=ax, s=10, frameon=False, save=False,\n",
    "           palette={'RPM_Org_Cre' :'purple','WT_Org_NoCre':'orange', 'RPM_Allo' :'teal'}, title='Condition')\n",
    "\n",
    "#Additional QC bar graphs\n",
    "adata.obs['cluster'] = adata.obs[\"leiden_scVI_1.1\"].copy()\n",
    "\n",
    "#Plot Log1p total counts\n",
    "fig, ax = plt.subplots(figsize=(20,6))\n",
    "sns.boxenplot(data=adata.obs, x=\"cluster\", y=\"log1p_total_counts\", ax=ax)\n",
    "\n",
    "#Plot Pct counts mito\n",
    "fig, ax = plt.subplots(figsize=(20,6))\n",
    "sns.boxenplot(data=adata.obs, x=\"cluster\", y=\"pct_counts_mito\", ax=ax)"
   ]
  },
  {
   "cell_type": "code",
   "execution_count": null,
   "id": "0e17b83e-6142-42f4-98c5-4dcb7568c3b6",
   "metadata": {},
   "outputs": [],
   "source": [
    "#feature plots\n",
    "more_types=[\"Col14a1\", \"Acta2\",\"Myh11\",\"Tagln\",\"Mustn1\", #fibroblast\n",
    "              \"Lpl\",\"Lipa\",\"Pparg\",\"Plin2\",\"Ear1\",\"Fabp1\",\"Spp1\", #lipofibroblast/osteoblastic\n",
    "              \"Ptprc\",\"Mertk\",\"Marco\",\"Mrc1\",\"Ly75\",\"Adgre1\",\n",
    "            \"Itgax\",\"Cd68\",\"Csf1r\",\"Mafb\",\"Msr1\",\"Arg1\",\"Adgre4\",\"Clec4a1\", #Macs/Myeloid\n",
    "              \"Cx3cr1\",\"Itgam\",\"Cd14\", #Monocytes\n",
    "              \"S100a9\",\"S100a8\",\"Mmp9\",\"Csf3r\",\"Cxcr2\",\"Ly6g\", #Neuts\n",
    "              \"Batf3\",\"Xcr1\",\"Clec9a\",\"Ccl17\",\"Ccl22\", #DC\n",
    "              \"Cd3d\",\"Cd3g\",\"Cd28\",\"Cd8a\",\"Cd4\",\"Foxp3\", # Tcell\n",
    "              \"Gzma\",\"Ncr1\",\"Gzmb\", #NK\n",
    "              \"Fcmr\",\"Fcer2a\",\"Pax5\",\"Cd22\",\"Cd79b\",\"Cd79a\", #B cells\n",
    "              \"Slamf7\", \"Prdm1\", #Plasma\n",
    "              \"Mcam\",\"Pecam1\",\"Icam2\",\"Cd36\",\"Cd93\", \"Ascl1\",\"Neurod1\",\"Pou2f3\", \"fLuc\", \"GFP.CDS\",\"CellTag.UTR\"] #Endothelial\n",
    "\n",
    "sc.pl.umap(\n",
    "    adata,\n",
    "    color=more_types,\n",
    "    use_raw=False,\n",
    "    legend_loc= \"on data\",\n",
    "    color_map=\"cmo.dense\",\n",
    "    ncols=4,s=30,\n",
    "    frameon=False,\n",
    "    vmax=\"p99.5\",\n",
    "    layer=\"norm\",\n",
    "    save=False\n",
    ")"
   ]
  },
  {
   "cell_type": "code",
   "execution_count": null,
   "id": "ad4ae1aa-5a72-42ab-87d9-9f5a864192a2",
   "metadata": {},
   "outputs": [],
   "source": [
    "# Find cluster markers for each leiden cluster to aid filtering\n",
    "sc.tl.rank_genes_groups(adata, 'leiden_scVI_1.1', method='wilcoxon', layer='norm', use_raw=False)\n",
    "pd.DataFrame(adata.uns['rank_genes_groups']['names']).head(50)"
   ]
  },
  {
   "cell_type": "code",
   "execution_count": null,
   "id": "a1cc97c3-c878-496c-ad95-cc92582cf037",
   "metadata": {},
   "outputs": [],
   "source": [
    "#Identify and subset out low qual, plot doublets, and obvious non-tumor clusters (ptprc+)\n",
    "# cluster 14, 21, 20 = immune\n",
    "# cluster 18=stroma , cluster 19 = endothelial, \n",
    "\n",
    "bad_clust=['14','21','20','18','19']\n",
    "\n",
    "#Filter out bad clusters\n",
    "to_keep=(~adata.obs['leiden_scVI_1.1'].isin(bad_clust))\n",
    "\n",
    "#Copy over to new anndata object\n",
    "adata_2 = adata[to_keep].copy()"
   ]
  },
  {
   "cell_type": "markdown",
   "id": "52c03a7b-c906-4560-bb34-6043dbb21d31",
   "metadata": {},
   "source": [
    "### From here, continue iterating through runs of scvi modeling until no clear low quality cell clusters or non-tumor cells are observed.\n",
    "### Start back up at \"set up and train scvi model\" and run through subsetting out \"bad clusters\".\n",
    "### Each time clusters are removed, model is run again to recluster."
   ]
  },
  {
   "cell_type": "markdown",
   "id": "28c68980-4ee8-4252-993c-2fe304eb950c",
   "metadata": {},
   "source": [
    "## ITERATION 2 (Final iteration for Fig. 2d)"
   ]
  },
  {
   "cell_type": "code",
   "execution_count": null,
   "id": "484b9083-c676-423a-8ddf-c5eb34df7740",
   "metadata": {},
   "outputs": [],
   "source": [
    "#HVG via Scanpy\n",
    "#Note here that if you run with a batch_key with few cells, will get b'reciprocal condition number error\n",
    "sc.pp.highly_variable_genes(\n",
    "    adata_2,n_top_genes=10000,\n",
    "    subset=False,\n",
    "    layer=\"counts\",\n",
    "    flavor=\"seurat_v3\",\n",
    "    batch_key=\"Batch\"\n",
    ")\n"
   ]
  },
  {
   "cell_type": "code",
   "execution_count": null,
   "id": "e7f385da-620c-458d-af3c-09ccf6a4c54c",
   "metadata": {},
   "outputs": [],
   "source": [
    "\n",
    "scvi.model.SCVI.setup_anndata(\n",
    "    adata_2,\n",
    "    layer=\"counts\",\n",
    "    batch_key='Batch',\n",
    "    continuous_covariate_keys=[\"pct_counts_mito\"]\n",
    ")\n",
    "model = scvi.model.SCVI(adata_2)\n",
    "model.train()"
   ]
  },
  {
   "cell_type": "code",
   "execution_count": null,
   "id": "9d4b1f0c-796f-4d6d-b8a6-33f7578df9db",
   "metadata": {},
   "outputs": [],
   "source": [
    "#Fit model to data\n",
    "#Get latent representation of model to apply to UMAP\n",
    "latent = model.get_latent_representation()\n",
    "\n",
    "adata_2.obsm[\"X_scVI_1.2\"] = latent"
   ]
  },
  {
   "cell_type": "code",
   "execution_count": null,
   "id": "6691c547-33a4-4106-bb40-93b64699f55c",
   "metadata": {},
   "outputs": [],
   "source": [
    "#Calculate neighbors using scVI model input\n",
    "sc.pp.neighbors(adata_2, use_rep=\"X_scVI_1.2\")\n",
    "sc.tl.umap(adata_2, min_dist=0.5)\n",
    "\n",
    "#Run leiden clustering based on neighbors\n",
    "sc.tl.leiden(adata_2, key_added=\"leiden_scVI_1.2\", resolution=0.75)"
   ]
  },
  {
   "cell_type": "code",
   "execution_count": null,
   "id": "29b9cb6c-8b7f-47e9-be00-0b5005f308ef",
   "metadata": {},
   "outputs": [],
   "source": [
    "#QC UMAPs\n",
    "sc.pl.umap(\n",
    "    adata_2,\n",
    "    color=[\"n_genes_by_counts\", \"total_counts\", \"pct_counts_mito\", \"log1p_total_counts\"],\n",
    "    cmap=\"cubehelix_r\",\n",
    "    s=3,\n",
    "    ncols=2,\n",
    ")"
   ]
  },
  {
   "cell_type": "code",
   "execution_count": null,
   "id": "f17a1ac5-a1a5-4c4e-934c-3b2a5061a04a",
   "metadata": {},
   "outputs": [],
   "source": [
    "fig, ax = plt.subplots(figsize=(6, 6))\n",
    "sc.pl.umap(adata_2, color=\"Genotype\", cmap=\"cmo.matter\", s=10, ax=ax, vmax=\"p99.99\", frameon=False, save=False)\n",
    "fig, ax = plt.subplots(figsize=(6, 6))\n",
    "sc.pl.umap(adata_2, color=\"leiden_scVI_1.2\", legend_loc=\"on data\", legend_fontsize='xx-large',ax=ax, s=10, frameon=False, save=False)\n",
    "fig, ax = plt.subplots(figsize=(6, 6))\n",
    "sc.pl.umap(adata_2, color=\"UnID\", legend_loc=\"right margin\", ax=ax, s=10, frameon=False, save=False,\n",
    "           palette={'RPM_Org_Cre' :'purple','WT_Org_NoCre':'orange', 'RPM_Allo' :'teal'}, title='Condition')\n",
    "\n",
    "#Additional QC bar graphs\n",
    "adata_2.obs['cluster'] = adata_2.obs[\"leiden_scVI_1.2\"].copy()\n",
    "\n",
    "#Plot Log1p total counts\n",
    "fig, ax = plt.subplots(figsize=(20,6))\n",
    "sns.boxenplot(data=adata_2.obs, x=\"cluster\", y=\"log1p_total_counts\", ax=ax)\n",
    "\n",
    "#Plot Pct counts mito\n",
    "fig, ax = plt.subplots(figsize=(20,6))\n",
    "sns.boxenplot(data=adata_2.obs, x=\"cluster\", y=\"pct_counts_mito\", ax=ax)"
   ]
  },
  {
   "cell_type": "code",
   "execution_count": null,
   "id": "a7df5179-5a49-47ec-9b17-ef0d84c7a576",
   "metadata": {
    "tags": []
   },
   "outputs": [],
   "source": [
    "#feature plots\n",
    "more_types=[\"Col14a1\", \"Acta2\",\"Myh11\",\"Tagln\",\"Mustn1\", #fibroblast\n",
    "              \"Lpl\",\"Lipa\",\"Pparg\",\"Plin2\",\"Ear1\",\"Fabp1\",\"Spp1\", #lipofibroblast/osteoblastic\n",
    "              \"Ptprc\",\"Mertk\",\"Marco\",\"Mrc1\",\"Ly75\",\"Adgre1\",\n",
    "            \"Itgax\",\"Cd68\",\"Csf1r\",\"Mafb\",\"Msr1\",\"Arg1\",\"Adgre4\",\"Clec4a1\", #Macs/Myeloid\n",
    "              \"Cx3cr1\",\"Itgam\",\"Cd14\", #Monocytes\n",
    "              \"S100a9\",\"S100a8\",\"Mmp9\",\"Csf3r\",\"Cxcr2\",\"Ly6g\", #Neuts\n",
    "              \"Batf3\",\"Xcr1\",\"Clec9a\",\"Ccl17\",\"Ccl22\", #DC\n",
    "              \"Cd3d\",\"Cd3g\",\"Cd28\",\"Cd8a\",\"Cd4\",\"Foxp3\", # Tcell\n",
    "              \"Gzma\",\"Ncr1\",\"Gzmb\", #NK\n",
    "              \"Fcmr\",\"Fcer2a\",\"Pax5\",\"Cd22\",\"Cd79b\",\"Cd79a\", #B cells\n",
    "              \"Slamf7\", \"Prdm1\", #Plasma\n",
    "              \"Mcam\",\"Pecam1\",\"Icam2\",\"Cd36\",\"Cd93\", \"Ascl1\",\"Neurod1\",\"Pou2f3\", \"fLuc\", \"GFP.CDS\",\"CellTag.UTR\"] #Endothelial\n",
    "\n",
    "sc.pl.umap(\n",
    "    adata_2,\n",
    "    color=more_types,\n",
    "    use_raw=False,\n",
    "    legend_loc= \"on data\",\n",
    "    color_map=\"cmo.dense\",\n",
    "    ncols=4,s=30,\n",
    "    frameon=False,\n",
    "    vmax=\"p99.5\",\n",
    "    layer=\"norm\",\n",
    "    save=False\n",
    ")"
   ]
  },
  {
   "cell_type": "code",
   "execution_count": null,
   "id": "4dc1ea44-60d3-4a22-b5cf-6533fb8f7c4d",
   "metadata": {},
   "outputs": [],
   "source": [
    "adata_2.obs_names_make_unique()"
   ]
  },
  {
   "cell_type": "code",
   "execution_count": null,
   "id": "2ed4fbfb-d2fa-4ff8-a48a-a4a84249410e",
   "metadata": {},
   "outputs": [],
   "source": [
    "# Export and use to import to R/Seurat for signature analysis\n",
    "adata_2.write_h5ad(\"090624_RPM_WT_Org_Allo_Fig2d.h5ad\")"
   ]
  },
  {
   "cell_type": "code",
   "execution_count": null,
   "id": "d0175785-d623-4441-9752-c70d425dbf28",
   "metadata": {},
   "outputs": [],
   "source": [
    "adata_2=sc.read_h5ad(\"090624_RPM_WT_Org_Allo_Fig2d.h5ad\")"
   ]
  },
  {
   "cell_type": "code",
   "execution_count": null,
   "id": "7f22f8d0-71ac-4a80-a40d-a9088d24f5bd",
   "metadata": {},
   "outputs": [],
   "source": []
  },
  {
   "cell_type": "markdown",
   "id": "3dfb692b-49ac-45f7-ae42-644802ce784d",
   "metadata": {},
   "source": [
    "# New analysis of just RPM basal-derived allograft (tumor cells only)"
   ]
  },
  {
   "cell_type": "markdown",
   "id": "0612b448-a4e9-4862-a933-dfdcd85296e2",
   "metadata": {},
   "source": [
    "## Fig 2e and Extended Data Fig. 4e"
   ]
  },
  {
   "cell_type": "code",
   "execution_count": null,
   "id": "c58b1dc9-dc8c-4651-ada4-b35e6f1ad455",
   "metadata": {},
   "outputs": [],
   "source": [
    "#Subset out just RPM Allo for downstream analysis/leiden clusters\n",
    "\n",
    "keep=['RPM_Allo']\n",
    "\n",
    "#Filter out bad clusters\n",
    "to_keep=(adata_2.obs['UnID'].isin(keep))\n",
    "\n",
    "#Copy over to new anndata object\n",
    "adata_3 = adata_2[to_keep].copy()\n"
   ]
  },
  {
   "cell_type": "code",
   "execution_count": null,
   "id": "448283ae-5d6c-4f90-9cb8-a1ea275f1ec3",
   "metadata": {},
   "outputs": [],
   "source": [
    "adata_3.obs.groupby([\"Batch\"]).apply(len)"
   ]
  },
  {
   "cell_type": "code",
   "execution_count": null,
   "id": "a11f69fa-9e86-4ab2-bad6-060b16768025",
   "metadata": {},
   "outputs": [],
   "source": [
    "#HVG via Scanpy\n",
    "#Note here that if you run with a batch_key with few cells, will get b'reciprocal condition number error\n",
    "sc.pp.highly_variable_genes(\n",
    "    adata_3,n_top_genes=10000,\n",
    "    subset=False,\n",
    "    layer=\"counts\",\n",
    "    flavor=\"seurat_v3\",\n",
    "    batch_key=\"Batch\"\n",
    ")\n"
   ]
  },
  {
   "cell_type": "markdown",
   "id": "569f62a6-79cb-448f-9510-9b0d35063b8d",
   "metadata": {},
   "source": [
    "## 1. Set up and train model (scvi)"
   ]
  },
  {
   "cell_type": "code",
   "execution_count": null,
   "id": "e1238f3d-2171-40f9-86f5-19639d03fc97",
   "metadata": {},
   "outputs": [],
   "source": [
    "scvi.model.SCVI.setup_anndata(\n",
    "    adata_3,\n",
    "    layer=\"counts\",\n",
    "    batch_key='Batch',\n",
    "    continuous_covariate_keys=[\"pct_counts_mito\"]\n",
    ")\n",
    "model = scvi.model.SCVI(adata_3)\n",
    "model.train()\n"
   ]
  },
  {
   "cell_type": "code",
   "execution_count": null,
   "id": "f438645f-6893-424a-bc0e-4df65539d77d",
   "metadata": {},
   "outputs": [],
   "source": [
    "#Fit model to data\n",
    "#Get latent representation of model to apply to UMAP\n",
    "latent = model.get_latent_representation()\n",
    "\n",
    "adata_3.obsm[\"X_scVI_1.3\"] = latent\n"
   ]
  },
  {
   "cell_type": "markdown",
   "id": "bb427ae5-ec5d-4c56-a164-49e5e12f1a02",
   "metadata": {},
   "source": [
    "## 2. Perform leiden clustering"
   ]
  },
  {
   "cell_type": "code",
   "execution_count": null,
   "id": "6d0d563e-803d-48f6-a30e-0de1220b7b3a",
   "metadata": {},
   "outputs": [],
   "source": [
    "#Calculate neighbors using scVI model input\n",
    "sc.pp.neighbors(adata_3, use_rep=\"X_scVI_1.3\")\n",
    "sc.tl.umap(adata_3, min_dist=0.5)\n",
    "\n",
    "#Run leiden clustering based on neighbors\n",
    "sc.tl.leiden(adata_3, key_added=\"leiden_scVI_1.3\", resolution=0.5)"
   ]
  },
  {
   "cell_type": "code",
   "execution_count": null,
   "id": "82070b5b-a090-4aca-8946-98290a056096",
   "metadata": {},
   "outputs": [],
   "source": [
    "fig, ax = plt.subplots(figsize=(8, 6))\n",
    "sc.pl.umap(adata_3, color=\"leiden_scVI_1.3\", legend_loc=\"right margin\", legend_fontsize=\"large\",ax=ax, s=40, frameon=False, save=False)\n",
    "fig, ax = plt.subplots(figsize=(8, 8))\n",
    "sc.pl.umap(adata_3, color=\"Batch\", legend_loc=\"right margin\", ax=ax, s=30, frameon=False, save=False, title='Sample ID')\n"
   ]
  },
  {
   "cell_type": "code",
   "execution_count": null,
   "id": "a1cd680f-de60-4004-a6fd-3b83e3726c9a",
   "metadata": {},
   "outputs": [],
   "source": [
    "adata_3.write_h5ad(\"092424_RPM_AlloOnly_Fig2.h5ad\")"
   ]
  },
  {
   "cell_type": "code",
   "execution_count": null,
   "id": "78609266-3534-4831-8eb5-1bcdaa72aafd",
   "metadata": {},
   "outputs": [],
   "source": [
    "adata_3=sc.read_h5ad(\"092424_RPM_AlloOnly_Fig2.h5ad\")"
   ]
  },
  {
   "cell_type": "code",
   "execution_count": null,
   "id": "0098c6c9-9170-4af0-85c0-6f23d1789966",
   "metadata": {},
   "outputs": [],
   "source": [
    "#Additional QC bar graphs\n",
    "adata_3.obs['cluster'] = adata_3.obs[\"leiden_scVI_1.3\"].copy()\n",
    "\n",
    "#Plot Log1p total counts\n",
    "fig, ax = plt.subplots(figsize=(20,6))\n",
    "sns.boxenplot(data=adata_3.obs, x=\"cluster\", y=\"log1p_total_counts\", ax=ax)\n",
    "\n",
    "#Plot Pct counts mito\n",
    "fig, ax = plt.subplots(figsize=(20,6))\n",
    "sns.boxenplot(data=adata_3.obs, x=\"cluster\", y=\"pct_counts_mito\", ax=ax)"
   ]
  },
  {
   "cell_type": "code",
   "execution_count": null,
   "id": "7aef46d9-f335-41d0-9590-702fc2196ffd",
   "metadata": {},
   "outputs": [],
   "source": [
    "# Remove clusters 4 and 9, low quality. \n",
    "\n",
    "bad_clust=['4','9']\n",
    "\n",
    "#Filter out bad clusters\n",
    "to_keep=(~adata_3.obs['leiden_scVI_1.3'].isin(bad_clust))\n",
    "\n",
    "#Copy over to new anndata object\n",
    "adata_4 = adata_3[to_keep].copy()\n"
   ]
  },
  {
   "cell_type": "markdown",
   "id": "0ba6add6-0817-49d5-ac05-5da7341aa1ac",
   "metadata": {},
   "source": [
    "## ITERATION 2 (Final iteration for Fig 2e, RPM allograft tumor cells only)"
   ]
  },
  {
   "cell_type": "code",
   "execution_count": null,
   "id": "9f8e1edd-5a0d-4a96-9105-f81552f7eff2",
   "metadata": {},
   "outputs": [],
   "source": [
    "#HVG via Scanpy\n",
    "#Note here that if you run with a batch_key with few cells, will get b'reciprocal condition number error\n",
    "sc.pp.highly_variable_genes(\n",
    "    adata_4,n_top_genes=10000,\n",
    "    subset=False,\n",
    "    layer=\"counts\",\n",
    "    flavor=\"seurat_v3\",\n",
    "    batch_key=\"Batch\"\n",
    ")"
   ]
  },
  {
   "cell_type": "code",
   "execution_count": null,
   "id": "9f9c3eb5-69c2-4ade-abad-de247754c7e8",
   "metadata": {},
   "outputs": [],
   "source": [
    "scvi.model.SCVI.setup_anndata(\n",
    "    adata_4,\n",
    "    layer=\"counts\",\n",
    "    batch_key='Batch',\n",
    "    continuous_covariate_keys=[\"pct_counts_mito\"]\n",
    ")"
   ]
  },
  {
   "cell_type": "code",
   "execution_count": null,
   "id": "172a1f9a-d100-4aca-a136-a004f45619f4",
   "metadata": {},
   "outputs": [],
   "source": [
    "model = scvi.model.SCVI(adata_4)\n",
    "model.train()"
   ]
  },
  {
   "cell_type": "code",
   "execution_count": null,
   "id": "d60c05e4-dfbb-4398-8e60-9870f844d908",
   "metadata": {},
   "outputs": [],
   "source": [
    "#Fit model to data\n",
    "#Get latent representation of model to apply to UMAP\n",
    "latent = model.get_latent_representation()\n",
    "\n",
    "adata_4.obsm[\"X_scVI_1.4\"] = latent\n"
   ]
  },
  {
   "cell_type": "code",
   "execution_count": null,
   "id": "e81f39cf-93a9-4d9b-ab24-612f2808c31e",
   "metadata": {},
   "outputs": [],
   "source": [
    "#Calculate neighbors using scVI model input\n",
    "sc.pp.neighbors(adata_4, use_rep=\"X_scVI_1.4\")\n",
    "sc.tl.umap(adata_4, min_dist=.75)\n",
    "\n",
    "#Run leiden clustering based on neighbors\n",
    "sc.tl.leiden(adata_4, key_added=\"leiden_scVI_1.4\", resolution=0.5)"
   ]
  },
  {
   "cell_type": "code",
   "execution_count": null,
   "id": "7fafcc12-a6db-44c0-a159-398a531fac09",
   "metadata": {},
   "outputs": [],
   "source": [
    "fig, ax = plt.subplots(figsize=(8, 6))\n",
    "sc.pl.umap(adata_4, color=\"leiden_scVI_1.4\", legend_loc=\"right margin\", legend_fontsize=\"large\",ax=ax, s=40, frameon=False, save=False)\n",
    "fig, ax = plt.subplots(figsize=(8, 8))\n",
    "sc.pl.umap(adata_4, color=\"Batch\", legend_loc=\"right margin\", ax=ax, s=30, frameon=False, save=False, title='Sample ID')\n"
   ]
  },
  {
   "cell_type": "code",
   "execution_count": null,
   "id": "d786a091-eb83-484f-a78a-7f05aa9da490",
   "metadata": {},
   "outputs": [],
   "source": [
    "adata_4.obs.groupby([\"leiden_scVI_1.4\"]).apply(len)"
   ]
  },
  {
   "cell_type": "code",
   "execution_count": null,
   "id": "cc328bf4-438a-4304-b0ed-725cc387f5f3",
   "metadata": {},
   "outputs": [],
   "source": [
    "# Save and export to use in R/Seurat for signature analysis, etc. \n",
    "adata_4.write_h5ad(\"092824_RPM_Allo_Only_StringentQC_new.h5ad\")"
   ]
  },
  {
   "cell_type": "code",
   "execution_count": null,
   "id": "22e03a9c-3dea-412d-acb0-af4a24115ef0",
   "metadata": {},
   "outputs": [],
   "source": [
    "adata_4=sc.read_h5ad(\"092824_RPM_Allo_Only_StringentQC_new.h5ad\")"
   ]
  },
  {
   "cell_type": "code",
   "execution_count": null,
   "id": "e4ffceb5-8d14-483b-91ce-bf580cddca90",
   "metadata": {},
   "outputs": [],
   "source": [
    "#Additional QC bar graphs\n",
    "adata_4.obs['cluster'] = adata_4.obs[\"leiden_scVI_1.4\"].copy()\n",
    "\n",
    "#Plot Log1p total counts\n",
    "fig, ax = plt.subplots(figsize=(20,6))\n",
    "sns.boxenplot(data=adata_4.obs, x=\"cluster\", y=\"log1p_total_counts\", ax=ax)\n",
    "\n",
    "#Plot Pct counts mito\n",
    "fig, ax = plt.subplots(figsize=(20,6))\n",
    "sns.boxenplot(data=adata_4.obs, x=\"cluster\", y=\"pct_counts_mito\", ax=ax)"
   ]
  },
  {
   "cell_type": "code",
   "execution_count": null,
   "id": "340609a4-cc9e-4d08-a08a-b6c76a7afd8b",
   "metadata": {},
   "outputs": [],
   "source": [
    "#feature plots\n",
    "more_types=[\"Ascl1\", \"Syp\",\"Chga\",\"Insm1\", #NE\n",
    "              \"Neurod1\",\"Nhlh1\",\"Nhlh2\",\"Neurod2\", #neuronal\n",
    "              \"Pou2f3\",\"Ascl2\",\"Avil\",\"Gng13\", #tuft\n",
    "           \"Trp63\",\"Krt5\",\"Krt15\",\"Krt17\",#basal\n",
    "           \"Yap1\",\"Vim\",\"Cd44\",\"Wwtr1\"] #Mesenchymal/Yap\n",
    "\n",
    "sc.pl.umap(\n",
    "    adata_4,\n",
    "    color=more_types,\n",
    "    use_raw=False,\n",
    "    legend_loc= \"on data\",\n",
    "    color_map=\"cmo.dense\",\n",
    "    ncols=4,s=50,\n",
    "    frameon=False,\n",
    "    vmax=\"p99.5\",\n",
    "    layer=\"norm\",\n",
    "    save=False\n",
    ")"
   ]
  },
  {
   "cell_type": "code",
   "execution_count": null,
   "id": "cca1af2b-d286-48b3-a17d-1236e6e350d4",
   "metadata": {},
   "outputs": [],
   "source": [
    "# Dot plot for Extended Data Fig. 4e\n",
    "more_types=[\"Trp63\",\"Krt5\",\"Krt15\",\"Krt17\",#basal\n",
    "            \"Ascl1\", \"Syp\",\"Chga\",\"Insm1\",\"Chgb\",\"Myt1\",\"Sez6\",\"Foxa2\",\"Mycl\", #NE\n",
    "              \"Neurod1\",\"Nhlh1\",\"Nhlh2\",\"Neurod2\", #neuronal\n",
    "            'Pou2f3','Trpm5','Ascl2','Lrmp','Gng13','Avil','Alox5','Atp2a3', #tuft\n",
    "              \"Cftr\",'Foxi1', \"Ascl3\", 'Stap1','Pparg', #ionocyte\n",
    "              'Yap1','Wwtr1','Sox2','Cd44','Hes1',\"Vim\", # Stem-like/#Mesenchymal/Yap\n",
    "             \"Top2a\",\"Mki67\", \"Ube2c\",\"Aspm\", #Proliferation\n",
    "            'Myc',\"fLuc\"] #tumor markers\n",
    "\n",
    "sc.set_figure_params(scanpy=True, fontsize=17) \n",
    "sc.pl.dotplot(\n",
    "    adata_4,figsize=[15,2.5],\n",
    "    var_names=more_types,\n",
    "    groupby='leiden_scVI_1.4',\n",
    "    use_raw=False,\n",
    "    layer=\"norm\",show=False,\n",
    "    color_map=\"cmo.dense\", var_group_rotation=35,smallest_dot=10,\n",
    "    save=False) "
   ]
  },
  {
   "cell_type": "code",
   "execution_count": null,
   "id": "98684d50-4c39-4e02-a0c6-d92cdf67bff2",
   "metadata": {},
   "outputs": [],
   "source": [
    "#feature plots\n",
    "\n",
    "more_types=[\"Ascl1\",\"Neurod1\",\"Pou2f3\",\"Yap1\",\"Trp63\"]\n",
    "\n",
    "FIGSIZE = (4, 3)\n",
    "rcParams[\"figure.figsize\"] = FIGSIZE\n",
    "\n",
    "sc.pl.umap(\n",
    "    adata_4,\n",
    "    color=more_types,sort_order=True,\n",
    "    use_raw=False,\n",
    "    legend_loc= \"on data\",\n",
    "    color_map=\"cmo.dense\",\n",
    "    ncols=3,s=40,\n",
    "    frameon=False,\n",
    "    vmax=\"p99.5\",\n",
    "    layer=\"norm\",\n",
    "    save=False\n",
    ")"
   ]
  },
  {
   "cell_type": "code",
   "execution_count": null,
   "id": "eda1ee6f-c1c0-45e2-b3e0-fd10dcf5f990",
   "metadata": {},
   "outputs": [],
   "source": [
    "#Generate signatures from these data for supplemental table\n",
    "sc.pp.normalize_total(adata_4)\n",
    "sc.pp.log1p(adata_4)\n",
    "\n",
    "# Extract top 500 marker genes for leiden clusters from data \n",
    "sc.tl.rank_genes_groups(adata_4,'leiden_scVI_1.4', method='wilcoxon', n_genes=500)\n",
    "\n",
    "result = adata_4.uns['rank_genes_groups']\n",
    "groups = result['names'].dtype.names\n",
    "markergenes=pd.DataFrame(\n",
    "    {group + '_' + key[:1]: result[key][group]\n",
    "    for group in groups for key in ['names', 'pvals']})\n",
    "\n",
    "markergenes.to_csv('/hpc/home/asi16/RPM_AlloONLY_Leiden_scRNAseq_100724_2.csv' )"
   ]
  }
 ],
 "metadata": {
  "kernelspec": {
   "display_name": "Python 3",
   "language": "python",
   "name": "python3"
  },
  "language_info": {
   "codemirror_mode": {
    "name": "ipython",
    "version": 3
   },
   "file_extension": ".py",
   "mimetype": "text/x-python",
   "name": "python",
   "nbconvert_exporter": "python",
   "pygments_lexer": "ipython3",
   "version": "3.8.8"
  }
 },
 "nbformat": 4,
 "nbformat_minor": 5
}
