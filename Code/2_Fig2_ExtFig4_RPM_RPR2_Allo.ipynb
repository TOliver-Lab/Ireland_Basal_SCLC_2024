{
 "cells": [
  {
   "cell_type": "markdown",
   "id": "e1554673-83e4-4507-af9b-3998256041cc",
   "metadata": {},
   "source": [
    "# RPM vs RPR2 basal-organoid-derived allograft tumors"
   ]
  },
  {
   "cell_type": "markdown",
   "id": "6bce20c0-0db4-4563-8308-808c794a35c9",
   "metadata": {},
   "source": [
    "## Ireland et al 2024 BioRxiv"
   ]
  },
  {
   "cell_type": "markdown",
   "id": "7a880566-89d4-4ca6-a217-5a9eb216253d",
   "metadata": {},
   "source": [
    "### Analysis for Fig. 2l,m and Extended Data Fig. 4h"
   ]
  },
  {
   "cell_type": "code",
   "execution_count": null,
   "id": "fdbc2472-8ae6-4c80-b3b8-5c54745ff7ce",
   "metadata": {},
   "outputs": [],
   "source": [
    "#071624_RPM_RPR2_Allo_Cluster\n",
    "#Clustering RPM Allograft with RPR2 TBO for Figure 2 AI \n",
    "#Import relevant packages\n",
    "\n",
    "import numpy as np\n",
    "import pandas as pd\n",
    "from matplotlib import rcParams\n",
    "import os\n",
    "import scanpy as sc\n",
    "\n",
    "import matplotlib as mpl\n",
    "import matplotlib.pyplot as plt\n",
    "\n",
    "#For nice color schemes\n",
    "import cmocean\n",
    "\n",
    "#For barplots\n",
    "import seaborn as sns\n",
    "\n",
    "#Import scVI\n",
    "import scvi\n",
    "from scvi.model.utils import mde\n",
    "\n",
    "scvi.settings.verbosity = 40\n",
    "\n"
   ]
  },
  {
   "cell_type": "code",
   "execution_count": null,
   "id": "3c25deb4-d1d2-4292-a6ef-d7d8faca752c",
   "metadata": {},
   "outputs": [],
   "source": [
    "sc.settings.verbosity = 3             # verbosity: errors (0), warnings (1), info (2), hints (3)\n",
    "sc.logging.print_header()\n",
    "sc.settings.set_figure_params(dpi=80, facecolor='white')"
   ]
  },
  {
   "cell_type": "code",
   "execution_count": null,
   "id": "d32b4c94-c229-49b4-9bf4-3246f849dbea",
   "metadata": {},
   "outputs": [],
   "source": [
    "# Read \n",
    "os.chdir('/work/asi16')"
   ]
  },
  {
   "cell_type": "markdown",
   "id": "b0c8abda-e284-41a1-8062-14deb85d2881",
   "metadata": {},
   "source": [
    "## 1. Read in allograft data from RPM and RPR2 tumors"
   ]
  },
  {
   "cell_type": "code",
   "execution_count": null,
   "id": "6ae346f3-0191-4cb0-a287-4ffed920724f",
   "metadata": {
    "tags": []
   },
   "outputs": [],
   "source": [
    "# Read in RPR2 and RPM allografts\n",
    "RPR2_allo=sc.read_10x_mtx('062024_RPR2_TBO_Allo_custom/outs/filtered_feature_bc_matrix', var_names='gene_symbols', cache=True)\n",
    "RPM_allo=sc.read_10x_mtx('MedGenome_FASTQ_123123/RPM_TBO_Allo/042024_RPM_TBO_Allo_CustomCount/outs/filtered_feature_bc_matrix', var_names='gene_symbols', cache=True)\n",
    "RPM_allo2=sc.read_10x_mtx('02_2024_TBO_Analyses/Old_Xeno/042024_custom_RPMTBO_FXeno_Old/outs/filtered_feature_bc_matrix', var_names='gene_symbols', cache=True)\n"
   ]
  },
  {
   "cell_type": "markdown",
   "id": "370a847c-c24f-4a12-8f1f-94cf44fdd3a0",
   "metadata": {},
   "source": [
    "## 2. Concatenate tumor data from RPM and RPR2 models"
   ]
  },
  {
   "cell_type": "code",
   "execution_count": null,
   "id": "aa424061-2285-4a41-9a6a-60d63c634781",
   "metadata": {},
   "outputs": [],
   "source": [
    "# Concatenate RPR2 w RPM allo cells\n",
    "adata= RPR2_allo.concatenate([RPM_allo, RPM_allo2], index_unique=None, join=\"outer\")\n",
    "adata.obs.groupby([\"Genotype\"]).apply(len)"
   ]
  },
  {
   "cell_type": "markdown",
   "id": "0af83089-29ec-4d24-9c18-c7074e2a2f29",
   "metadata": {},
   "source": [
    "## 3. Perform QC"
   ]
  },
  {
   "cell_type": "code",
   "execution_count": null,
   "id": "cc82112a-7a45-491f-9212-54e73b171e0f",
   "metadata": {},
   "outputs": [],
   "source": [
    "# Perform QC on RPR2_Allo \n",
    "#QC filtering\n",
    "RPR2_allo.var['mito'] = RPR2_allo.var_names.str.startswith('mt-')  # annotate the group of mitochondrial genes as 'mt'\n",
    "sc.pp.calculate_qc_metrics(RPR2_allo, qc_vars=['mito'], percent_top=None, log1p=False, inplace=True)"
   ]
  },
  {
   "cell_type": "code",
   "execution_count": null,
   "id": "273b3718-59d7-46bc-a405-f6581a08dbd6",
   "metadata": {},
   "outputs": [],
   "source": [
    "#QC filtering RPR2 only scanpy flow\n",
    "sc.pp.filter_cells(RPR2_allo, min_genes=200)\n",
    "\n",
    "RPR2_allo.var['mito'] = RPR2_allo.var_names.str.startswith('mt-')  # annotate the group of mitochondrial genes as 'mt'\n",
    "sc.pp.calculate_qc_metrics(RPR2_allo, qc_vars=['mito'], percent_top=None, log1p=False, inplace=True)"
   ]
  },
  {
   "cell_type": "code",
   "execution_count": null,
   "id": "c58bbe0c-4e79-4905-b358-5035f1fdc532",
   "metadata": {},
   "outputs": [],
   "source": [
    "sc.pl.violin(RPR2_allo, ['n_genes_by_counts', 'total_counts', 'pct_counts_mito'],\n",
    "             jitter=0.4, multi_panel=True)\n",
    "sc.pl.scatter(RPR2_allo, x='total_counts', y='pct_counts_mito')\n",
    "sc.pl.scatter(RPR2_allo, x='total_counts', y='n_genes_by_counts')"
   ]
  },
  {
   "cell_type": "code",
   "execution_count": null,
   "id": "48e1cfeb-3b37-4c4c-a80f-c052b1b68312",
   "metadata": {},
   "outputs": [],
   "source": [
    "#Filter data by slicing anndata object\n",
    "RPR2_allo = RPR2_allo[RPR2_allo.obs.n_genes_by_counts < 9000, :]\n",
    "RPR2_allo = RPR2_allo[RPR2_allo.obs.n_genes_by_counts > 500, :]\n",
    "RPR2_allo = RPR2_allo[RPR2_allo.obs.total_counts > 2000, :]\n",
    "RPR2_allo = RPR2_allo[RPR2_allo.obs.pct_counts_mito < 15, :]"
   ]
  },
  {
   "cell_type": "code",
   "execution_count": null,
   "id": "2adb44c0-c215-42bf-aac3-580051d7a15d",
   "metadata": {},
   "outputs": [],
   "source": [
    "# Add metadata to RPR2 sample\n",
    "RPR2_allo.obs['Genotype'] = 'RPR2'\n",
    "RPR2_allo.obs['Model'] = 'Allograft'\n",
    "RPR2_allo.obs['Cre'] = 'Cre'\n",
    "RPR2_allo.obs['UnID'] = 'RPR2_Allo'\n",
    "RPR2_allo.obs['Batch'] = 'RPR2_Allo'\n"
   ]
  },
  {
   "cell_type": "code",
   "execution_count": null,
   "id": "c14d14d0-0f13-4884-b392-33c660756a3c",
   "metadata": {},
   "outputs": [],
   "source": [
    "adata.obs.groupby([\"UnID\"]).apply(len)"
   ]
  },
  {
   "cell_type": "code",
   "execution_count": null,
   "id": "4f4b7454-53fc-4cf6-b41e-939a171851d0",
   "metadata": {},
   "outputs": [],
   "source": [
    "#Prep for HVG and scvi\n",
    "#log1p the data\n",
    "adata.obs[\"log1p_total_counts\"] = np.log1p(adata.obs[\"total_counts\"])"
   ]
  },
  {
   "cell_type": "code",
   "execution_count": null,
   "id": "df706810-766a-4976-97ce-4c7def938254",
   "metadata": {},
   "outputs": [],
   "source": [
    "#Create layers\n",
    "adata.layers[\"counts\"] = adata.X.copy()\n",
    "adata.layers['norm'] = adata.X.copy(); sc.pp.normalize_total(adata, target_sum=1e4, layer=\"norm\")"
   ]
  },
  {
   "cell_type": "code",
   "execution_count": null,
   "id": "283f740c-e731-489a-b1b1-12af5040e5e6",
   "metadata": {},
   "outputs": [],
   "source": [
    "#HVG via Scanpy\n",
    "#Note here that if you run with a batch_key with few cells, will get b'reciprocal condition number error\n",
    "sc.pp.highly_variable_genes(\n",
    "    adata,n_top_genes=10000,\n",
    "    subset=False,\n",
    "    layer=\"counts\",\n",
    "    flavor=\"seurat_v3\",\n",
    "    batch_key=\"Batch\"\n",
    ")"
   ]
  },
  {
   "cell_type": "markdown",
   "id": "94459394-3e30-4ae5-a651-61bb76b1e66a",
   "metadata": {},
   "source": [
    "## 4. Set up model and train (scvi)"
   ]
  },
  {
   "cell_type": "code",
   "execution_count": null,
   "id": "e40e7bb5-1a38-48f3-b675-d66ee73701e7",
   "metadata": {},
   "outputs": [],
   "source": [
    "scvi.model.SCVI.setup_anndata(\n",
    "    adata,\n",
    "    layer=\"counts\",\n",
    "    batch_key='Batch',\n",
    "    continuous_covariate_keys=[\"pct_counts_mito\"]\n",
    ")"
   ]
  },
  {
   "cell_type": "code",
   "execution_count": null,
   "id": "c76a7267-851a-4ad2-b445-a9088d8a221c",
   "metadata": {},
   "outputs": [],
   "source": [
    "model = scvi.model.SCVI(adata)"
   ]
  },
  {
   "cell_type": "code",
   "execution_count": null,
   "id": "a336a070-bf37-468c-abc8-58b2c59a08f9",
   "metadata": {},
   "outputs": [],
   "source": [
    "model.train()"
   ]
  },
  {
   "cell_type": "code",
   "execution_count": null,
   "id": "c98e949e-8406-476c-abaa-c549df4f37b1",
   "metadata": {},
   "outputs": [],
   "source": [
    "#Fit model to data\n",
    "#Get latent representation of model to apply to UMAP\n",
    "latent = model.get_latent_representation()\n",
    "adata.obsm[\"X_scVI_1.1\"] = latent"
   ]
  },
  {
   "cell_type": "markdown",
   "id": "ea3a0221-ec44-410d-8862-d460dac739c0",
   "metadata": {},
   "source": [
    "## 5. Perform leiden clustering"
   ]
  },
  {
   "cell_type": "code",
   "execution_count": null,
   "id": "bdb1620b-9977-4aa4-b2b0-281a60d54555",
   "metadata": {},
   "outputs": [],
   "source": [
    "#Calculate neighbors using scVI model input\n",
    "sc.pp.neighbors(adata, use_rep=\"X_scVI_1.1\")\n",
    "sc.tl.umap(adata, min_dist=0.5)\n",
    "\n",
    "#Run leiden clustering based on neighbors\n",
    "sc.tl.leiden(adata, key_added=\"leiden_scVI_1.1\", resolution=1)"
   ]
  },
  {
   "cell_type": "markdown",
   "id": "941b4dc4-8fb5-48d7-9b5c-ee71f6dfcdbd",
   "metadata": {},
   "source": [
    "## 6. Visualize data and get marker genes to ID high-quality tumor clusters only"
   ]
  },
  {
   "cell_type": "code",
   "execution_count": null,
   "id": "454f67b8-5d7c-4afa-90ef-5eac96503d05",
   "metadata": {},
   "outputs": [],
   "source": [
    "#QC UMAPs\n",
    "sc.pl.umap(\n",
    "    adata,\n",
    "    color=[\"n_genes_by_counts\", \"total_counts\", \"pct_counts_mito\", \"log1p_total_counts\"],\n",
    "    cmap=\"cubehelix_r\",\n",
    "    s=3,\n",
    "    ncols=2,\n",
    ")"
   ]
  },
  {
   "cell_type": "code",
   "execution_count": null,
   "id": "0b3a6b29-a2ff-41fe-8def-ca2a74c70179",
   "metadata": {},
   "outputs": [],
   "source": [
    "fig, ax = plt.subplots(figsize=(8, 6))\n",
    "sc.pl.umap(adata, color=\"Genotype\", cmap=\"cmo.matter\", s=30, ax=ax, vmax=\"p99.99\", frameon=False, save=False)\n",
    "fig, ax = plt.subplots(figsize=(8, 6))\n",
    "sc.pl.umap(adata, color=\"leiden_scVI_1.1\", legend_loc=\"on data\", legend_fontsize='large',ax=ax, s=30, frameon=False, save=False)\n",
    "fig, ax = plt.subplots(figsize=(8, 6))\n",
    "sc.pl.umap(adata, color=\"Cre\", legend_loc=\"right margin\", ax=ax, s=30, frameon=False, save=False, palette=['purple','orange'])\n",
    "fig, ax = plt.subplots(figsize=(8, 6))\n",
    "sc.pl.umap(adata, color=\"Model\", legend_loc=\"right margin\", ax=ax, s=30, frameon=False, save=False, palette=['#0aa6d8','#a1c299'])\n",
    "fig, ax = plt.subplots(figsize=(8, 6))\n",
    "sc.pl.umap(adata, color=\"UnID\", legend_loc=\"right margin\", ax=ax, s=30, frameon=False, save=False)\n",
    "\n",
    "\n",
    "#Additional QC bar graphs\n",
    "adata.obs['cluster'] = adata.obs[\"leiden_scVI_1.1\"].copy()\n",
    "\n",
    "#Plot Log1p total counts\n",
    "fig, ax = plt.subplots(figsize=(20,6))\n",
    "sns.boxenplot(data=adata.obs, x=\"cluster\", y=\"log1p_total_counts\", ax=ax)\n",
    "\n",
    "#Plot Pct counts mito\n",
    "fig, ax = plt.subplots(figsize=(20,6))\n",
    "sns.boxenplot(data=adata.obs, x=\"cluster\", y=\"pct_counts_mito\", ax=ax)"
   ]
  },
  {
   "cell_type": "code",
   "execution_count": null,
   "id": "7641e0fd-fc29-4264-bf03-9a94b5e6ed9d",
   "metadata": {},
   "outputs": [],
   "source": [
    "#feature plots\n",
    " # updated 3/4/21 #\n",
    "more_types=[\"Ptprc\", \"Acta2\",\"Pecam1\",\n",
    "            \"Pdpn\",\"Cav1\",\"Cav2\",\"Hopx\",\"Timp3\",\"Sema3f\",\"Serpine1\", #AT1\n",
    "              \"Abca3\",\"Muc1\",\"Sftpa1\",\"Sftpb\",\"Sftpd\",\"Scd1\", #AT2\n",
    "              \"Scgb1a1\",\"Cyp2f2\",\"Scgb3a2\", \"Scgb3a1\",\"Lypd2\",#Club\n",
    "              \"Muc5ac\",\"Muc5b\", # Goblet\n",
    "              \"Tubb4a\",\"Foxa3\",\"Foxj1\",\"Rfx2\",\"Rfx3\",\"Trp73\", #Ciliated\n",
    "              'Krt5', 'Krt17','Krt15','Trp63','Id1','Icam1','Epas1','Aqp3','Sfn','Perp','Fxyd3','Sdc1','Gstm2','F3','Abi3bp','Adh7', # Basal\n",
    "              'Bex2','Ascl1','Meis2','Hes6','Neurod1','Neurod4','Nhlh1','Nhlh2',\n",
    "              'Hoxb5','Foxa2','Sox4','Rora','Isl1','Id4', \n",
    "              'Pou2f3','Trpm5','Ascl2','Ehf',\n",
    "              'Lrmp','Gng13','Ltc4s','Alox5ap','Avil','Alox5','Atp2a3','Plk2', #tuft\n",
    "              \"Cftr\",\"Ascl3\", 'Stap1','Atp6v1c2','Pparg','Rasd1','Slc12a2', #ionocyte\n",
    "              \"Gja1\",\"Nkx2-1\",\"Epcam\", # Lung lineage\n",
    "              'Yap1','Wwtr1','Sox2','Cd44','Hes1', # Stem-like\n",
    "             \"Venus\",\"fLuc\", \"Top2a\",\"Mki67\",\n",
    "            'GFP.CDS','CellTag.UTR'] # Tumor markers\n",
    "\n",
    "sc.pl.umap(\n",
    "    adata,\n",
    "    color=more_types,\n",
    "    use_raw=False,\n",
    "    legend_loc= \"on data\",\n",
    "    color_map=\"cmo.dense\",\n",
    "    ncols=4,\n",
    "    frameon=False,\n",
    "    layer=\"norm\",\n",
    "    save=False\n",
    ")"
   ]
  },
  {
   "cell_type": "code",
   "execution_count": null,
   "id": "45477a4a-29a0-4d43-9a61-f50e705a9474",
   "metadata": {},
   "outputs": [],
   "source": [
    "# Find cluster markers for each leiden cluster to aid filtering\n",
    "sc.tl.rank_genes_groups(adata, 'leiden_scVI_1.1', method='wilcoxon', layer='norm', use_raw=False)\n",
    "pd.DataFrame(adata.uns['rank_genes_groups']['names']).head(50)"
   ]
  },
  {
   "cell_type": "code",
   "execution_count": null,
   "id": "68cddf8e-d473-4f5a-bd90-7a8617634463",
   "metadata": {},
   "outputs": [],
   "source": [
    "adata.write_h5ad(\"071624_adata_RPM_RPR2_TBOAllo.h5ad\")"
   ]
  },
  {
   "cell_type": "code",
   "execution_count": null,
   "id": "9c202316-3846-498b-bcaf-3f98ea9e6dc0",
   "metadata": {},
   "outputs": [],
   "source": [
    "adata"
   ]
  },
  {
   "cell_type": "code",
   "execution_count": null,
   "id": "438302eb-c50e-4987-9ce2-1f5d05ecea77",
   "metadata": {},
   "outputs": [],
   "source": [
    "# Remove non-tumor/low quality clusters\n",
    "# Cluster 19 immune, Cluster 20 fibroblast, \n",
    "# Subset adata_2 which contains RPM organoids and allografts (Fig 3f) to just have RPM tumor cells \n",
    "\n",
    "bad_clust=['19','20']\n",
    "\n",
    "#Filter out bad clusters\n",
    "to_keep=(~adata.obs['leiden_scVI_1.1'].isin(bad_clust))\n",
    "\n",
    "#Copy over to new anndata object\n",
    "adata_2 = adata[to_keep].copy()"
   ]
  },
  {
   "cell_type": "markdown",
   "id": "310fbb77-2c18-456f-854c-fa2589347eb0",
   "metadata": {},
   "source": [
    "### From here, continue iterating through runs of scvi modeling until no clear low quality cell clusters or non-tumor cells are observed.\n",
    "### Start back up at \"set up and train scvi model\" and run through subsetting out \"bad clusters\".\n",
    "### Each time clusters are removed, model is run again to recluster."
   ]
  },
  {
   "cell_type": "markdown",
   "id": "0f27b545-ff5f-47c9-aa28-d1539ff0f741",
   "metadata": {},
   "source": [
    "## ITERATION 2"
   ]
  },
  {
   "cell_type": "code",
   "execution_count": null,
   "id": "83cd489b-0373-4d0c-8c18-d01ad92b33ce",
   "metadata": {},
   "outputs": [],
   "source": [
    "#HVG via Scanpy\n",
    "#Note here that if you run with a batch_key with few cells, will get b'reciprocal condition number error\n",
    "sc.pp.highly_variable_genes(\n",
    "    adata_2,n_top_genes=10000,\n",
    "    subset=False,\n",
    "    layer=\"counts\",\n",
    "    flavor=\"seurat_v3\",\n",
    "    batch_key=\"Batch\"\n",
    ")"
   ]
  },
  {
   "cell_type": "code",
   "execution_count": null,
   "id": "61cbfa29-7042-4198-a7b8-355eb980ed78",
   "metadata": {},
   "outputs": [],
   "source": [
    "scvi.model.SCVI.setup_anndata(\n",
    "    adata_2,\n",
    "    layer=\"counts\",\n",
    "    batch_key='Batch',\n",
    "    continuous_covariate_keys=[\"pct_counts_mito\"]\n",
    ")"
   ]
  },
  {
   "cell_type": "code",
   "execution_count": null,
   "id": "a1bc387d-2e16-4fe4-bcf4-1f4fe1d2f278",
   "metadata": {},
   "outputs": [],
   "source": [
    "model = scvi.model.SCVI(adata_2)"
   ]
  },
  {
   "cell_type": "code",
   "execution_count": null,
   "id": "d94ef975-0e8e-4554-8e33-493215eeaeb5",
   "metadata": {},
   "outputs": [],
   "source": [
    "adata_2.obs.groupby([\"UnID\"]).apply(len)"
   ]
  },
  {
   "cell_type": "code",
   "execution_count": null,
   "id": "da2d78c7-1732-4c2e-b9f8-5d65760d48cf",
   "metadata": {},
   "outputs": [],
   "source": [
    "model.train()"
   ]
  },
  {
   "cell_type": "code",
   "execution_count": null,
   "id": "2e78cbf1-2729-4592-9489-491cb3f5376f",
   "metadata": {},
   "outputs": [],
   "source": [
    "#Fit model to data\n",
    "#Get latent representation of model to apply to UMAP\n",
    "latent = model.get_latent_representation()\n",
    "\n",
    "adata_2.obsm[\"X_scVI_1.2\"] = latent"
   ]
  },
  {
   "cell_type": "code",
   "execution_count": null,
   "id": "62e6c34a-5429-4d7a-90be-309971ca7060",
   "metadata": {},
   "outputs": [],
   "source": [
    "#Calculate neighbors using scVI model input\n",
    "sc.pp.neighbors(adata_2, use_rep=\"X_scVI_1.2\")\n",
    "sc.tl.umap(adata_2, min_dist=0.5)\n",
    "\n",
    "#Run leiden clustering based on neighbors\n",
    "sc.tl.leiden(adata_2, key_added=\"leiden_scVI_1.2\", resolution=1)"
   ]
  },
  {
   "cell_type": "code",
   "execution_count": null,
   "id": "8f3761a7-ff4e-4bf4-acd2-c6ffb6879a55",
   "metadata": {},
   "outputs": [],
   "source": [
    "#QC UMAPs\n",
    "sc.pl.umap(\n",
    "    adata_2,\n",
    "    color=[\"n_genes_by_counts\", \"total_counts\", \"pct_counts_mito\", \"log1p_total_counts\"],\n",
    "    cmap=\"cubehelix_r\",\n",
    "    s=3,\n",
    "    ncols=2,\n",
    ")"
   ]
  },
  {
   "cell_type": "code",
   "execution_count": null,
   "id": "e6acea8e-8883-4751-aa02-8574f3266f30",
   "metadata": {},
   "outputs": [],
   "source": [
    "fig, ax = plt.subplots(figsize=(8, 6))\n",
    "sc.pl.umap(adata_2, color=\"Genotype\", cmap=\"cmo.matter\", s=30, ax=ax, vmax=\"p99.99\", frameon=False, save=False)\n",
    "fig, ax = plt.subplots(figsize=(8, 6))\n",
    "sc.pl.umap(adata_2, color=\"leiden_scVI_1.1\", legend_loc=\"on data\", legend_fontsize='large',ax=ax, s=30, frameon=False, save=False)\n",
    "fig, ax = plt.subplots(figsize=(8, 6))\n",
    "sc.pl.umap(adata_2, color=\"Cre\", legend_loc=\"right margin\", ax=ax, s=30, frameon=False, save=False, palette=['purple','orange'])\n",
    "fig, ax = plt.subplots(figsize=(8, 6))\n",
    "sc.pl.umap(adata_2, color=\"Model\", legend_loc=\"right margin\", ax=ax, s=30, frameon=False, save=False, palette=['#0aa6d8','#a1c299'])\n",
    "fig, ax = plt.subplots(figsize=(8, 6))\n",
    "sc.pl.umap(adata_2, color=\"UnID\", legend_loc=\"right margin\", ax=ax, s=30, frameon=False, save=False)\n",
    "\n",
    "\n",
    "#Additional QC bar graphs\n",
    "adata_2.obs['cluster'] = adata_2.obs[\"leiden_scVI_1.2\"].copy()\n",
    "\n",
    "#Plot Log1p total counts\n",
    "fig, ax = plt.subplots(figsize=(20,6))\n",
    "sns.boxenplot(data=adata_2.obs, x=\"cluster\", y=\"log1p_total_counts\", ax=ax)\n",
    "\n",
    "#Plot Pct counts mito\n",
    "fig, ax = plt.subplots(figsize=(20,6))\n",
    "sns.boxenplot(data=adata_2.obs, x=\"cluster\", y=\"pct_counts_mito\", ax=ax)"
   ]
  },
  {
   "cell_type": "code",
   "execution_count": null,
   "id": "4eb156fa-9499-4733-a643-07db71b1dd27",
   "metadata": {
    "tags": []
   },
   "outputs": [],
   "source": [
    "#feature plots\n",
    " # updated 3/4/21 #\n",
    "more_types=[\"Ptprc\", \"Acta2\",\"Pecam1\",\n",
    "            \"Pdpn\",\"Cav1\",\"Cav2\",\"Hopx\",\"Timp3\",\"Sema3f\",\"Serpine1\", #AT1\n",
    "              \"Abca3\",\"Muc1\",\"Sftpa1\",\"Sftpb\",\"Sftpd\",\"Scd1\", #AT2\n",
    "              \"Scgb1a1\",\"Cyp2f2\",\"Scgb3a2\", \"Scgb3a1\",\"Lypd2\",#Club\n",
    "              \"Muc5ac\",\"Muc5b\", # Goblet\n",
    "              \"Tubb4a\",\"Foxa3\",\"Foxj1\",\"Rfx2\",\"Rfx3\",\"Trp73\", #Ciliated\n",
    "              'Krt5', 'Krt17','Krt15','Trp63','Id1','Icam1','Epas1','Aqp3','Sfn','Perp','Fxyd3','Sdc1','Gstm2','F3','Abi3bp','Adh7', # Basal\n",
    "              'Bex2','Ascl1','Meis2','Hes6','Neurod1','Neurod4','Nhlh1','Nhlh2',\n",
    "              'Hoxb5','Foxa2','Sox4','Rora','Isl1','Id4', \n",
    "              'Pou2f3','Trpm5','Ascl2','Ehf',\n",
    "              'Lrmp','Gng13','Ltc4s','Alox5ap','Avil','Alox5','Atp2a3','Plk2', #tuft\n",
    "              \"Cftr\",\"Ascl3\", 'Stap1','Atp6v1c2','Pparg','Rasd1','Slc12a2', #ionocyte\n",
    "              \"Gja1\",\"Nkx2-1\",\"Epcam\", # Lung lineage\n",
    "              'Yap1','Wwtr1','Sox2','Cd44','Hes1', # Stem-like\n",
    "             \"Venus\",\"fLuc\", \"Top2a\",\"Mki67\",\n",
    "            'GFP.CDS','CellTag.UTR'] # Tumor markers\n",
    "\n",
    "sc.pl.umap(\n",
    "    adata_2,\n",
    "    color=more_types,\n",
    "    use_raw=False,\n",
    "    legend_loc= \"on data\",\n",
    "    color_map=\"cmo.dense\",\n",
    "    ncols=4,\n",
    "    frameon=False,\n",
    "    layer=\"norm\",\n",
    "    save=False\n",
    ")"
   ]
  },
  {
   "cell_type": "code",
   "execution_count": null,
   "id": "c102c192-75b6-4890-8187-4def5bbbad91",
   "metadata": {},
   "outputs": [],
   "source": [
    "# Find cluster markers for each leiden cluster to aid filtering\n",
    "sc.tl.rank_genes_groups(adata_2, 'leiden_scVI_1.2', method='wilcoxon', layer='norm', use_raw=False)\n",
    "pd.DataFrame(adata_2.uns['rank_genes_groups']['names']).head(50)"
   ]
  },
  {
   "cell_type": "code",
   "execution_count": null,
   "id": "0108cf96-e478-41f0-a4e8-2caaf84897dd",
   "metadata": {},
   "outputs": [],
   "source": [
    "adata_2.write_h5ad(\"071624_adata_2_RPM_RPR2_TBOAllo.h5ad\")"
   ]
  },
  {
   "cell_type": "code",
   "execution_count": null,
   "id": "5a24b2e3-2170-4152-a881-c58f31fde3e3",
   "metadata": {},
   "outputs": [],
   "source": [
    "adata_2=sc.read_h5ad(\"071624_adata_2_RPM_RPR2_TBOAllo.h5ad\")"
   ]
  },
  {
   "cell_type": "code",
   "execution_count": null,
   "id": "b95203de-544b-44e5-9066-8a2f5cf99720",
   "metadata": {},
   "outputs": [],
   "source": [
    "# Remove non-tumor/low quality clusters\n",
    "# Cluster 15 seems like normal cells.. alveolar/secretory/basal\n",
    "\n",
    "bad_clust=['15']\n",
    "\n",
    "#Filter out bad clusters\n",
    "to_keep=(~adata_2.obs['leiden_scVI_1.2'].isin(bad_clust))\n",
    "\n",
    "#Copy over to new anndata object\n",
    "adata_3 = adata_2[to_keep].copy()"
   ]
  },
  {
   "cell_type": "markdown",
   "id": "ea15a4e0-3484-4fe1-bcfa-1b388d321cc7",
   "metadata": {},
   "source": [
    "## ITERATION 3 (Final iteration for Fig 2l,m and Ext Data Fig 4h)"
   ]
  },
  {
   "cell_type": "code",
   "execution_count": null,
   "id": "caa782c4-f4e7-431d-873e-efce5b87b1ec",
   "metadata": {},
   "outputs": [],
   "source": [
    "#HVG via Scanpy\n",
    "#Note here that if you run with a batch_key with few cells, will get b'reciprocal condition number error\n",
    "sc.pp.highly_variable_genes(\n",
    "    adata_3,n_top_genes=10000,\n",
    "    subset=False,\n",
    "    layer=\"counts\",\n",
    "    flavor=\"seurat_v3\",\n",
    "    batch_key=\"Batch\"\n",
    ")"
   ]
  },
  {
   "cell_type": "code",
   "execution_count": null,
   "id": "bf350c07-7de7-4b5a-8eaf-3003c4b293ab",
   "metadata": {},
   "outputs": [],
   "source": [
    "scvi.model.SCVI.setup_anndata(\n",
    "    adata_3,\n",
    "    layer=\"counts\",\n",
    "    batch_key='Batch',\n",
    "    continuous_covariate_keys=[\"pct_counts_mito\"]\n",
    ")"
   ]
  },
  {
   "cell_type": "code",
   "execution_count": null,
   "id": "5f2c2925-1bb9-4267-86fb-db3307ea6349",
   "metadata": {},
   "outputs": [],
   "source": [
    "model = scvi.model.SCVI(adata_3)"
   ]
  },
  {
   "cell_type": "code",
   "execution_count": null,
   "id": "d663446a-1b32-46bd-99f7-a2b61f957d6a",
   "metadata": {},
   "outputs": [],
   "source": [
    "adata_3.obs.groupby([\"UnID\"]).apply(len)"
   ]
  },
  {
   "cell_type": "code",
   "execution_count": null,
   "id": "276c25ef-504e-4d8d-a4b9-507f32c860f4",
   "metadata": {},
   "outputs": [],
   "source": [
    "model.train()"
   ]
  },
  {
   "cell_type": "code",
   "execution_count": null,
   "id": "18f873bf-b1f3-4776-ade8-e78dd1ca0ddb",
   "metadata": {},
   "outputs": [],
   "source": [
    "#Fit model to data\n",
    "#Get latent representation of model to apply to UMAP\n",
    "latent = model.get_latent_representation()\n",
    "\n",
    "adata_3.obsm[\"X_scVI_1.3\"] = latent"
   ]
  },
  {
   "cell_type": "code",
   "execution_count": null,
   "id": "76830008-e83a-4ec3-a52a-4e3ba1f4403e",
   "metadata": {},
   "outputs": [],
   "source": [
    "#Calculate neighbors using scVI model input\n",
    "sc.pp.neighbors(adata_3, use_rep=\"X_scVI_1.3\")\n",
    "sc.tl.umap(adata_3, min_dist=0.5)\n",
    "\n",
    "#Run leiden clustering based on neighbors\n",
    "sc.tl.leiden(adata_3, key_added=\"leiden_scVI_1.3\", resolution=0.5)"
   ]
  },
  {
   "cell_type": "code",
   "execution_count": null,
   "id": "7e3a2d93-e338-4b5b-9f56-1c10b670beda",
   "metadata": {
    "tags": []
   },
   "outputs": [],
   "source": [
    "#QC UMAPs\n",
    "sc.pl.umap(\n",
    "    adata_3,\n",
    "    color=[\"n_genes_by_counts\", \"total_counts\", \"pct_counts_mito\", \"log1p_total_counts\"],\n",
    "    cmap=\"cubehelix_r\",\n",
    "    s=3,\n",
    "    ncols=2,\n",
    ")"
   ]
  },
  {
   "cell_type": "code",
   "execution_count": null,
   "id": "0fd16337-0838-41a7-936e-9221cf99333b",
   "metadata": {},
   "outputs": [],
   "source": [
    "fig, ax = plt.subplots(figsize=(8, 6))\n",
    "sc.pl.umap(adata_3, color=\"Genotype\", cmap=\"cmo.matter\", s=30, ax=ax, vmax=\"p99.99\", frameon=False, save=False,palette=[\"#22e2d9\",\"#206e71\"])\n",
    "fig, ax = plt.subplots(figsize=(8, 6))\n",
    "sc.pl.umap(adata_3, color=\"leiden_scVI_1.3\", legend_loc=\"on data\", legend_fontsize='large',ax=ax, s=30, frameon=False, save=False)\n",
    "fig, ax = plt.subplots(figsize=(8, 6))\n",
    "sc.pl.umap(adata_3, color=\"Cre\", legend_loc=\"right margin\", ax=ax, s=30, frameon=False, save=False, palette=['purple','orange'])\n",
    "fig, ax = plt.subplots(figsize=(8, 6))\n",
    "sc.pl.umap(adata_3, color=\"Model\", legend_loc=\"right margin\", ax=ax, s=30, frameon=False, save=False, palette=['#0aa6d8','#a1c299'])\n",
    "fig, ax = plt.subplots(figsize=(8, 6))\n",
    "sc.pl.umap(adata_3, color=\"UnID\", legend_loc=\"right margin\", ax=ax, s=30, frameon=False, save=False)\n",
    "\n",
    "\n",
    "#Additional QC bar graphs\n",
    "adata_3.obs['cluster'] = adata_3.obs[\"leiden_scVI_1.3\"].copy()\n",
    "\n",
    "#Plot Log1p total counts\n",
    "fig, ax = plt.subplots(figsize=(20,6))\n",
    "sns.boxenplot(data=adata_3.obs, x=\"cluster\", y=\"log1p_total_counts\", ax=ax)\n",
    "\n",
    "#Plot Pct counts mito\n",
    "fig, ax = plt.subplots(figsize=(20,6))\n",
    "sns.boxenplot(data=adata_3.obs, x=\"cluster\", y=\"pct_counts_mito\", ax=ax)"
   ]
  },
  {
   "cell_type": "code",
   "execution_count": null,
   "id": "229f334f-ad0b-4e2c-b75d-c2cb1512e050",
   "metadata": {
    "tags": []
   },
   "outputs": [],
   "source": [
    "#feature plots\n",
    " # updated 3/4/21 #\n",
    "more_types=[\"Ptprc\", \"Acta2\",\"Pecam1\",\n",
    "            \"Pdpn\",\"Cav1\",\"Cav2\",\"Hopx\",\"Timp3\",\"Sema3f\",\"Serpine1\", #AT1\n",
    "              \"Abca3\",\"Muc1\",\"Sftpa1\",\"Sftpb\",\"Sftpd\",\"Scd1\", #AT2\n",
    "              \"Scgb1a1\",\"Cyp2f2\",\"Scgb3a2\", \"Scgb3a1\",\"Lypd2\",#Club\n",
    "              \"Muc5ac\",\"Muc5b\", # Goblet\n",
    "              \"Tubb4a\",\"Foxa3\",\"Foxj1\",\"Rfx2\",\"Rfx3\",\"Trp73\", #Ciliated\n",
    "              'Krt5', 'Krt17','Krt15','Trp63','Id1','Icam1','Epas1','Aqp3','Sfn','Perp','Fxyd3','Sdc1','Gstm2','F3','Abi3bp','Adh7', # Basal\n",
    "              'Bex2','Ascl1','Meis2','Hes6','Neurod1','Neurod4','Nhlh1','Nhlh2',\n",
    "              'Hoxb5','Foxa2','Sox4','Rora','Isl1','Id4', \n",
    "              'Pou2f3','Trpm5','Ascl2','Ehf',\n",
    "              'Lrmp','Gng13','Ltc4s','Alox5ap','Avil','Alox5','Atp2a3','Plk2', #tuft\n",
    "              \"Cftr\",\"Ascl3\", 'Stap1','Atp6v1c2','Pparg','Rasd1','Slc12a2', #ionocyte\n",
    "              \"Gja1\",\"Nkx2-1\",\"Epcam\", # Lung lineage\n",
    "              'Yap1','Wwtr1','Sox2','Cd44','Hes1', # Stem-like\n",
    "             \"Venus\",\"fLuc\", \"Top2a\",\"Mki67\",\n",
    "            'GFP.CDS','CellTag.UTR'] # Tumor markers\n",
    "\n",
    "sc.pl.umap(\n",
    "    adata_3,\n",
    "    color=more_types,\n",
    "    use_raw=False,\n",
    "    legend_loc= \"on data\",\n",
    "    color_map=\"cmo.dense\",\n",
    "    ncols=4,\n",
    "    frameon=False,\n",
    "    layer=\"norm\",\n",
    "    save=False\n",
    ")"
   ]
  },
  {
   "cell_type": "code",
   "execution_count": null,
   "id": "7ab3ffa1-4e48-4a38-b198-ae4e5aa11535",
   "metadata": {},
   "outputs": [],
   "source": [
    "adata_3.obs_names_make_unique()"
   ]
  },
  {
   "cell_type": "code",
   "execution_count": null,
   "id": "95be5b06-1fc5-4f61-b510-61465b8869c3",
   "metadata": {},
   "outputs": [],
   "source": [
    "# Save and export for R/Seurat and signature assessment\n",
    "adata_3.write_h5ad(\"090824_adata_3_RPM_RPR2_TBOAllo.h5ad\")"
   ]
  },
  {
   "cell_type": "code",
   "execution_count": null,
   "id": "0f62a1f9-3887-47d6-abd8-80d87cbf9edf",
   "metadata": {},
   "outputs": [],
   "source": [
    "adata_3=sc.read_h5ad(\"090824_adata_3_RPM_RPR2_TBOAllo.h5ad\")"
   ]
  },
  {
   "cell_type": "code",
   "execution_count": null,
   "id": "6b7b3adb-c12d-4b29-9a32-9635bcd371a5",
   "metadata": {},
   "outputs": [],
   "source": [
    "#Generate signatures from these two tumors\n",
    "sc.pp.normalize_total(adata_3)\n",
    "sc.pp.log1p(adata_3)\n",
    "sc.tl.rank_genes_groups(adata_3, 'leiden_scVI_1.3', method='t-test')\n",
    "\n",
    "\n",
    "# Extract top 500 marker genes for leiden clusters from data \n",
    "sc.tl.rank_genes_groups(adata_3,'leiden_scVI_1.3', method='wilcoxon', n_genes=500)\n",
    "\n",
    "result = adata_3.uns['rank_genes_groups']\n",
    "groups = result['names'].dtype.names\n",
    "markergenes=pd.DataFrame(\n",
    "    {group + '_' + key[:1]: result[key][group]\n",
    "    for group in groups for key in ['names', 'pvals']})\n",
    "\n",
    "markergenes.to_csv('/hpc/home/asi16/RPMvRPR2_Allo_Leiden_scRNAseq_100724.csv' )"
   ]
  },
  {
   "cell_type": "code",
   "execution_count": null,
   "id": "1237c4e5-82d0-4d14-96f2-c44cdc1036d3",
   "metadata": {},
   "outputs": [],
   "source": [
    "# Feature plots\n",
    "# updated 3/4/21\n",
    "more_types=[\"Ascl1\",\"Neurod1\",\"Pou2f3\"] # Tumor markers\n",
    "\n",
    "sc.pl.umap(\n",
    "    adata_3,\n",
    "    color=more_types,\n",
    "    use_raw=False,\n",
    "    legend_loc= \"on data\",\n",
    "    color_map=\"cmo.dense\",\n",
    "    ncols=3,s=40,\n",
    "    frameon=False,\n",
    "    layer=\"norm\",\n",
    "    save=False\n",
    ")"
   ]
  },
  {
   "cell_type": "code",
   "execution_count": null,
   "id": "ca42c870-3024-4303-b4b7-69f80c9dfbd6",
   "metadata": {},
   "outputs": [],
   "source": [
    "# Feature plots\n",
    "# updated 3/4/21\n",
    "\n",
    "more_types=[\"Myc\",\"Mycl\"]\n",
    "\n",
    "sc.pl.umap(\n",
    "    adata_3,\n",
    "    color=more_types,\n",
    "    use_raw=False,\n",
    "    legend_loc= \"on data\",\n",
    "    color_map=\"cmo.dense\",\n",
    "    ncols=2,s=60,\n",
    "    frameon=False,\n",
    "    layer=\"norm\",\n",
    "    save=False\n",
    ")"
   ]
  }
 ],
 "metadata": {
  "kernelspec": {
   "display_name": "Python 3",
   "language": "python",
   "name": "python3"
  },
  "language_info": {
   "codemirror_mode": {
    "name": "ipython",
    "version": 3
   },
   "file_extension": ".py",
   "mimetype": "text/x-python",
   "name": "python",
   "nbconvert_exporter": "python",
   "pygments_lexer": "ipython3",
   "version": "3.8.8"
  }
 },
 "nbformat": 4,
 "nbformat_minor": 5
}
