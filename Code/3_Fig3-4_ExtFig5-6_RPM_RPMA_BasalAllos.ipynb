{
 "cells": [
  {
   "cell_type": "markdown",
   "id": "0b3a2d65-23df-48f4-8686-b53337e8ce94",
   "metadata": {},
   "source": [
    "# Analysis of RPM and RPMA basal organoid-derived allografts"
   ]
  },
  {
   "cell_type": "markdown",
   "id": "b5169525-e6b8-4e95-98d5-a63d4fc211aa",
   "metadata": {},
   "source": [
    "## Ireland et al 2024 BioRxiv"
   ]
  },
  {
   "cell_type": "markdown",
   "id": "83d59108-f15b-4a33-ab45-19f991ec7a0c",
   "metadata": {},
   "source": [
    "### Figs 3 and 4; Extended Data Figs 5 and 6"
   ]
  },
  {
   "cell_type": "code",
   "execution_count": null,
   "id": "3cbf3d70-e359-4d1f-a3d7-81e003721bb5",
   "metadata": {},
   "outputs": [],
   "source": [
    "#Import other relevant packages\n",
    "import numpy as np\n",
    "import pandas as pd\n",
    "from matplotlib import rcParams\n",
    "import os\n",
    "import scanpy as sc\n",
    "\n",
    "import matplotlib as mpl\n",
    "import matplotlib.pyplot as plt\n",
    "\n",
    "#For nice color schemes\n",
    "import cmocean\n",
    "\n",
    "#For barplots\n",
    "import seaborn as sns\n",
    "\n",
    "#Import scVI\n",
    "import scvi\n",
    "from scvi.model.utils import mde\n",
    "\n",
    "scvi.settings.verbosity = 40"
   ]
  },
  {
   "cell_type": "code",
   "execution_count": null,
   "id": "b0b52865-e8f9-4503-b7d5-90abb2b6af86",
   "metadata": {},
   "outputs": [],
   "source": [
    "#Import scVI\n",
    "import scvi\n",
    "from scvi.model.utils import mde\n",
    "\n",
    "scvi.settings.verbosity = 40"
   ]
  },
  {
   "cell_type": "code",
   "execution_count": null,
   "id": "7a0153ba-4c21-4a02-876f-73d816099537",
   "metadata": {},
   "outputs": [],
   "source": [
    "sc.settings.verbosity = 3             # verbosity: errors (0), warnings (1), info (2), hints (3)\n",
    "sc.logging.print_header()\n",
    "sc.settings.set_figure_params(dpi=80, facecolor='white')"
   ]
  },
  {
   "cell_type": "code",
   "execution_count": null,
   "id": "f228d57f-8340-4b3a-87e4-800615293db1",
   "metadata": {},
   "outputs": [],
   "source": [
    "# Read \n",
    "os.chdir('/work/asi16')"
   ]
  },
  {
   "cell_type": "markdown",
   "id": "fb1b78ca-8393-467d-b91e-93de51b5a624",
   "metadata": {},
   "source": [
    "## 1. Read in RPM and RPMA basal-organoid-derived allograft tumor data"
   ]
  },
  {
   "cell_type": "code",
   "execution_count": null,
   "id": "68fdfb9c-9366-4ab6-903c-0dac5787673c",
   "metadata": {},
   "outputs": [],
   "source": [
    "# 040824 Read in new RPMA TBO Allograft sample and re-aligned RPM TBO Allo samples\n",
    "RPMA_allo=sc.read_10x_mtx('8972_RPMA_TBO_scRNAseq_Allo_031824/031924_RPMA_TBO_Allo_count_nocellplex/outs/filtered_feature_bc_matrix', var_names='gene_symbols', cache=True)\n",
    "RPM_allo=sc.read_10x_mtx('MedGenome_FASTQ_123123/RPM_TBO_Allo/042024_RPM_TBO_Allo_CustomCount/outs/filtered_feature_bc_matrix', var_names='gene_symbols', cache=True)\n",
    "RPM_allo2=sc.read_10x_mtx('02_2024_TBO_Analyses/Old_Xeno/042024_custom_RPMTBO_FXeno_Old/outs/filtered_feature_bc_matrix', var_names='gene_symbols', cache=True)\n"
   ]
  },
  {
   "cell_type": "code",
   "execution_count": null,
   "id": "4c6e9840-97da-49f5-9dba-6d514e6c8c49",
   "metadata": {},
   "outputs": [],
   "source": [
    "# 032024 Add metadata to RPMA and RPM\n",
    "RPMA_allo.obs['Genotype'] = 'RPMA'\n",
    "RPMA_allo.obs['Model'] = 'Allograft'\n",
    "RPMA_allo.obs['Cre'] = 'Cre'\n",
    "RPMA_allo.obs['UnID'] = 'RPMA_Allo'\n",
    "RPMA_allo.obs['Batch'] = 'RPMA_Allo'\n",
    "\n",
    "RPM_allo.obs['Genotype'] = 'RPM'\n",
    "RPM_allo.obs['Model'] = 'Allograft'\n",
    "RPM_allo.obs['Cre'] = 'Cre'\n",
    "RPM_allo.obs['UnID'] = 'RPM_Allo_New'\n",
    "RPM_allo.obs['Batch'] = 'RPM_Allo_New'\n",
    "\n",
    "RPM_allo2.obs['Genotype'] = 'RPM'\n",
    "RPM_allo2.obs['Model'] = 'Allograft'\n",
    "RPM_allo2.obs['Cre'] = 'Cre'\n",
    "RPM_allo2.obs['UnID'] = 'RPM_Allo_Old'\n",
    "RPM_allo2.obs['Batch'] = 'RPM_Allo_Old'\n"
   ]
  },
  {
   "cell_type": "markdown",
   "id": "21f3b689-0768-4de9-8ad3-824cc131c8ce",
   "metadata": {},
   "source": [
    "## 2. Concatenate tumor data"
   ]
  },
  {
   "cell_type": "code",
   "execution_count": null,
   "id": "22a1a25c-592f-44f3-9168-141c3e31f70f",
   "metadata": {},
   "outputs": [],
   "source": [
    "# 04 2024 Concatenate RPM and RPMA allografts \n",
    "#Concatenate datasets\n",
    "adata= RPM_allo.concatenate([RPM_allo2,RPMA_allo], index_unique=None, join=\"outer\")"
   ]
  },
  {
   "cell_type": "code",
   "execution_count": null,
   "id": "cf5dc4ca-d3e3-4f5d-891e-1bf78d4574da",
   "metadata": {},
   "outputs": [],
   "source": [
    "adata"
   ]
  },
  {
   "cell_type": "code",
   "execution_count": null,
   "id": "3b3a7f4c-2018-4941-b969-6157d50cacff",
   "metadata": {},
   "outputs": [],
   "source": [
    "adata.obs.groupby([\"Batch\"]).apply(len)"
   ]
  },
  {
   "cell_type": "markdown",
   "id": "8b6dcb03-2770-4095-99c0-aa8b3f071362",
   "metadata": {},
   "source": [
    "## 3. Perform QC"
   ]
  },
  {
   "cell_type": "code",
   "execution_count": null,
   "id": "176d7be9-118c-4e33-92a2-a534f112b8bf",
   "metadata": {},
   "outputs": [],
   "source": [
    "# Begin QC and clustering following Scanpy tutorial"
   ]
  },
  {
   "cell_type": "code",
   "execution_count": null,
   "id": "81f634a5-c688-4378-9c4a-2564f9150518",
   "metadata": {},
   "outputs": [],
   "source": [
    "#QC filtering\n",
    "adata.var['mito'] = adata.var_names.str.startswith('mt-')  # annotate the group of mitochondrial genes as 'mt'\n",
    "sc.pp.calculate_qc_metrics(adata, qc_vars=['mito'], percent_top=None, log1p=False, inplace=True)"
   ]
  },
  {
   "cell_type": "code",
   "execution_count": null,
   "id": "88a94805-ad9f-40f9-a73b-cdcd976ca62f",
   "metadata": {},
   "outputs": [],
   "source": [
    "#QC filtering RPMA RPM only scanpy flow\n",
    "sc.pp.filter_cells(adata, min_genes=200)\n",
    "sc.pp.filter_genes(adata, min_cells=3)\n",
    "\n",
    "adata.var['mito'] = adata.var_names.str.startswith('mt-')  # annotate the group of mitochondrial genes as 'mt'\n",
    "sc.pp.calculate_qc_metrics(adata, qc_vars=['mito'], percent_top=None, log1p=False, inplace=True)"
   ]
  },
  {
   "cell_type": "code",
   "execution_count": null,
   "id": "a2c59041-b6ba-4b75-860f-8e567d30f0f8",
   "metadata": {},
   "outputs": [],
   "source": [
    "sc.pl.violin(adata, ['n_genes_by_counts', 'total_counts', 'pct_counts_mito'],\n",
    "             jitter=0.4, multi_panel=True)\n",
    "sc.pl.scatter(adata, x='total_counts', y='pct_counts_mito')\n",
    "sc.pl.scatter(adata, x='total_counts', y='n_genes_by_counts')"
   ]
  },
  {
   "cell_type": "code",
   "execution_count": null,
   "id": "1db2833d-a7f1-4ae8-a8bf-e6f4b6840e5f",
   "metadata": {},
   "outputs": [],
   "source": [
    "#Filter data by slicing anndata object\n",
    "adata = adata[adata.obs.n_genes_by_counts < 9000, :]\n",
    "adata = adata[adata.obs.n_genes_by_counts > 500, :]\n",
    "adata = adata[adata.obs.total_counts > 1000, :]\n",
    "adata = adata[adata.obs.pct_counts_mito < 15, :]"
   ]
  },
  {
   "cell_type": "code",
   "execution_count": null,
   "id": "5be2f0e3-60d9-4d91-a761-5b7b67470b58",
   "metadata": {},
   "outputs": [],
   "source": [
    "adata.obs.groupby([\"UnID\"]).apply(len)"
   ]
  },
  {
   "cell_type": "code",
   "execution_count": null,
   "id": "0aa53846-9358-4b89-ad7a-11bbf1ed11fb",
   "metadata": {},
   "outputs": [],
   "source": [
    "#Prep for HVG and scvi\n",
    "#log1p the data\n",
    "adata.obs[\"log1p_total_counts\"] = np.log1p(adata.obs[\"total_counts\"])"
   ]
  },
  {
   "cell_type": "code",
   "execution_count": null,
   "id": "863f8bed-57d0-4b2b-96ce-cc171f9dd9c2",
   "metadata": {},
   "outputs": [],
   "source": [
    "#Create layers\n",
    "adata.layers[\"counts\"] = adata.X.copy()\n",
    "adata.layers['norm'] = adata.X.copy(); sc.pp.normalize_total(adata, target_sum=1e4, layer=\"norm\")"
   ]
  },
  {
   "cell_type": "code",
   "execution_count": null,
   "id": "d0d5427c-ac8f-4cbb-a103-7b949ee103cf",
   "metadata": {},
   "outputs": [],
   "source": [
    "#HVG via Scanpy\n",
    "#Note here that if you run with a batch_key with few cells, will get b'reciprocal condition number error\n",
    "sc.pp.highly_variable_genes(\n",
    "    adata,n_top_genes=10000,\n",
    "    subset=False,\n",
    "    layer=\"counts\",\n",
    "    flavor=\"seurat_v3\",\n",
    "    batch_key=\"Batch\"\n",
    ")"
   ]
  },
  {
   "cell_type": "markdown",
   "id": "205a95f1-2e5b-4fe7-8a42-f8a84a462fb3",
   "metadata": {},
   "source": [
    "## 4. Set up and train model (scvi)"
   ]
  },
  {
   "cell_type": "code",
   "execution_count": null,
   "id": "d0829ded-96e9-41c2-a3bc-c61e18a171d4",
   "metadata": {},
   "outputs": [],
   "source": [
    "scvi.model.SCVI.setup_anndata(\n",
    "    adata,\n",
    "    layer=\"counts\",\n",
    "    batch_key='Batch',\n",
    "    continuous_covariate_keys=[\"pct_counts_mito\"]\n",
    ")\n"
   ]
  },
  {
   "cell_type": "code",
   "execution_count": null,
   "id": "ed127f42-d0c2-4311-9dba-47c286d6a5a6",
   "metadata": {},
   "outputs": [],
   "source": [
    "model = scvi.model.SCVI(adata)"
   ]
  },
  {
   "cell_type": "code",
   "execution_count": null,
   "id": "5f4215a2-5b09-4443-b516-068a1866e1d9",
   "metadata": {},
   "outputs": [],
   "source": [
    "model"
   ]
  },
  {
   "cell_type": "code",
   "execution_count": null,
   "id": "bededf8f-d6a4-4565-b7a8-19515879fa59",
   "metadata": {},
   "outputs": [],
   "source": [
    "model.train()"
   ]
  },
  {
   "cell_type": "markdown",
   "id": "7047543d-65a9-4631-82e9-bbfbe0c97618",
   "metadata": {},
   "source": [
    "## 5. Perform leiden clustering"
   ]
  },
  {
   "cell_type": "code",
   "execution_count": null,
   "id": "7cf1fb90-f10b-4ad7-a3ec-6a465dc808b6",
   "metadata": {},
   "outputs": [],
   "source": [
    "#Fit model to data\n",
    "#Get latent representation of model to apply to UMAP\n",
    "latent = model.get_latent_representation()\n",
    "\n",
    "adata.obsm[\"X_scVI_1.1\"] = latent\n",
    "\n",
    "#Calculate neighbors using scVI model input\n",
    "sc.pp.neighbors(adata, use_rep=\"X_scVI_1.1\")\n",
    "sc.tl.umap(adata, min_dist=0.5)\n",
    "\n",
    "#Run leiden clustering based on neighbors\n",
    "sc.tl.leiden(adata, key_added=\"leiden_scVI_1.1\", resolution=1.0)"
   ]
  },
  {
   "cell_type": "markdown",
   "id": "fc0d09c8-65d6-4d04-b4aa-0843719e2afb",
   "metadata": {},
   "source": [
    "## 6. Visualize data and marker genes to identify tumor cells only"
   ]
  },
  {
   "cell_type": "code",
   "execution_count": null,
   "id": "e1238e4d-5547-4a6c-a685-d4fca927fca9",
   "metadata": {},
   "outputs": [],
   "source": [
    "#QC UMAPs\n",
    "sc.pl.umap(\n",
    "    adata,\n",
    "    color=[\"n_genes_by_counts\", \"total_counts\", \"pct_counts_mito\", \"log1p_total_counts\"],\n",
    "    cmap=\"cubehelix_r\",\n",
    "    s=3,\n",
    "    ncols=2,\n",
    ")"
   ]
  },
  {
   "cell_type": "code",
   "execution_count": null,
   "id": "bf6d1e43-5224-4d79-aad5-6ae02eface9c",
   "metadata": {},
   "outputs": [],
   "source": [
    "fig, ax = plt.subplots(figsize=(6, 6))\n",
    "sc.pl.umap(adata, color=\"Genotype\", cmap=\"cmo.matter\", s=10, ax=ax, vmax=\"p99.99\", frameon=False, save=False)\n",
    "fig, ax = plt.subplots(figsize=(6, 6))\n",
    "sc.pl.umap(adata, color=\"leiden_scVI_1.1\", legend_loc=\"on data\", legend_fontsize='xx-large',ax=ax, s=10, frameon=False, save=False)\n",
    "fig, ax = plt.subplots(figsize=(6, 6))\n",
    "sc.pl.umap(adata, color=\"UnID\", legend_loc=\"right margin\", ax=ax, s=10, frameon=False, save=False,\n",
    "           palette={'RPMA_Allo' :'purple','RPM_Allo_New' :'gold','RPM_Allo_Old' :'teal'}, title='Condition')\n",
    "\n",
    "#Additional QC bar graphs\n",
    "adata.obs['cluster'] = adata.obs[\"leiden_scVI_1.1\"].copy()\n",
    "\n",
    "#Plot Log1p total counts\n",
    "fig, ax = plt.subplots(figsize=(20,6))\n",
    "sns.boxenplot(data=adata.obs, x=\"cluster\", y=\"log1p_total_counts\", ax=ax)\n",
    "\n",
    "#Plot Pct counts mito\n",
    "fig, ax = plt.subplots(figsize=(20,6))\n",
    "sns.boxenplot(data=adata.obs, x=\"cluster\", y=\"pct_counts_mito\", ax=ax)"
   ]
  },
  {
   "cell_type": "code",
   "execution_count": null,
   "id": "eeeceb1f-4d2b-4c6b-95fa-87bfa4c5b935",
   "metadata": {},
   "outputs": [],
   "source": [
    "# Remove non-tumor and poor qual clusters and re-cluster after saving\n",
    "adata.write_h5ad(\"02_2024_TBO_Analyses/adata_RPM_RPMA_TBO_newandold_scVI_1.h5ad\")"
   ]
  },
  {
   "cell_type": "code",
   "execution_count": null,
   "id": "61cc94a5-0f9d-45c9-ac13-a8935d33337c",
   "metadata": {},
   "outputs": [],
   "source": [
    "adata=sc.read_h5ad(\"02_2024_TBO_Analyses/adata_RPM_RPMA_TBO_newandold_scVI_1.h5ad\")\n",
    "# Clusters 23 here in leiden_scVI_1.1 are fibroblasts; 24=endothelial; 13, 21, 22 immune "
   ]
  },
  {
   "cell_type": "code",
   "execution_count": null,
   "id": "dc601a7a-b762-4720-8c95-d4de9765c726",
   "metadata": {},
   "outputs": [],
   "source": [
    "#feature plots\n",
    "more_types=[\"Col14a1\", \"Acta2\",\"Myh11\",\"Tagln\",\"Mustn1\", #fibroblast\n",
    "              \"Lpl\",\"Lipa\",\"Pparg\",\"Plin2\",\"Ear1\",\"Fabp1\",\"Spp1\", #lipofibroblast/osteoblastic\n",
    "              \"Ptprc\",\"Mertk\",\"Marco\",\"Mrc1\",\"Ly75\",\"Adgre1\",\n",
    "            \"Itgax\",\"Cd68\",\"Csf1r\",\"Mafb\",\"Msr1\",\"Arg1\",\"Adgre4\",\"Clec4a1\", #Macs/Myeloid\n",
    "              \"Cx3cr1\",\"Itgam\",\"Cd14\", #Monocytes\n",
    "              \"S100a9\",\"S100a8\",\"Mmp9\",\"Csf3r\",\"Cxcr2\",\"Ly6g\", #Neuts\n",
    "              \"Batf3\",\"Xcr1\",\"Clec9a\",\"Ccl17\",\"Ccl22\", #DC\n",
    "              \"Cd3d\",\"Cd3e\",\"Cd3g\",\"Cd28\",\"Cd8a\",\"Cd4\",\"Foxp3\", # Tcell\n",
    "              \"Gzma\",\"Ncr1\",\"Gzmb\", #NK\n",
    "              \"Fcmr\",\"Cd19\",\"Fcer2a\",\"Pax5\",\"Cd22\",\"Cd79b\",\"Cd79a\", #B cells\n",
    "              \"Slamf7\", \"Prdm1\", #Plasma\n",
    "              \"Mcam\",\"Pecam1\",\"Icam2\",\"Cd36\",\"Cd93\"] #Endothelial\n",
    "\n",
    "sc.pl.umap(\n",
    "    adata,\n",
    "    color=more_types,\n",
    "    use_raw=False,\n",
    "    legend_loc= \"on data\",\n",
    "    color_map=\"cmo.dense\",\n",
    "    ncols=4,s=30,\n",
    "    frameon=False,\n",
    "    vmax=\"p99.5\",\n",
    "    layer=\"norm\",\n",
    "    save=False\n",
    ")"
   ]
  },
  {
   "cell_type": "code",
   "execution_count": null,
   "id": "1a9bf5e3-c2c6-44fe-8e8f-8a413100ac28",
   "metadata": {},
   "outputs": [],
   "source": [
    "#feature plots\n",
    "genes = ['leiden_scVI_1.1', 'Trp63', 'Sox2',\n",
    "        'Mki67', 'Top2a', 'Ascl1',\n",
    "        'Neurod1', 'Pou2f3', 'Cftr',\n",
    "        'Ptprc', 'Pecam1', 'Acta2', 'GFP.CDS','CellTag.UTR','Venus','fLuc']\n",
    "\n",
    "sc.pl.umap(\n",
    "    adata,\n",
    "    color=genes,\n",
    "    use_raw=False,\n",
    "    legend_loc= \"on data\",\n",
    "    color_map=\"cmo.dense\",\n",
    "    ncols=4,\n",
    "    frameon=False,\n",
    "    vmax=\"p99.5\",\n",
    "    layer=\"norm\",\n",
    "    save=False\n",
    ")"
   ]
  },
  {
   "cell_type": "code",
   "execution_count": null,
   "id": "2596d653-f2ff-403c-bcd8-ff3d4b5e219b",
   "metadata": {},
   "outputs": [],
   "source": [
    "# Find cluster markers for each leiden cluster to aid filtering\n",
    "sc.tl.rank_genes_groups(adata, 'leiden_scVI_1.1', method='wilcoxon', layer='norm', use_raw=False)\n",
    "pd.DataFrame(adata.uns['rank_genes_groups']['names']).head(50)"
   ]
  },
  {
   "cell_type": "code",
   "execution_count": null,
   "id": "433fb90e-0db7-42e3-a5f9-c996538c17f1",
   "metadata": {},
   "outputs": [],
   "source": [
    "#Identify and subset out low qual, plot doublets, and obvious non-tumor clusters (ptprc+)\n",
    "# clusters 2, 5, look low qual, maybe 10 but keep it for now...\n",
    "# cluster 23,24 : fibroblast, cluster 24: endothelial, cluster 13, 21, 22 immune \n",
    "\n",
    "bad_clust=['2','5','10','23','24','13','21', '22']\n",
    "\n",
    "#Filter out bad clusters\n",
    "to_keep=(~adata.obs['leiden_scVI_1.1'].isin(bad_clust))\n",
    "\n",
    "#Copy over to new anndata object\n",
    "adata_2 = adata[to_keep].copy()"
   ]
  },
  {
   "cell_type": "markdown",
   "id": "040f1a94-4ef5-4292-a1de-54911ee58f47",
   "metadata": {},
   "source": [
    "### From here, continue iterating through runs of scvi modeling until no clear low quality cell clusters or non-tumor cells are observed.\n",
    "### Start back up at \"set up and train scvi model\" and run through subsetting out \"bad clusters\".\n",
    "### Each time clusters are removed, model is run again to recluster."
   ]
  },
  {
   "cell_type": "markdown",
   "id": "7e3753a7-15f3-4f47-8828-cc29932f8fd4",
   "metadata": {},
   "source": [
    "## ITERATION 2 (Final iteration for Fig. 3e,f, RPM and RPMA tumor cells only)"
   ]
  },
  {
   "cell_type": "code",
   "execution_count": null,
   "id": "27da3c0a-ffa4-4009-9b48-3df3747e683a",
   "metadata": {},
   "outputs": [],
   "source": [
    "#Re-run clustering\n",
    "\n",
    "#HVG via Scanpy\n",
    "#Note here that if you run with a batch_key with few cells, will get b'reciprocal condition number error\n",
    "sc.pp.highly_variable_genes(\n",
    "    adata_2,n_top_genes=10000,\n",
    "    subset=False,\n",
    "    layer=\"counts\",\n",
    "    flavor=\"seurat_v3\",\n",
    "    batch_key=\"Batch\"\n",
    ")\n"
   ]
  },
  {
   "cell_type": "code",
   "execution_count": null,
   "id": "e9e45eb7-617a-47ce-b70f-b58c61714440",
   "metadata": {},
   "outputs": [],
   "source": [
    "scvi.model.SCVI.setup_anndata(\n",
    "    adata_2,\n",
    "    layer=\"counts\",\n",
    "    batch_key='Batch',\n",
    "    continuous_covariate_keys=[\"pct_counts_mito\"]\n",
    ")\n"
   ]
  },
  {
   "cell_type": "code",
   "execution_count": null,
   "id": "4e1cd1fe-0108-40aa-a213-39051bfd1ceb",
   "metadata": {},
   "outputs": [],
   "source": [
    "model = scvi.model.SCVI(adata_2)\n",
    "model.train()"
   ]
  },
  {
   "cell_type": "code",
   "execution_count": null,
   "id": "41f8acbd-3b0a-4336-8820-9dbb0e5a063f",
   "metadata": {
    "tags": []
   },
   "outputs": [],
   "source": [
    "#Fit model to data\n",
    "#Get latent representation of model to apply to UMAP\n",
    "latent = model.get_latent_representation()\n",
    "\n",
    "adata_2.obsm[\"X_scVI_1.2\"] = latent\n"
   ]
  },
  {
   "cell_type": "code",
   "execution_count": null,
   "id": "5233e35a-f4c3-49fc-89a1-d17fa50b300c",
   "metadata": {},
   "outputs": [],
   "source": [
    "#Calculate neighbors using scVI model input\n",
    "sc.pp.neighbors(adata_2, use_rep=\"X_scVI_1.2\")\n",
    "sc.tl.umap(adata_2, min_dist=0.5)\n",
    "\n",
    "#Run leiden clustering based on neighbors\n",
    "sc.tl.leiden(adata_2, key_added=\"leiden_scVI_1.2\", resolution=.5)"
   ]
  },
  {
   "cell_type": "code",
   "execution_count": null,
   "id": "f4cbd9f2-d633-4ce2-bb9c-c8333e3ea523",
   "metadata": {},
   "outputs": [],
   "source": [
    "#QC UMAPs\n",
    "sc.pl.umap(\n",
    "    adata_2,\n",
    "    color=[\"n_genes_by_counts\", \"total_counts\", \"pct_counts_mito\", \"log1p_total_counts\"],\n",
    "    cmap=\"cubehelix_r\",\n",
    "    s=3,\n",
    "    ncols=2,\n",
    ")"
   ]
  },
  {
   "cell_type": "markdown",
   "id": "57dc97d7-939b-4edd-b0f2-5dcad974573a",
   "metadata": {},
   "source": [
    "## Visualize data for Fig. 3 and Ext Data Fig 5 plots"
   ]
  },
  {
   "cell_type": "code",
   "execution_count": null,
   "id": "270ad86a-fad0-4146-8925-ce98efa210d4",
   "metadata": {},
   "outputs": [],
   "source": [
    "# Visualize data (Fig. 3e,f)\n",
    "\n",
    "fig, ax = plt.subplots(figsize=(6, 6))\n",
    "sc.pl.umap(adata_2, color=\"Genotype\", cmap=\"cmo.matter\", s=10, ax=ax, vmax=\"p99.99\", frameon=False, save=False)\n",
    "fig, ax = plt.subplots(figsize=(6, 6))\n",
    "sc.pl.umap(adata_2, color=\"leiden_scVI_1.2\", legend_loc=\"right margin\", legend_fontsize='xx-large',ax=ax, s=10, frameon=False, save=False)\n",
    "fig, ax = plt.subplots(figsize=(6, 6))\n",
    "sc.pl.umap(adata_2, color=\"UnID\", legend_loc=\"right margin\", ax=ax, s=10, frameon=False, save=False,\n",
    "           palette={'RPMA_Allo' :'purple','RPM_Allo_New' :'gold','RPM_Allo_Old' :'teal'}, title='Condition')\n",
    "\n",
    "#Additional QC bar graphs\n",
    "adata_2.obs['cluster'] = adata_2.obs[\"leiden_scVI_1.2\"].copy()\n",
    "\n",
    "#Plot Log1p total counts\n",
    "fig, ax = plt.subplots(figsize=(20,6))\n",
    "sns.boxenplot(data=adata_2.obs, x=\"cluster\", y=\"log1p_total_counts\", ax=ax)\n",
    "\n",
    "#Plot Pct counts mito\n",
    "fig, ax = plt.subplots(figsize=(20,6))\n",
    "sns.boxenplot(data=adata_2.obs, x=\"cluster\", y=\"pct_counts_mito\", ax=ax)"
   ]
  },
  {
   "cell_type": "code",
   "execution_count": null,
   "id": "783ae0d1-a330-48a9-ba8b-e9fcc5a4e3b0",
   "metadata": {},
   "outputs": [],
   "source": [
    "#feature plots, mesenchymal/stem markers\n",
    "genes = ['Yap1','Cd44','Sox2','Hes1','Twist1','Snai1','Snai2','Vim','Sox9']\n",
    "plt.rcParams['figure.figsize'] = [10, 8]\n",
    "sc.set_figure_params(scanpy=True, fontsize=24)\n",
    "sc.pl.umap(\n",
    "    adata_2,\n",
    "    color=genes,\n",
    "    use_raw=False,\n",
    "    legend_loc= \"on data\",\n",
    "    color_map=\"cmo.dense\",\n",
    "    ncols=5,s=40,\n",
    "    frameon=False,\n",
    "    vmax=\"p99.5\",\n",
    "    layer=\"norm\",\n",
    "    save=False\n",
    ")"
   ]
  },
  {
   "cell_type": "code",
   "execution_count": null,
   "id": "a811d6c0-cf8d-4b99-9f99-bd06f7f6318c",
   "metadata": {},
   "outputs": [],
   "source": [
    "# Save for R/Seurat import and signature analyses\n",
    "adata_2.write_h5ad(\"02_2024_TBO_Analyses/040924_adata_RPM_RPMA_TBO_newandold_scVI_2.h5ad\")"
   ]
  },
  {
   "cell_type": "code",
   "execution_count": null,
   "id": "6d606058-4de0-4497-934c-4489395af09f",
   "metadata": {},
   "outputs": [],
   "source": [
    "adata_2=sc.read_h5ad(\"040924_adata_RPM_RPMA_TBO_newandold_scVI_2.h5ad\")"
   ]
  },
  {
   "cell_type": "code",
   "execution_count": null,
   "id": "b56a06e2-c859-48cc-b9b4-6518051ee032",
   "metadata": {},
   "outputs": [],
   "source": [
    "# Visualize basal genes\n",
    "\n",
    "genes = ['Krt5', 'Krt17','Krt15','Trp63','Icam1','Epas1','Aqp3','Sfn','Perp','Fxyd3','Sdc1','Gstm2','F3',\n",
    "         'Adh7','Epcam']\n",
    "plt.rcParams['figure.figsize'] = [10, 8]\n",
    "sc.set_figure_params(scanpy=True, fontsize=24)\n",
    "\n",
    "sc.pl.umap(\n",
    "    adata_2,\n",
    "    color=genes,\n",
    "    legend_loc= \"on data\",\n",
    "    color_map=\"cmo.dense\",\n",
    "    ncols=5,\n",
    "    frameon=False,\n",
    "    vmax=\"p99.5\",s=50,\n",
    "    save=False)"
   ]
  },
  {
   "cell_type": "code",
   "execution_count": null,
   "id": "90863969-b406-4fde-83ef-bd4092bf8ad3",
   "metadata": {},
   "outputs": [],
   "source": [
    "# Visualize key markers\n",
    "genes = ['Ascl1', 'Neurod1','Pou2f3','Cftr','Top2a','Mki67','Ube2c','Aspm']\n",
    "plt.rcParams['figure.figsize'] = [10, 8]\n",
    "sc.set_figure_params(scanpy=True, fontsize=24)\n",
    "\n",
    "sc.pl.umap(\n",
    "    adata_2,\n",
    "    color=genes,\n",
    "    legend_loc= \"on data\",\n",
    "    color_map=\"cmo.dense\",\n",
    "    ncols=4,\n",
    "    frameon=False,\n",
    "    vmax=\"p99.5\",s=50,\n",
    "    save=False)"
   ]
  },
  {
   "cell_type": "code",
   "execution_count": null,
   "id": "fd5afe37-1f52-4c0b-8967-356c54bc955b",
   "metadata": {},
   "outputs": [],
   "source": [
    "# Visualize NE genes\n",
    "genes = ['leiden_scVI_1.2', 'Chga', 'Calca','Scg2','Pcsk1','Uchl1','Ddc','Snca','Snap25','Bex2','Ascl1','Meis2','Hes6',\n",
    "        'Insm1','Hoxb5','Foxa2','Sox4','Rora','Isl1','Id4']\n",
    "plt.rcParams['figure.figsize'] = [10, 8]\n",
    "sc.set_figure_params(scanpy=True, fontsize=24)\n",
    "sc.pl.umap(\n",
    "    adata_2,\n",
    "    color=genes,\n",
    "    use_raw=False,\n",
    "    legend_loc= \"on data\",\n",
    "    color_map=\"cmo.dense\",\n",
    "    ncols=5,\n",
    "    frameon=False,\n",
    "    vmax=\"p99.5\",\n",
    "    layer=\"norm\",s=50,\n",
    "    save=False)"
   ]
  },
  {
   "cell_type": "code",
   "execution_count": null,
   "id": "cb6181c0-c425-427f-8d5a-a0452f771969",
   "metadata": {},
   "outputs": [],
   "source": [
    "# Visualize neuronal genes\n",
    "\n",
    "genes = ['leiden_scVI_1.2', 'Ascl1','Neurod1', 'Nhlh1','Nhlh2','Neurod2','Neurod4','Neurog1','Neurog2','Neurog3']\n",
    "plt.rcParams['figure.figsize'] = [10, 8]\n",
    "sc.set_figure_params(scanpy=True, fontsize=24)\n",
    "sc.pl.umap(\n",
    "    adata_2,\n",
    "    color=genes,\n",
    "    use_raw=False,\n",
    "    legend_loc= \"on data\",\n",
    "    color_map=\"cmo.dense\",\n",
    "    ncols=5,\n",
    "    frameon=False,\n",
    "    vmax=\"p99.5\",\n",
    "    layer=\"norm\",s=50,\n",
    "    save=False)"
   ]
  },
  {
   "cell_type": "code",
   "execution_count": null,
   "id": "e049d5aa-6f46-4fa6-86bd-442b30b28638",
   "metadata": {},
   "outputs": [],
   "source": [
    "# Visualize tuft markers\n",
    "\n",
    "genes = ['leiden_scVI_1.2', 'Pou2f3','Trpm5','Ascl2','Spib','Hmx2','Ehf','Hmx3',\n",
    "         'Lrmp','Gnb3','Gng13','Ltc4s','Rgs13','Alox5ap','Avil','Alox5','Atp2a3','Plk2','Sox9','Gnat3','Tas1r3',\n",
    "        'Mki67','Top2a','Aspm','Ube2c']\n",
    "plt.rcParams['figure.figsize'] = [10, 8]\n",
    "sc.set_figure_params(scanpy=True, fontsize=24)\n",
    "sc.pl.umap(\n",
    "    adata_2,\n",
    "    color=genes,\n",
    "    use_raw=False,\n",
    "    legend_loc= \"on data\",\n",
    "    color_map=\"cmo.dense\",\n",
    "    ncols=5,\n",
    "    frameon=False,\n",
    "    vmax=\"p99.5\",\n",
    "    layer=\"norm\",s=50,\n",
    "    save=False)"
   ]
  },
  {
   "cell_type": "code",
   "execution_count": null,
   "id": "0b555c2f-028a-40e5-bc1e-9c46111374f0",
   "metadata": {},
   "outputs": [],
   "source": [
    "# Visualize Stem/Mesenchymal genes\n",
    "\n",
    "genes = ['leiden_scVI_1.2', 'Sox2','Cd44','Yap1','Wwtr1','Notch1','Notch2','Hes1'\n",
    "         ]\n",
    "plt.rcParams['figure.figsize'] = [10, 8]\n",
    "sc.set_figure_params(scanpy=True, fontsize=24)\n",
    "sc.pl.umap(\n",
    "    adata_2,\n",
    "    color=genes,\n",
    "    use_raw=False,\n",
    "    legend_loc= \"on data\",\n",
    "    color_map=\"cmo.dense\",\n",
    "    ncols=5,\n",
    "    frameon=False,\n",
    "    vmax=\"p99.5\",\n",
    "    layer=\"norm\",s=50,\n",
    "    save=False)"
   ]
  },
  {
   "cell_type": "code",
   "execution_count": null,
   "id": "8ef6314e-5b62-47e6-bea2-df3be7054599",
   "metadata": {},
   "outputs": [],
   "source": [
    "# Visualize ionocyte genes\n",
    "\n",
    "genes = ['Cftr','Slc12a2', 'Stap1','Atp6v1c2', 'Ldhb','Tfcp2l1','Pparg','Moxd1',\n",
    "        'Rasd1','P2ry14','Cd81','Esyt1', 'Asgr1','Smbd1','Ascl3','Serpinf1','Gsta2']\n",
    "\n",
    "plt.rcParams['figure.figsize'] = [10, 8]\n",
    "sc.set_figure_params(scanpy=True, fontsize=24)\n",
    "sc.pl.umap(\n",
    "    adata_2,\n",
    "    color=genes,\n",
    "    use_raw=False,\n",
    "    legend_loc= \"on data\",\n",
    "    color_map=\"cmo.dense\",\n",
    "    ncols=5,\n",
    "    frameon=False,\n",
    "    vmax=\"p99.5\",\n",
    "    layer=\"norm\",s=50,\n",
    "    save=False)"
   ]
  },
  {
   "cell_type": "code",
   "execution_count": null,
   "id": "70aa8cc2-90e6-4bd3-bdcb-1534f256aad2",
   "metadata": {},
   "outputs": [],
   "source": [
    "# Visualize mature iono markers Waghray et al Rajagopal paper\n",
    "genes = ['Atp6v0d1','Atp6v1b1','Atp6v0a4', 'Atp6v1c2','Atp1a1', 'Cftr','Clcnka', 'Clcnkb']\n",
    "\n",
    "plt.rcParams['figure.figsize'] = [10, 8]\n",
    "sc.set_figure_params(scanpy=True, fontsize=24)\n",
    "sc.pl.umap(\n",
    "    adata_2,\n",
    "    color=genes,\n",
    "    use_raw=False,\n",
    "    legend_loc= \"on data\",\n",
    "    color_map=\"cmo.dense\",\n",
    "    ncols=5,\n",
    "    frameon=False,\n",
    "    vmax=\"p99.5\",\n",
    "    layer=\"norm\",s=50,\n",
    "    save=False)"
   ]
  },
  {
   "cell_type": "code",
   "execution_count": null,
   "id": "7a0b6c4b-3395-41ae-88cf-c760d667113b",
   "metadata": {},
   "outputs": [],
   "source": [
    "# Dot plot for Fig. 3g\n",
    "\n",
    "more_types=[\"Trp63\",\"Krt5\",\"Krt15\",\"Krt17\",#basal\n",
    "            \"Ascl1\", \"Syp\",\"Chga\",\"Insm1\",\"Chgb\",\"Myt1\",\"Sez6\",\"Foxa2\",\"Mycl\", #NE\n",
    "              \"Neurod1\",\"Nhlh1\",\"Nhlh2\",\"Neurod2\", #neuronal\n",
    "            'Pou2f3','Trpm5','Ascl2','Lrmp','Gng13','Avil','Alox5','Atp2a3', #tuft\n",
    "              \"Cftr\", \"Ascl3\", 'Stap1','Pparg', #ionocyte\n",
    "              'Yap1','Wwtr1','Sox2','Cd44','Hes1',\"Vim\", # Stem-like/#Mesenchymal/Yap\n",
    "             \"Top2a\",\"Mki67\", \"Ube2c\",\"Aspm\", #Proliferation\n",
    "            'Myc',\"fLuc\"] #tumor markers\n",
    "\n",
    "sc.set_figure_params(scanpy=True, fontsize=17) \n",
    "sc.pl.dotplot(\n",
    "    adata_2,figsize=[15,3],\n",
    "    var_names=more_types,\n",
    "    groupby='leiden_scVI_1.2',\n",
    "    use_raw=False,\n",
    "    layer=\"norm\",show=False,\n",
    "    color_map=\"cmo.dense\", var_group_rotation=35,smallest_dot=10,dendrogram=True,\n",
    "    save=False) "
   ]
  },
  {
   "cell_type": "markdown",
   "id": "241d3052-6ce2-44de-b2b7-af1913187182",
   "metadata": {},
   "source": [
    "# Diffusion pseudotime and FA projection "
   ]
  },
  {
   "cell_type": "markdown",
   "id": "86a01787-f142-4747-ab86-f602c827fa22",
   "metadata": {},
   "source": [
    "## Fig. 4 and Ext Data Fig 6"
   ]
  },
  {
   "cell_type": "code",
   "execution_count": null,
   "id": "73101c05-89f1-4fb9-a658-0b4461f6d312",
   "metadata": {},
   "outputs": [],
   "source": [
    "######### Now do scanpy scvi pseudotime and fa projection #####"
   ]
  },
  {
   "cell_type": "code",
   "execution_count": null,
   "id": "1a8f42f1-a0b4-4ee2-8539-d6516a25fa0d",
   "metadata": {},
   "outputs": [],
   "source": [
    "adata_2=sc.read_h5ad(\"040924_adata_RPM_RPMA_TBO_newandold_scVI_2.h5ad\")"
   ]
  },
  {
   "cell_type": "code",
   "execution_count": null,
   "id": "2aa40f31-9cc0-43d8-9e3a-37377108f516",
   "metadata": {},
   "outputs": [],
   "source": [
    "# Do trajectory/cellrank on everything.."
   ]
  },
  {
   "cell_type": "code",
   "execution_count": null,
   "id": "f784583a-a180-4f6d-8abf-5e666ee4ae6d",
   "metadata": {},
   "outputs": [],
   "source": [
    "sc.tl.draw_graph(adata_2, layout=\"fa\",color=\"leiden_scVI_1.2\",\n",
    "    use_raw=False,\n",
    "    legend_loc= \"on data\",\n",
    "    color_map=\"cmo.dense\",\n",
    "    s=30,\n",
    "    frameon=False,\n",
    "    vmax=\"p99.5\",\n",
    "    layer=\"norm\",\n",
    "    save=False\n",
    ")"
   ]
  },
  {
   "cell_type": "code",
   "execution_count": null,
   "id": "c8e01d0b-5dc2-4930-9e91-82cf85effdc9",
   "metadata": {},
   "outputs": [],
   "source": [
    "sc.pl.draw_graph(adata_2, color=[\"leiden_scVI_1.2\",'Genotype'], legend_loc=\"right margin\")"
   ]
  },
  {
   "cell_type": "code",
   "execution_count": null,
   "id": "ff02ee76-4935-4bc0-85f2-c254a9eee228",
   "metadata": {},
   "outputs": [],
   "source": [
    "# Remove outliers in FA map\n",
    "test=pd.DataFrame(adata_2.obsm['X_draw_graph_fa'])\n",
    "test"
   ]
  },
  {
   "cell_type": "code",
   "execution_count": null,
   "id": "f0028e5e-6ad9-49c6-b49b-aea35644fdc3",
   "metadata": {},
   "outputs": [],
   "source": [
    "test.to_csv(\"FA_project_all.csv\")"
   ]
  },
  {
   "cell_type": "code",
   "execution_count": null,
   "id": "19394524-2e95-4675-a9d3-69ba33a7821d",
   "metadata": {},
   "outputs": [],
   "source": [
    "bc=pd.DataFrame(adata_2.obs_names)"
   ]
  },
  {
   "cell_type": "code",
   "execution_count": null,
   "id": "9f7c9d86-d73c-4a77-ba8b-dca821eb0b15",
   "metadata": {},
   "outputs": [],
   "source": [
    "bc.to_csv(\"FA_barcodes_all.csv\")"
   ]
  },
  {
   "cell_type": "code",
   "execution_count": null,
   "id": "7411f277-46e1-4682-891d-bf9a01a904c5",
   "metadata": {},
   "outputs": [],
   "source": [
    "bc=['TCTACATCAGTCAACT-1',\n",
    "'AGGCTGCCAAACCATC-1',\n",
    "'AGATAGAAGTCAGGGT-1',\n",
    "'TTGCCTGAGGAGTATT-1',\n",
    "'TGAGACTAGCTCCACG-1',\n",
    "'TGCTGAACAAGTGGCA-1',\n",
    "'GAGAGGTAGTAGAGTT-1',\n",
    "'GTTAGACGTTTGGCTA-1',\n",
    "'CATTTCAAGAAGCGGG-1',\n",
    "'TACCTGCTCCACCTGT-1',\n",
    "'TTCACGCGTACAAACA-1',\n",
    "'CATTCATCAGGAGGTT-1',\n",
    "'GACTTCCTCGTGCAGC-1',\n",
    "'GCCATTCAGTCACGAG-1']\n",
    "\n",
    "\n",
    "#Filter out other clusters\n",
    "to_keep=(~adata_2.obs_names.isin(bc))\n",
    "\n",
    "#Copy over to new anndata object\n",
    "sub = adata_2[to_keep].copy()"
   ]
  },
  {
   "cell_type": "code",
   "execution_count": null,
   "id": "2212920e-eecc-4707-b846-d739e3829dcd",
   "metadata": {},
   "outputs": [],
   "source": [
    "sub.obs_names_make_unique()"
   ]
  },
  {
   "cell_type": "code",
   "execution_count": null,
   "id": "f1eea734-0ee2-43de-98fa-b4628cebedc0",
   "metadata": {},
   "outputs": [],
   "source": [
    "sc.tl.draw_graph(sub, layout=\"fa\",color=\"leiden_scVI_1.2\",\n",
    "    use_raw=False,\n",
    "    legend_loc= \"on data\",\n",
    "    color_map=\"cmo.dense\",\n",
    "    s=30,\n",
    "    frameon=False,\n",
    "    vmax=\"p99.5\",\n",
    "    layer=\"norm\",\n",
    "    save=False\n",
    ")"
   ]
  },
  {
   "cell_type": "code",
   "execution_count": null,
   "id": "7e120811-fae8-4f5f-9643-e848db4df79f",
   "metadata": {},
   "outputs": [],
   "source": [
    "sc.pl.draw_graph(sub, color=[\"leiden_scVI_1.2\",'Genotype'], legend_loc=\"right margin\")"
   ]
  },
  {
   "cell_type": "code",
   "execution_count": null,
   "id": "d7ec7f1c-3ad9-4e59-863a-d2f70e658a7a",
   "metadata": {},
   "outputs": [],
   "source": [
    "sub.uns['iroot'] = np.flatnonzero(sub.obs['leiden_scVI_1.2']  == '10')[0]\n",
    "\n",
    "sc.tl.dpt(sub)\n",
    "sc.pl.draw_graph(sub, color=['leiden_scVI_1.2', 'dpt_pseudotime','Genotype'], legend_loc='right margin', color_map=\"viridis\")"
   ]
  },
  {
   "cell_type": "code",
   "execution_count": null,
   "id": "5cee3eab-8267-4e78-baf0-2058e4c3616e",
   "metadata": {},
   "outputs": [],
   "source": [
    "# Write data to add to R/Seurat analyses\n",
    "sub.write_h5ad(\"092824_RPM_RPMA_Allo_dpt_cellrank2.h5ad\")"
   ]
  },
  {
   "cell_type": "code",
   "execution_count": null,
   "id": "6f9d989c-e18e-4c31-a6c8-40d3b2c61139",
   "metadata": {},
   "outputs": [],
   "source": [
    "sub=sc.read_h5ad(\"092824_RPM_RPMA_Allo_dpt_cellrank2.h5ad\")"
   ]
  },
  {
   "cell_type": "code",
   "execution_count": null,
   "id": "2b8cc900-6689-4797-9a2c-04f35890ce3b",
   "metadata": {},
   "outputs": [],
   "source": [
    "sc.pl.draw_graph(sub, color=['Ascl1', 'Neurod1','Pou2f3','Yap1'], legend_loc='right margin', color_map=\"cmo.dense\", layer='norm',s=60)"
   ]
  },
  {
   "cell_type": "code",
   "execution_count": null,
   "id": "3a84a497-627d-415c-b33e-7347b5c15c07",
   "metadata": {},
   "outputs": [],
   "source": [
    "sc.pl.draw_graph(sub, color=['leiden_scVI_1.2', 'Yap1','Genotype'], legend_loc='right margin', color_map=\"cmo.dense\")"
   ]
  },
  {
   "cell_type": "code",
   "execution_count": null,
   "id": "85c50cdd-9940-410e-9a35-88e60ce40497",
   "metadata": {
    "tags": []
   },
   "outputs": [],
   "source": [
    "adata_2\n",
    "#Generate signatures \n",
    "sc.pp.normalize_total(adata_2)\n",
    "sc.pp.log1p(adata_2)\n",
    "sc.tl.rank_genes_groups(adata_2, 'leiden_scVI_1.2', method='t-test')\n"
   ]
  },
  {
   "cell_type": "code",
   "execution_count": null,
   "id": "12d4ba0e-18c3-4a34-9392-c757ddb3f035",
   "metadata": {},
   "outputs": [],
   "source": [
    "sc.pl.rank_genes_groups(adata_2, n_genes=20, sharey=False)"
   ]
  },
  {
   "cell_type": "code",
   "execution_count": null,
   "id": "227f9927-0c13-4f28-94a6-2d6e9b588f09",
   "metadata": {},
   "outputs": [],
   "source": [
    "# Extract top 500 marker genes for leiden clusters from data \n",
    "sc.tl.rank_genes_groups(adata_2,'leiden_scVI_1.2', method='wilcoxon', n_genes=500)\n",
    "\n",
    "result = adata_2.uns['rank_genes_groups']\n",
    "groups = result['names'].dtype.names\n",
    "markergenes=pd.DataFrame(\n",
    "    {group + '_' + key[:1]: result[key][group]\n",
    "    for group in groups for key in ['names', 'pvals']})"
   ]
  },
  {
   "cell_type": "code",
   "execution_count": null,
   "id": "b5591cc6-94aa-4106-8f02-673d57a2b8da",
   "metadata": {},
   "outputs": [],
   "source": [
    "markergenes.to_csv('/hpc/home/asi16/leiden_TBOAllo_scRNAseq_100724.csv' )"
   ]
  },
  {
   "cell_type": "markdown",
   "id": "88272767-6294-4a1b-bc90-b37db95b9077",
   "metadata": {},
   "source": [
    "# Perform CellRank on dpt"
   ]
  },
  {
   "cell_type": "markdown",
   "id": "4ce0f524-07fe-496b-90ef-bae3f5c3f55d",
   "metadata": {},
   "source": [
    "## Fig 4 and Ext Data Fig 6"
   ]
  },
  {
   "cell_type": "code",
   "execution_count": null,
   "id": "db93beb1-c16c-4f7f-afab-4f9c20895733",
   "metadata": {},
   "outputs": [],
   "source": [
    "# Perform cellrank for likelihoods\n",
    "import cellrank as cr\n",
    "\n",
    "sc.settings.set_figure_params(frameon=False, dpi=100)\n",
    "cr.settings.verbosity = 2"
   ]
  },
  {
   "cell_type": "code",
   "execution_count": null,
   "id": "67700a49-01f7-4d7c-b585-0d7aa91c88b3",
   "metadata": {},
   "outputs": [],
   "source": [
    "import warnings\n",
    "\n",
    "warnings.simplefilter(\"ignore\", category=UserWarning)"
   ]
  },
  {
   "cell_type": "code",
   "execution_count": null,
   "id": "c0a8e657-c9a3-452d-901d-a3c9679f78ec",
   "metadata": {},
   "outputs": [],
   "source": [
    "from cellrank.kernels import PseudotimeKernel"
   ]
  },
  {
   "cell_type": "code",
   "execution_count": null,
   "id": "ee3d67c1-197f-471d-86d3-0c8ea725417b",
   "metadata": {},
   "outputs": [],
   "source": [
    "pk = PseudotimeKernel(sub, time_key=\"dpt_pseudotime\")\n",
    "pk"
   ]
  },
  {
   "cell_type": "code",
   "execution_count": null,
   "id": "932e8ad6-66f1-4661-a0de-8bc6f9e5d5ff",
   "metadata": {},
   "outputs": [],
   "source": [
    "pk.compute_transition_matrix()"
   ]
  },
  {
   "cell_type": "code",
   "execution_count": null,
   "id": "f2a611bb-bc60-4ccf-b095-5e2eae1929a5",
   "metadata": {
    "tags": []
   },
   "outputs": [],
   "source": [
    "# visualize random walks on Markov chain starting with basal=like cells\n",
    "pk.plot_random_walks(\n",
    "    seed=0,\n",
    "    n_sims=150,\n",
    "    basis=\"X_draw_graph_fa\",\n",
    "    start_ixs={\"leiden_scVI_1.2\": \"10\"},\n",
    "    legend_loc=\"right\",\n",
    "    dpi=150,\n",
    ")"
   ]
  },
  {
   "cell_type": "code",
   "execution_count": null,
   "id": "90cf47e7-3bfd-4536-b172-1e4677406765",
   "metadata": {},
   "outputs": [],
   "source": [
    "from cellrank.estimators import GPCCA\n",
    "g = GPCCA(pk)\n",
    "print(g)"
   ]
  },
  {
   "cell_type": "code",
   "execution_count": null,
   "id": "9f228238-6fdd-4b57-bfd0-d62fe60c2916",
   "metadata": {
    "tags": []
   },
   "outputs": [],
   "source": [
    "g.compute_schur()\n",
    "g.plot_spectrum(real_only=True)"
   ]
  },
  {
   "cell_type": "code",
   "execution_count": null,
   "id": "7c811008-dd3b-4f18-8e02-5ae9bca5f53c",
   "metadata": {},
   "outputs": [],
   "source": [
    "g.fit(n_states=11, cluster_key=\"leiden_scVI_1.2\")\n",
    "g.plot_macrostates(which=\"all\",basis='X_draw_graph_fa')"
   ]
  },
  {
   "cell_type": "code",
   "execution_count": null,
   "id": "e02ef1a1-7afb-4cd4-88ea-c1603fdf2a3e",
   "metadata": {},
   "outputs": [],
   "source": [
    "g.set_initial_states(states=[\"10\"])"
   ]
  },
  {
   "cell_type": "code",
   "execution_count": null,
   "id": "c85a9410-0aae-496a-93f7-ed09fc75a473",
   "metadata": {},
   "outputs": [],
   "source": [
    "g.predict_terminal_states(allow_overlap=True)\n",
    "g.plot_macrostates(which=\"terminal\",basis='X_draw_graph_fa')"
   ]
  },
  {
   "cell_type": "code",
   "execution_count": null,
   "id": "d9a15cb5-4b1f-4466-a05c-83641119a901",
   "metadata": {},
   "outputs": [],
   "source": [
    "# How likely it is for each cell to reach its terminal state\n",
    "g.compute_fate_probabilities()"
   ]
  },
  {
   "cell_type": "code",
   "execution_count": null,
   "id": "9add5351-2e12-40ee-9f7d-130fe85e0405",
   "metadata": {
    "tags": []
   },
   "outputs": [],
   "source": [
    "g.plot_fate_probabilities(legend_loc=\"right\",basis=\"X_draw_graph_fa\")\n",
    "                          #palette=['turquoise','#00868b','#00868b','orange','red','#00868b','blue','blue','purple','#00868b',\"#00868b\"])"
   ]
  },
  {
   "cell_type": "code",
   "execution_count": null,
   "id": "ab5047e4-1a98-43f8-ada0-8d1244c41f15",
   "metadata": {
    "tags": []
   },
   "outputs": [],
   "source": [
    "cr.pl.circular_projection(sub, keys=\"leiden_scVI_1.2\", legend_loc=\"right\",palette=['#00868b','#00868b','purple','red','blue','#00868b','#00868b','#00868b','#00868b','blue','turquoise','orange'])"
   ]
  },
  {
   "cell_type": "code",
   "execution_count": null,
   "id": "bdc21959-1b1f-42f3-9a2d-df442588e04f",
   "metadata": {},
   "outputs": [],
   "source": [
    "ne_drivers = g.compute_lineage_drivers(lineages=\"3\")\n",
    "ne_drivers.head(50)\n",
    "ne_drivers.to_csv(\"ne_drivers_rpm_rpma.csv\")\n"
   ]
  },
  {
   "cell_type": "code",
   "execution_count": null,
   "id": "b57c1d06-4499-46ab-ac25-e4b78313e04e",
   "metadata": {
    "tags": []
   },
   "outputs": [],
   "source": [
    "ne_drivers.head(50)"
   ]
  },
  {
   "cell_type": "code",
   "execution_count": null,
   "id": "5d046f09-8f71-465e-90c8-e366d814fd78",
   "metadata": {
    "tags": []
   },
   "outputs": [],
   "source": [
    "tuft_drivers = g.compute_lineage_drivers(lineages=\"11\")\n",
    "tuft_drivers.head(50)\n"
   ]
  },
  {
   "cell_type": "code",
   "execution_count": null,
   "id": "20580146-24f6-41c7-9335-c497a89e63b4",
   "metadata": {},
   "outputs": [],
   "source": [
    "tuft_drivers.to_csv(\"tuft_drivers_rpm_rpma.csv\")"
   ]
  },
  {
   "cell_type": "code",
   "execution_count": null,
   "id": "d51eb4d0-9a2b-4639-b945-1831efd8cbab",
   "metadata": {
    "tags": []
   },
   "outputs": [],
   "source": [
    "n_drivers = g.compute_lineage_drivers(lineages=\"9\")\n",
    "n_drivers.head(50)"
   ]
  },
  {
   "cell_type": "code",
   "execution_count": null,
   "id": "6a1b676d-8a53-438b-9459-ee784072a36c",
   "metadata": {},
   "outputs": [],
   "source": [
    "n_drivers.to_csv(\"n_drivers_rpm_rpma.csv\")"
   ]
  },
  {
   "cell_type": "code",
   "execution_count": null,
   "id": "4341e8b3-fa3e-43fa-9f20-7d1b736b80b4",
   "metadata": {
    "tags": []
   },
   "outputs": [],
   "source": [
    "b_drivers = g.compute_lineage_drivers(lineages=\"10\")\n",
    "b_drivers.head(50)"
   ]
  },
  {
   "cell_type": "code",
   "execution_count": null,
   "id": "7b083d90-059a-4cb1-bb62-8c867c7fe281",
   "metadata": {},
   "outputs": [],
   "source": [
    "b_drivers.to_csv(\"basal_drivers_rpm_rpma.csv\")"
   ]
  },
  {
   "cell_type": "code",
   "execution_count": null,
   "id": "d61b249a-a4bd-4869-8cbe-c1aa393b39dd",
   "metadata": {
    "tags": []
   },
   "outputs": [],
   "source": [
    "an_drivers = g.compute_lineage_drivers(lineages=\"2\")\n",
    "an_drivers.head(50)"
   ]
  },
  {
   "cell_type": "code",
   "execution_count": null,
   "id": "a465bb8b-7bf4-403f-badc-4fe3c90bb8bf",
   "metadata": {},
   "outputs": [],
   "source": [
    "an_drivers.to_csv(\"AN_drivers_rpm_rpma.csv\")"
   ]
  },
  {
   "cell_type": "code",
   "execution_count": null,
   "id": "29c78436-ef53-4c55-8edb-3d0edd873dad",
   "metadata": {
    "tags": []
   },
   "outputs": [],
   "source": [
    "drivers8 = g.compute_lineage_drivers(lineages=\"8\")\n",
    "drivers8.head(50)"
   ]
  },
  {
   "cell_type": "code",
   "execution_count": null,
   "id": "30efbdc8-7cfa-40e8-b571-c587105d0716",
   "metadata": {},
   "outputs": [],
   "source": [
    "drivers8.to_csv(\"C8_drivers_iono_rpm_rpma.csv\")"
   ]
  },
  {
   "cell_type": "code",
   "execution_count": null,
   "id": "ccba017e-08e8-49c5-8761-4f6832a40824",
   "metadata": {
    "tags": []
   },
   "outputs": [],
   "source": [
    "TN_drivers = g.compute_lineage_drivers(lineages=[\"6\"])\n",
    "TN_drivers.head(50)\n"
   ]
  },
  {
   "cell_type": "code",
   "execution_count": null,
   "id": "9b46ac86-5ddf-489b-938c-09e3dc048a9f",
   "metadata": {},
   "outputs": [],
   "source": [
    "TN_drivers.to_csv(\"TN_drivers_c6_rpm_rpma.csv\")\n"
   ]
  },
  {
   "cell_type": "code",
   "execution_count": null,
   "id": "c37c268c-9c71-44d1-8f6f-fc11b3dba081",
   "metadata": {
    "tags": []
   },
   "outputs": [],
   "source": [
    "all_drivers = g.compute_lineage_drivers()\n",
    "all_drivers.head(50)"
   ]
  },
  {
   "cell_type": "code",
   "execution_count": null,
   "id": "c5c94d9e-d040-4b92-959e-87c54a2e954e",
   "metadata": {},
   "outputs": [],
   "source": [
    "all_drivers.to_csv(\"092824_AllDrivers_RPM_RPMA_Allo_CellRank.csv\")"
   ]
  },
  {
   "cell_type": "code",
   "execution_count": null,
   "id": "e8bd018b-6238-4d8d-a6d4-404286027ea9",
   "metadata": {},
   "outputs": [],
   "source": [
    "model = cr.models.GAM(sub, max_iter=6000)"
   ]
  },
  {
   "cell_type": "code",
   "execution_count": null,
   "id": "3b9fe0a4-4cb2-4d5e-874b-9944cc22dfd0",
   "metadata": {
    "tags": []
   },
   "outputs": [],
   "source": [
    "# compute putative drivers for the tuft trajectory\n",
    "tuft_drivers = g.compute_lineage_drivers(lineages=\"11\")\n",
    "genes=tuft_drivers.head(50).index\n",
    "\n",
    "# plot heatmap\n",
    "cr.pl.heatmap(\n",
    "    sub,\n",
    "    model=model,lineages=[\"11\"],\n",
    "    data_key=\"norm\",\n",
    "    genes=genes,\n",
    "    time_key=\"dpt_pseudotime\",\n",
    "    cbar=False,\n",
    "    show_all_genes=True\n",
    ")"
   ]
  },
  {
   "cell_type": "code",
   "execution_count": null,
   "id": "9916546e-14df-44fb-945a-481031762cda",
   "metadata": {
    "tags": []
   },
   "outputs": [],
   "source": [
    "# plot heatmap\n",
    "cr.pl.heatmap(\n",
    "    sub,\n",
    "    model=model,lineages=[\"11\"],\n",
    "    data_key=\"norm\",\n",
    "    genes=genes,\n",
    "    time_key=\"dpt_pseudotime\",\n",
    "    show_all_genes=True, cluster_key=\"leiden_scVI_1.2\", figsize=(12, 16))\n"
   ]
  },
  {
   "cell_type": "code",
   "execution_count": null,
   "id": "4e4c0679-daa1-4bd5-ad5c-473ee342e3b3",
   "metadata": {},
   "outputs": [],
   "source": [
    "# compute putative drivers for the basal trajectory\n",
    "basal_drivers = g.compute_lineage_drivers(lineages=\"8\")\n",
    "genes=basal_drivers.head(50).index\n",
    "\n",
    "# plot heatmap\n",
    "cr.pl.heatmap(\n",
    "    sub,\n",
    "    model=model,lineages=[\"8\"],\n",
    "    data_key=\"norm\",\n",
    "    genes=genes, cbar=False,\n",
    "    time_key=\"dpt_pseudotime\",\n",
    "    show_fate_probabilities=True,\n",
    "    show_all_genes=True, cluster_key=\"leiden_scVI_1.2\", figsize=(10, 15), save=\"c8_drivers.png\")"
   ]
  },
  {
   "cell_type": "code",
   "execution_count": null,
   "id": "e40961e7-1acb-4828-a381-7631039dfa87",
   "metadata": {},
   "outputs": [],
   "source": [
    "# compute putative drivers for the basal trajectory\n",
    "basal_drivers = g.compute_lineage_drivers(lineages=\"5_1\")\n",
    "genes=basal_drivers.head(50).index\n",
    "\n",
    "# plot heatmap\n",
    "cr.pl.heatmap(\n",
    "    sub,\n",
    "    model=model,lineages=[\"5_1\"],\n",
    "    data_key=\"norm\",\n",
    "    genes=genes, cbar=False,\n",
    "    time_key=\"dpt_pseudotime\",\n",
    "    show_fate_probabilities=True,\n",
    "    show_all_genes=True, cluster_key=\"leiden_scVI_1.2\", figsize=(10, 15), save=\"c5smg_drivers.png\")"
   ]
  },
  {
   "cell_type": "code",
   "execution_count": null,
   "id": "88260408-a636-4770-8f81-b8e51ec4da47",
   "metadata": {},
   "outputs": [],
   "source": [
    "# compute putative drivers for the basal trajectory\n",
    "basal_drivers = g.compute_lineage_drivers(lineages=\"5_2\")\n",
    "genes=basal_drivers.head(50).index\n",
    "\n",
    "# plot heatmap\n",
    "cr.pl.heatmap(\n",
    "    sub,\n",
    "    model=model,lineages=[\"5_2\"],\n",
    "    data_key=\"norm\",\n",
    "    genes=genes, cbar=False,\n",
    "    time_key=\"dpt_pseudotime\",\n",
    "    show_fate_probabilities=True,\n",
    "    show_all_genes=True, cluster_key=\"leiden_scVI_1.2\", figsize=(10, 15), save=\"c5_2_smg_drivers.png\")"
   ]
  },
  {
   "cell_type": "code",
   "execution_count": null,
   "id": "f49efd1f-5e64-4dd8-b35b-e996c4e26c57",
   "metadata": {},
   "outputs": [],
   "source": [
    "# compute putative drivers for the basal trajectory\n",
    "basal_drivers = g.compute_lineage_drivers(lineages=\"10\")\n",
    "genes=basal_drivers.head(50).index\n",
    "\n",
    "# plot heatmap\n",
    "cr.pl.heatmap(\n",
    "    sub,\n",
    "    model=model,lineages=[\"10\"],\n",
    "    data_key=\"norm\",\n",
    "    genes=genes, cbar=False,\n",
    "    time_key=\"dpt_pseudotime\",\n",
    "    show_fate_probabilities=True,\n",
    "    show_all_genes=True, cluster_key=\"leiden_scVI_1.2\", figsize=(10, 15), save=\"basal_drivers.png\")"
   ]
  },
  {
   "cell_type": "code",
   "execution_count": null,
   "id": "ab8d130b-177f-443f-8b3f-70018be1e363",
   "metadata": {},
   "outputs": [],
   "source": [
    "# compute putative drivers for the tuft trajectory\n",
    "tuft_drivers = g.compute_lineage_drivers(lineages=\"11\")\n",
    "genes=tuft_drivers.head(50).index\n",
    "\n",
    "# plot heatmap\n",
    "cr.pl.heatmap(\n",
    "    sub,\n",
    "    model=model,lineages=[\"11\"],\n",
    "    data_key=\"norm\",\n",
    "    genes=genes, cbar=False,\n",
    "    time_key=\"dpt_pseudotime\",\n",
    "    show_fate_probabilities=True,\n",
    "    show_all_genes=True, cluster_key=\"leiden_scVI_1.2\", figsize=(10, 15), save=\"Tuft_Drivers.png\")"
   ]
  },
  {
   "cell_type": "code",
   "execution_count": null,
   "id": "02f7c6fa-5f5f-4885-a9b1-3bb688f83bfd",
   "metadata": {},
   "outputs": [],
   "source": [
    "model = cr.models.GAM(sub, max_iter=20000)"
   ]
  },
  {
   "cell_type": "code",
   "execution_count": null,
   "id": "82b31f5b-d9ee-4b32-859a-3045865665de",
   "metadata": {},
   "outputs": [],
   "source": [
    "a_drivers = g.compute_lineage_drivers(lineages=\"3\")\n",
    "genes=a_drivers.head(50).index\n",
    "\n",
    "# compute putative drivers for the tuft trajectory\n",
    "# plot heatmap\n",
    "cr.pl.heatmap(\n",
    "    sub,\n",
    "    model=model,lineages=[\"3\"],\n",
    "    data_key=\"norm\",\n",
    "    genes=genes,cbar=False,\n",
    "    show_fate_probabilities=True,\n",
    "    time_key=\"dpt_pseudotime\",\n",
    "    show_all_genes=True, cluster_key=\"leiden_scVI_1.2\", figsize=(10, 15),save=\"a_drivers.png\")"
   ]
  },
  {
   "cell_type": "code",
   "execution_count": null,
   "id": "d5c9390d-ffe4-4ea7-b828-3d1d81067428",
   "metadata": {},
   "outputs": [],
   "source": [
    "# compute putative drivers for the tuft trajectory\n",
    "an_drivers = g.compute_lineage_drivers(lineages=\"2\")\n",
    "genes=an_drivers.head(200).index\n",
    "\n",
    "# plot heatmap\n",
    "cr.pl.heatmap(\n",
    "    sub,\n",
    "    model=model,lineages=[\"2\"],\n",
    "    data_key=\"norm\",\n",
    "    show_fate_probabilities=True,\n",
    "    genes=genes,cbar=False,\n",
    "    time_key=\"dpt_pseudotime\",\n",
    "    show_all_genes=True, cluster_key=\"leiden_scVI_1.2\", figsize=(10, 15),save=\"an_drivers.png\")"
   ]
  },
  {
   "cell_type": "code",
   "execution_count": null,
   "id": "bc7a5282-e3ca-41c4-b0ec-5a1cd09ecb70",
   "metadata": {},
   "outputs": [],
   "source": [
    "# compute putative drivers for the tuft trajectory\n",
    "n_drivers = g.compute_lineage_drivers(lineages=\"4\")\n",
    "genes=n_drivers.head(50).index\n",
    "\n",
    "# plot heatmap\n",
    "cr.pl.heatmap(\n",
    "    sub,\n",
    "    model=model,lineages=[\"4\"],\n",
    "    data_key=\"norm\",\n",
    "    show_fate_probabilities=True,\n",
    "    genes=genes,cbar=False,\n",
    "    time_key=\"dpt_pseudotime\",\n",
    "    show_all_genes=True, cluster_key=\"leiden_scVI_1.2\", figsize=(10, 15),save=\"n4_drivers.png\")"
   ]
  },
  {
   "cell_type": "code",
   "execution_count": null,
   "id": "ec272418-bdab-46c7-816d-e846ec26a076",
   "metadata": {},
   "outputs": [],
   "source": [
    "# compute putative drivers for the tuft trajectory\n",
    "n_drivers = g.compute_lineage_drivers(lineages=\"9\")\n",
    "genes=n_drivers.head(200).index\n",
    "\n",
    "# plot heatmap\n",
    "cr.pl.heatmap(\n",
    "    sub,\n",
    "    model=model,lineages=[\"9\"],\n",
    "    data_key=\"norm\",\n",
    "    show_fate_probabilities=True,\n",
    "    genes=genes,cbar=False,\n",
    "    time_key=\"dpt_pseudotime\",\n",
    "    show_all_genes=True, cluster_key=\"leiden_scVI_1.2\", figsize=(10, 15),save=\"n9_drivers.png\")"
   ]
  },
  {
   "cell_type": "code",
   "execution_count": null,
   "id": "dec34843-f707-4397-ac73-61178fb7e357",
   "metadata": {},
   "outputs": [],
   "source": [
    "# compute putative drivers for the tuft trajectory\n",
    "tn_drivers = g.compute_lineage_drivers(lineages=\"6\")\n",
    "genes=tn_drivers.head(50).index\n",
    "\n",
    "# plot heatmap\n",
    "cr.pl.heatmap(\n",
    "    sub,\n",
    "    model=model,lineages=[\"6\"],\n",
    "    data_key=\"norm\",\n",
    "    genes=genes,cbar=False,\n",
    "    show_fate_probabilities=True,\n",
    "    time_key=\"dpt_pseudotime\",\n",
    "    show_all_genes=True, cluster_key=\"leiden_scVI_1.2\", figsize=(10, 15),save=\"tn6_drivers.png\")"
   ]
  },
  {
   "cell_type": "code",
   "execution_count": null,
   "id": "5fe5cc0e-ba88-433c-ab36-43196be7c160",
   "metadata": {},
   "outputs": [],
   "source": [
    "# compute putative drivers for the tuft trajectory\n",
    "tn_drivers = g.compute_lineage_drivers(lineages=\"0\")\n",
    "genes=tn_drivers.head(50).index\n",
    "\n",
    "# plot heatmap\n",
    "cr.pl.heatmap(\n",
    "    sub,\n",
    "    model=model,lineages=[\"0\"],\n",
    "    data_key=\"norm\",\n",
    "    genes=genes,cbar=False,\n",
    "    show_fate_probabilities=True,\n",
    "    time_key=\"dpt_pseudotime\",\n",
    "    show_all_genes=True, cluster_key=\"leiden_scVI_1.2\", figsize=(10, 15),save=\"tn0_drivers.png\")"
   ]
  },
  {
   "cell_type": "code",
   "execution_count": null,
   "id": "76d8d011-c591-41d1-8562-95c7ab5b038d",
   "metadata": {},
   "outputs": [],
   "source": [
    "genes"
   ]
  },
  {
   "cell_type": "markdown",
   "id": "56e59a5c-f16a-411d-9040-8211bb3a4b56",
   "metadata": {},
   "source": [
    "## Done"
   ]
  },
  {
   "cell_type": "code",
   "execution_count": null,
   "id": "f293b879-904f-4b4f-a59a-aa521db89594",
   "metadata": {},
   "outputs": [],
   "source": []
  }
 ],
 "metadata": {
  "kernelspec": {
   "display_name": "Python 3",
   "language": "python",
   "name": "python3"
  },
  "language_info": {
   "codemirror_mode": {
    "name": "ipython",
    "version": 3
   },
   "file_extension": ".py",
   "mimetype": "text/x-python",
   "name": "python",
   "nbconvert_exporter": "python",
   "pygments_lexer": "ipython3",
   "version": "3.8.8"
  }
 },
 "nbformat": 4,
 "nbformat_minor": 5
}
